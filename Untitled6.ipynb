{
 "cells": [
  {
   "cell_type": "code",
   "execution_count": 4,
   "metadata": {},
   "outputs": [
    {
     "name": "stdout",
     "output_type": "stream",
     "text": [
      "Overwriting DepressionApp.py\n"
     ]
    }
   ],
   "source": [
    "%%writefile DepressionApp.py\n",
    "\n",
    "import numpy as np\n",
    "import pandas as pd\n",
    "import streamlit as st\n",
    "import pickle\n",
    "from PIL import Image\n",
    "import nltk\n",
    "\n",
    "#combined_data = pd.read_csv('combined_data.csv')\n",
    "\n",
    "import string\n",
    "from nltk.corpus import stopwords\n",
    "def text_process(mess):\n",
    "    \"\"\"\n",
    "    Takes in a string of text, then performs the following:\n",
    "    1. Remove all punctuation\n",
    "    2. Remove all stopwords\n",
    "    3. Returns a list of the cleaned text\n",
    "    \"\"\"\n",
    "    # Check characters to see if they are in punctuation\n",
    "    nopunc = [char for char in mess if char not in string.punctuation]\n",
    "\n",
    "    # Join the characters again to form the string.\n",
    "    nopunc = ''.join(nopunc)\n",
    "    \n",
    "    # Now just remove any stopwords\n",
    "    return [word for word in nopunc.split() if word.lower() not in stopwords.words('english')]\n",
    "\n",
    "#txtproc = pickle.load(open('text_process.pkl', 'rb'))\n",
    "combined_data = pickle.load(open('combined_data.pkl', 'rb')) \n",
    "from sklearn.feature_extraction.text import CountVectorizer\n",
    "cv = CountVectorizer(analyzer= text_process).fit(combined_data['tweet'])\n",
    "\n",
    "\n",
    "######################\n",
    "# Page Title\n",
    "######################\n",
    "\n",
    "image = Image.open('depression.jpg')\n",
    "\n",
    "st.image(image, use_column_width=True)\n",
    "\n",
    "st.write(\"\"\"\n",
    "# Depression Predictor App\n",
    "This app predicts the likelihood of a quotes to being **Depressive or not**\n",
    "\"\"\")\n",
    "\n",
    "\n",
    "######################\n",
    "#(Side Panel)\n",
    "######################\n",
    "\n",
    "st.sidebar.header('User Input Tweets / Quotes')\n",
    "\n",
    "## Read SMILES input\n",
    "tweet_input = \"I am very sad\"\n",
    "\n",
    "tweets = st.sidebar.text_area(\"Tweet input\", tweet_input)\n",
    "tweets = \"C\\n\" + tweets #Adds C as a dummy, first item\n",
    "tweets = tweets.split('\\n')\n",
    "\n",
    "st.header('Input Tweet / Quote' )\n",
    "tweets[1:] # Skips the dummy first item\n",
    "\n",
    "## Calculate depressive descriptors\n",
    "st.header('Predicted Tweets / Quotes')\n",
    "#cv = CountVectorizer(analyzer= text_process).fit(combined_data['tweet'])\n",
    "#bagofwords = cv.transform(combined_data['tweet'])\n",
    "#cv = CountVectorizer(analyzer= text_process).fit(tweets[1:])\n",
    "bagofwords = cv.transform(pd.Series(tweets[1:]))\n",
    "from sklearn.feature_extraction.text import TfidfTransformer\n",
    "tfidff = TfidfTransformer().fit_transform(bagofwords)\n",
    "\n",
    "######################\n",
    "# Pre-built model\n",
    "######################\n",
    "\n",
    "# Reads in saved model\n",
    "load_model = pickle.load(open('model.pkl', 'rb'))\n",
    "# Apply model to make predictions\n",
    "prediction = load_model.predict(tfidff)\n",
    "prediction"
   ]
  },
  {
   "cell_type": "code",
   "execution_count": null,
   "metadata": {},
   "outputs": [],
   "source": []
  },
  {
   "cell_type": "code",
   "execution_count": null,
   "metadata": {},
   "outputs": [],
   "source": []
  }
 ],
 "metadata": {
  "kernelspec": {
   "display_name": "Python 3",
   "language": "python",
   "name": "python3"
  },
  "language_info": {
   "codemirror_mode": {
    "name": "ipython",
    "version": 3
   },
   "file_extension": ".py",
   "mimetype": "text/x-python",
   "name": "python",
   "nbconvert_exporter": "python",
   "pygments_lexer": "ipython3",
   "version": "3.8.3"
  }
 },
 "nbformat": 4,
 "nbformat_minor": 4
}
