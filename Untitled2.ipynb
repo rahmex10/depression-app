{
 "cells": [
  {
   "cell_type": "code",
   "execution_count": 1,
   "metadata": {},
   "outputs": [
    {
     "name": "stderr",
     "output_type": "stream",
     "text": [
      "2022-09-27 11:12:59.824 \n",
      "  \u001b[33m\u001b[1mWarning:\u001b[0m to view this Streamlit app on a browser, run it with the following\n",
      "  command:\n",
      "\n",
      "    streamlit run C:\\ProgramData\\Anaconda3\\lib\\site-packages\\ipykernel_launcher.py [ARGUMENTS]\n"
     ]
    },
    {
     "ename": "AttributeError",
     "evalue": "Can't get attribute 'text_process' on <module '__main__'>",
     "output_type": "error",
     "traceback": [
      "\u001b[1;31m---------------------------------------------------------------------------\u001b[0m",
      "\u001b[1;31mAttributeError\u001b[0m                            Traceback (most recent call last)",
      "\u001b[1;32m<ipython-input-1-555dc4805557>\u001b[0m in \u001b[0;36m<module>\u001b[1;34m\u001b[0m\n\u001b[0;32m     47\u001b[0m \u001b[1;31m#bagofwords = cv.transform(combined_data['tweet'])\u001b[0m\u001b[1;33m\u001b[0m\u001b[1;33m\u001b[0m\u001b[1;33m\u001b[0m\u001b[0m\n\u001b[0;32m     48\u001b[0m \u001b[1;31m#cv = CountVectorizer(analyzer= text_process).fit(tweets[1:])\u001b[0m\u001b[1;33m\u001b[0m\u001b[1;33m\u001b[0m\u001b[1;33m\u001b[0m\u001b[0m\n\u001b[1;32m---> 49\u001b[1;33m \u001b[0mcv\u001b[0m \u001b[1;33m=\u001b[0m \u001b[0mpickle\u001b[0m\u001b[1;33m.\u001b[0m\u001b[0mload\u001b[0m\u001b[1;33m(\u001b[0m\u001b[0mopen\u001b[0m\u001b[1;33m(\u001b[0m\u001b[1;34m'CountVectorizer.pkl'\u001b[0m\u001b[1;33m,\u001b[0m \u001b[1;34m'rb'\u001b[0m\u001b[1;33m)\u001b[0m\u001b[1;33m)\u001b[0m\u001b[1;33m\u001b[0m\u001b[1;33m\u001b[0m\u001b[0m\n\u001b[0m\u001b[0;32m     50\u001b[0m \u001b[0mbagofwords\u001b[0m \u001b[1;33m=\u001b[0m \u001b[0mcv\u001b[0m\u001b[1;33m.\u001b[0m\u001b[0mtransform\u001b[0m\u001b[1;33m(\u001b[0m\u001b[0mpd\u001b[0m\u001b[1;33m.\u001b[0m\u001b[0mSeries\u001b[0m\u001b[1;33m(\u001b[0m\u001b[0mtweets\u001b[0m\u001b[1;33m[\u001b[0m\u001b[1;36m1\u001b[0m\u001b[1;33m:\u001b[0m\u001b[1;33m]\u001b[0m\u001b[1;33m)\u001b[0m\u001b[1;33m)\u001b[0m\u001b[1;33m\u001b[0m\u001b[1;33m\u001b[0m\u001b[0m\n\u001b[0;32m     51\u001b[0m \u001b[1;32mfrom\u001b[0m \u001b[0msklearn\u001b[0m\u001b[1;33m.\u001b[0m\u001b[0mfeature_extraction\u001b[0m\u001b[1;33m.\u001b[0m\u001b[0mtext\u001b[0m \u001b[1;32mimport\u001b[0m \u001b[0mTfidfTransformer\u001b[0m\u001b[1;33m\u001b[0m\u001b[1;33m\u001b[0m\u001b[0m\n",
      "\u001b[1;31mAttributeError\u001b[0m: Can't get attribute 'text_process' on <module '__main__'>"
     ]
    }
   ],
   "source": [
    "#%%writefile DepressionApp.py\n",
    "\n",
    "######################\n",
    "# Import libraries\n",
    "######################\n",
    "import numpy as np\n",
    "import pandas as pd\n",
    "import streamlit as st\n",
    "import pickle\n",
    "from PIL import Image\n",
    "import nltk\n",
    "import seaborn as sb\n",
    "import matplotlib.pyplot as plt\n",
    "\n",
    "######################\n",
    "# Page Title\n",
    "######################\n",
    "\n",
    "image = Image.open('depression.jpg')\n",
    "\n",
    "st.image(image, use_column_width=True)\n",
    "\n",
    "st.write(\"\"\"\n",
    "# Depression Predictor App\n",
    "This app predicts the likelihood of a quotes either **Depressive or not**\n",
    "\"\"\")\n",
    "\n",
    "\n",
    "######################\n",
    "######################\n",
    "\n",
    "st.sidebar.header('User Input Tweets / Quotes')\n",
    "\n",
    "## Read SMILES input\n",
    "tweet_input = \"I am very sad\"\n",
    "\n",
    "tweets = st.sidebar.text_area(\"Tweet input\", tweet_input)\n",
    "tweets = \"C\\n\" + tweets #Adds C as a dummy, first item\n",
    "tweets = tweets.split('\\n')\n",
    "\n",
    "st.header('Input Tweet / Quote' )\n",
    "tweets[1:] # Skips the dummy first item\n",
    "\n",
    "## Calculate depressive descriptors\n",
    "st.header('Predictions')\n",
    "#cv = CountVectorizer(analyzer= text_process).fit(combined_data['tweet'])\n",
    "#bagofwords = cv.transform(combined_data['tweet'])\n",
    "#cv = CountVectorizer(analyzer= text_process).fit(tweets[1:])\n",
    "cv = pickle.load(open('CountVectorizer.pkl', 'rb'))\n",
    "bagofwords = cv.transform(pd.Series(tweets[1:]))\n",
    "from sklearn.feature_extraction.text import TfidfTransformer\n",
    "tfidf = TfidfTransformer().fit(bagofwords)\n",
    "tfidff = tfidf.transform(bagofwords)\n",
    "\n",
    "######################\n",
    "# Pre-built model\n",
    "######################\n",
    "\n",
    "# Reads in saved model\n",
    "load_model = pickle.load(open('model.pkl', 'rb'))\n",
    "# Apply model to make predictions\n",
    "prediction = load_model.predict(tfidff)\n",
    "prediction\n",
    "\n",
    "#st.header('Predicted Tweets')\n",
    "#prediction[1:] # Skips the dummy first item"
   ]
  },
  {
   "cell_type": "code",
   "execution_count": null,
   "metadata": {},
   "outputs": [],
   "source": []
  }
 ],
 "metadata": {
  "kernelspec": {
   "display_name": "Python 3",
   "language": "python",
   "name": "python3"
  }
 },
 "nbformat": 4,
 "nbformat_minor": 4
}
