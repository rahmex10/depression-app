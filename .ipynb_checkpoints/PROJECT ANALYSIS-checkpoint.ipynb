{
 "cells": [
  {
   "cell_type": "code",
   "execution_count": 1,
   "metadata": {},
   "outputs": [],
   "source": [
    "import pandas as pd\n",
    "import numpy as np\n",
    "import matplotlib.pyplot as plt\n",
    "import seaborn as sb\n",
    "import nltk"
   ]
  },
  {
   "cell_type": "code",
   "execution_count": 2,
   "metadata": {},
   "outputs": [],
   "source": [
    "data1 = pd.read_csv('clean_d_tweets.csv')"
   ]
  },
  {
   "cell_type": "code",
   "execution_count": 4,
   "metadata": {},
   "outputs": [
    {
     "data": {
      "text/html": [
       "<div>\n",
       "<style scoped>\n",
       "    .dataframe tbody tr th:only-of-type {\n",
       "        vertical-align: middle;\n",
       "    }\n",
       "\n",
       "    .dataframe tbody tr th {\n",
       "        vertical-align: top;\n",
       "    }\n",
       "\n",
       "    .dataframe thead th {\n",
       "        text-align: right;\n",
       "    }\n",
       "</style>\n",
       "<table border=\"1\" class=\"dataframe\">\n",
       "  <thead>\n",
       "    <tr style=\"text-align: right;\">\n",
       "      <th></th>\n",
       "      <th>id</th>\n",
       "      <th>conversation_id</th>\n",
       "      <th>created_at</th>\n",
       "      <th>date</th>\n",
       "      <th>timezone</th>\n",
       "      <th>place</th>\n",
       "      <th>tweet</th>\n",
       "      <th>language</th>\n",
       "      <th>hashtags</th>\n",
       "      <th>cashtags</th>\n",
       "      <th>...</th>\n",
       "      <th>geo</th>\n",
       "      <th>source</th>\n",
       "      <th>user_rt_id</th>\n",
       "      <th>user_rt</th>\n",
       "      <th>retweet_id</th>\n",
       "      <th>reply_to</th>\n",
       "      <th>retweet_date</th>\n",
       "      <th>translate</th>\n",
       "      <th>trans_src</th>\n",
       "      <th>trans_dest</th>\n",
       "    </tr>\n",
       "  </thead>\n",
       "  <tbody>\n",
       "    <tr>\n",
       "      <th>0</th>\n",
       "      <td>1261623711502753792</td>\n",
       "      <td>1261623711502753792</td>\n",
       "      <td>1.589630e+12</td>\n",
       "      <td>2020-05-16 01:45:07</td>\n",
       "      <td>-1000</td>\n",
       "      <td>NaN</td>\n",
       "      <td>the real reason why you be sad you be attach t...</td>\n",
       "      <td>en</td>\n",
       "      <td>[]</td>\n",
       "      <td>[]</td>\n",
       "      <td>...</td>\n",
       "      <td>NaN</td>\n",
       "      <td>NaN</td>\n",
       "      <td>NaN</td>\n",
       "      <td>NaN</td>\n",
       "      <td>NaN</td>\n",
       "      <td>[]</td>\n",
       "      <td>NaN</td>\n",
       "      <td>NaN</td>\n",
       "      <td>NaN</td>\n",
       "      <td>NaN</td>\n",
       "    </tr>\n",
       "    <tr>\n",
       "      <th>1</th>\n",
       "      <td>1255537912491343872</td>\n",
       "      <td>1255537912491343872</td>\n",
       "      <td>1.588179e+12</td>\n",
       "      <td>2020-04-29 06:42:19</td>\n",
       "      <td>-1000</td>\n",
       "      <td>NaN</td>\n",
       "      <td>my biggest problem be overthinking everything</td>\n",
       "      <td>en</td>\n",
       "      <td>[]</td>\n",
       "      <td>[]</td>\n",
       "      <td>...</td>\n",
       "      <td>NaN</td>\n",
       "      <td>NaN</td>\n",
       "      <td>NaN</td>\n",
       "      <td>NaN</td>\n",
       "      <td>NaN</td>\n",
       "      <td>[]</td>\n",
       "      <td>NaN</td>\n",
       "      <td>NaN</td>\n",
       "      <td>NaN</td>\n",
       "      <td>NaN</td>\n",
       "    </tr>\n",
       "    <tr>\n",
       "      <th>2</th>\n",
       "      <td>1255524270521761792</td>\n",
       "      <td>1255524270521761792</td>\n",
       "      <td>1.588175e+12</td>\n",
       "      <td>2020-04-29 05:48:07</td>\n",
       "      <td>-1000</td>\n",
       "      <td>NaN</td>\n",
       "      <td>the worst sadness be the sadness you have teac...</td>\n",
       "      <td>en</td>\n",
       "      <td>[]</td>\n",
       "      <td>[]</td>\n",
       "      <td>...</td>\n",
       "      <td>NaN</td>\n",
       "      <td>NaN</td>\n",
       "      <td>NaN</td>\n",
       "      <td>NaN</td>\n",
       "      <td>NaN</td>\n",
       "      <td>[]</td>\n",
       "      <td>NaN</td>\n",
       "      <td>NaN</td>\n",
       "      <td>NaN</td>\n",
       "      <td>NaN</td>\n",
       "    </tr>\n",
       "    <tr>\n",
       "      <th>3</th>\n",
       "      <td>1255524059334365186</td>\n",
       "      <td>1255524059334365186</td>\n",
       "      <td>1.588175e+12</td>\n",
       "      <td>2020-04-29 05:47:16</td>\n",
       "      <td>-1000</td>\n",
       "      <td>NaN</td>\n",
       "      <td>i cannot make you understand i cannot make any...</td>\n",
       "      <td>en</td>\n",
       "      <td>[]</td>\n",
       "      <td>[]</td>\n",
       "      <td>...</td>\n",
       "      <td>NaN</td>\n",
       "      <td>NaN</td>\n",
       "      <td>NaN</td>\n",
       "      <td>NaN</td>\n",
       "      <td>NaN</td>\n",
       "      <td>[]</td>\n",
       "      <td>NaN</td>\n",
       "      <td>NaN</td>\n",
       "      <td>NaN</td>\n",
       "      <td>NaN</td>\n",
       "    </tr>\n",
       "    <tr>\n",
       "      <th>4</th>\n",
       "      <td>1172463022100512769</td>\n",
       "      <td>1172463022100512769</td>\n",
       "      <td>1.568372e+12</td>\n",
       "      <td>2019-09-13 00:52:22</td>\n",
       "      <td>-1000</td>\n",
       "      <td>NaN</td>\n",
       "      <td>i do not think anyone really understand how ti...</td>\n",
       "      <td>en</td>\n",
       "      <td>[]</td>\n",
       "      <td>[]</td>\n",
       "      <td>...</td>\n",
       "      <td>NaN</td>\n",
       "      <td>NaN</td>\n",
       "      <td>NaN</td>\n",
       "      <td>NaN</td>\n",
       "      <td>NaN</td>\n",
       "      <td>[]</td>\n",
       "      <td>NaN</td>\n",
       "      <td>NaN</td>\n",
       "      <td>NaN</td>\n",
       "      <td>NaN</td>\n",
       "    </tr>\n",
       "  </tbody>\n",
       "</table>\n",
       "<p>5 rows × 38 columns</p>\n",
       "</div>"
      ],
      "text/plain": [
       "                    id      conversation_id    created_at  \\\n",
       "0  1261623711502753792  1261623711502753792  1.589630e+12   \n",
       "1  1255537912491343872  1255537912491343872  1.588179e+12   \n",
       "2  1255524270521761792  1255524270521761792  1.588175e+12   \n",
       "3  1255524059334365186  1255524059334365186  1.588175e+12   \n",
       "4  1172463022100512769  1172463022100512769  1.568372e+12   \n",
       "\n",
       "                  date  timezone  place  \\\n",
       "0  2020-05-16 01:45:07     -1000    NaN   \n",
       "1  2020-04-29 06:42:19     -1000    NaN   \n",
       "2  2020-04-29 05:48:07     -1000    NaN   \n",
       "3  2020-04-29 05:47:16     -1000    NaN   \n",
       "4  2019-09-13 00:52:22     -1000    NaN   \n",
       "\n",
       "                                               tweet language hashtags  \\\n",
       "0  the real reason why you be sad you be attach t...       en       []   \n",
       "1      my biggest problem be overthinking everything       en       []   \n",
       "2  the worst sadness be the sadness you have teac...       en       []   \n",
       "3  i cannot make you understand i cannot make any...       en       []   \n",
       "4  i do not think anyone really understand how ti...       en       []   \n",
       "\n",
       "  cashtags  ...  geo  source user_rt_id user_rt  retweet_id  reply_to  \\\n",
       "0       []  ...  NaN     NaN        NaN     NaN         NaN        []   \n",
       "1       []  ...  NaN     NaN        NaN     NaN         NaN        []   \n",
       "2       []  ...  NaN     NaN        NaN     NaN         NaN        []   \n",
       "3       []  ...  NaN     NaN        NaN     NaN         NaN        []   \n",
       "4       []  ...  NaN     NaN        NaN     NaN         NaN        []   \n",
       "\n",
       "  retweet_date translate trans_src  trans_dest  \n",
       "0          NaN       NaN       NaN         NaN  \n",
       "1          NaN       NaN       NaN         NaN  \n",
       "2          NaN       NaN       NaN         NaN  \n",
       "3          NaN       NaN       NaN         NaN  \n",
       "4          NaN       NaN       NaN         NaN  \n",
       "\n",
       "[5 rows x 38 columns]"
      ]
     },
     "execution_count": 4,
     "metadata": {},
     "output_type": "execute_result"
    }
   ],
   "source": [
    "data1.head()"
   ]
  },
  {
   "cell_type": "code",
   "execution_count": null,
   "metadata": {},
   "outputs": [],
   "source": []
  },
  {
   "cell_type": "code",
   "execution_count": 8,
   "metadata": {},
   "outputs": [],
   "source": [
    "data2 = pd.read_csv('clean_non_d_tweets.csv')"
   ]
  },
  {
   "cell_type": "code",
   "execution_count": 9,
   "metadata": {},
   "outputs": [
    {
     "data": {
      "text/html": [
       "<div>\n",
       "<style scoped>\n",
       "    .dataframe tbody tr th:only-of-type {\n",
       "        vertical-align: middle;\n",
       "    }\n",
       "\n",
       "    .dataframe tbody tr th {\n",
       "        vertical-align: top;\n",
       "    }\n",
       "\n",
       "    .dataframe thead th {\n",
       "        text-align: right;\n",
       "    }\n",
       "</style>\n",
       "<table border=\"1\" class=\"dataframe\">\n",
       "  <thead>\n",
       "    <tr style=\"text-align: right;\">\n",
       "      <th></th>\n",
       "      <th>id</th>\n",
       "      <th>conversation_id</th>\n",
       "      <th>created_at</th>\n",
       "      <th>date</th>\n",
       "      <th>timezone</th>\n",
       "      <th>place</th>\n",
       "      <th>tweet</th>\n",
       "      <th>language</th>\n",
       "      <th>hashtags</th>\n",
       "      <th>cashtags</th>\n",
       "      <th>...</th>\n",
       "      <th>geo</th>\n",
       "      <th>source</th>\n",
       "      <th>user_rt_id</th>\n",
       "      <th>user_rt</th>\n",
       "      <th>retweet_id</th>\n",
       "      <th>reply_to</th>\n",
       "      <th>retweet_date</th>\n",
       "      <th>translate</th>\n",
       "      <th>trans_src</th>\n",
       "      <th>trans_dest</th>\n",
       "    </tr>\n",
       "  </thead>\n",
       "  <tbody>\n",
       "    <tr>\n",
       "      <th>0</th>\n",
       "      <td>1424756177682927617</td>\n",
       "      <td>1424756177682927617</td>\n",
       "      <td>1.628523e+12</td>\n",
       "      <td>2021-08-09 05:35:18</td>\n",
       "      <td>-1000</td>\n",
       "      <td>NaN</td>\n",
       "      <td>touch pass be the new asmr</td>\n",
       "      <td>en</td>\n",
       "      <td>[]</td>\n",
       "      <td>[]</td>\n",
       "      <td>...</td>\n",
       "      <td>NaN</td>\n",
       "      <td>NaN</td>\n",
       "      <td>NaN</td>\n",
       "      <td>NaN</td>\n",
       "      <td>NaN</td>\n",
       "      <td>[]</td>\n",
       "      <td>NaN</td>\n",
       "      <td>NaN</td>\n",
       "      <td>NaN</td>\n",
       "      <td>NaN</td>\n",
       "    </tr>\n",
       "    <tr>\n",
       "      <th>1</th>\n",
       "      <td>1424741357592084485</td>\n",
       "      <td>1424741357592084485</td>\n",
       "      <td>1.628520e+12</td>\n",
       "      <td>2021-08-09 04:36:24</td>\n",
       "      <td>-1000</td>\n",
       "      <td>NaN</td>\n",
       "      <td>12 years ago i call my dad and he give me some...</td>\n",
       "      <td>en</td>\n",
       "      <td>[]</td>\n",
       "      <td>[]</td>\n",
       "      <td>...</td>\n",
       "      <td>NaN</td>\n",
       "      <td>NaN</td>\n",
       "      <td>NaN</td>\n",
       "      <td>NaN</td>\n",
       "      <td>NaN</td>\n",
       "      <td>[]</td>\n",
       "      <td>NaN</td>\n",
       "      <td>NaN</td>\n",
       "      <td>NaN</td>\n",
       "      <td>NaN</td>\n",
       "    </tr>\n",
       "    <tr>\n",
       "      <th>2</th>\n",
       "      <td>1424739267553550337</td>\n",
       "      <td>1424739267553550337</td>\n",
       "      <td>1.628519e+12</td>\n",
       "      <td>2021-08-09 04:28:06</td>\n",
       "      <td>-1000</td>\n",
       "      <td>NaN</td>\n",
       "      <td>there be 6500 languages yet i choose to only s...</td>\n",
       "      <td>en</td>\n",
       "      <td>[]</td>\n",
       "      <td>[]</td>\n",
       "      <td>...</td>\n",
       "      <td>NaN</td>\n",
       "      <td>NaN</td>\n",
       "      <td>NaN</td>\n",
       "      <td>NaN</td>\n",
       "      <td>NaN</td>\n",
       "      <td>[]</td>\n",
       "      <td>NaN</td>\n",
       "      <td>NaN</td>\n",
       "      <td>NaN</td>\n",
       "      <td>NaN</td>\n",
       "    </tr>\n",
       "    <tr>\n",
       "      <th>3</th>\n",
       "      <td>1424733524234366985</td>\n",
       "      <td>1424733524234366985</td>\n",
       "      <td>1.628518e+12</td>\n",
       "      <td>2021-08-09 04:05:17</td>\n",
       "      <td>-1000</td>\n",
       "      <td>NaN</td>\n",
       "      <td>hey everyone ask for a raise today i be tell y...</td>\n",
       "      <td>en</td>\n",
       "      <td>[]</td>\n",
       "      <td>[]</td>\n",
       "      <td>...</td>\n",
       "      <td>NaN</td>\n",
       "      <td>NaN</td>\n",
       "      <td>NaN</td>\n",
       "      <td>NaN</td>\n",
       "      <td>NaN</td>\n",
       "      <td>[]</td>\n",
       "      <td>NaN</td>\n",
       "      <td>NaN</td>\n",
       "      <td>NaN</td>\n",
       "      <td>NaN</td>\n",
       "    </tr>\n",
       "    <tr>\n",
       "      <th>4</th>\n",
       "      <td>1424504791527411712</td>\n",
       "      <td>1424504791527411712</td>\n",
       "      <td>1.628463e+12</td>\n",
       "      <td>2021-08-08 12:56:22</td>\n",
       "      <td>-1000</td>\n",
       "      <td>NaN</td>\n",
       "      <td>i invest in 47 startups in a year here be how ...</td>\n",
       "      <td>en</td>\n",
       "      <td>[]</td>\n",
       "      <td>[]</td>\n",
       "      <td>...</td>\n",
       "      <td>NaN</td>\n",
       "      <td>NaN</td>\n",
       "      <td>NaN</td>\n",
       "      <td>NaN</td>\n",
       "      <td>NaN</td>\n",
       "      <td>[]</td>\n",
       "      <td>NaN</td>\n",
       "      <td>NaN</td>\n",
       "      <td>NaN</td>\n",
       "      <td>NaN</td>\n",
       "    </tr>\n",
       "  </tbody>\n",
       "</table>\n",
       "<p>5 rows × 38 columns</p>\n",
       "</div>"
      ],
      "text/plain": [
       "                    id      conversation_id    created_at  \\\n",
       "0  1424756177682927617  1424756177682927617  1.628523e+12   \n",
       "1  1424741357592084485  1424741357592084485  1.628520e+12   \n",
       "2  1424739267553550337  1424739267553550337  1.628519e+12   \n",
       "3  1424733524234366985  1424733524234366985  1.628518e+12   \n",
       "4  1424504791527411712  1424504791527411712  1.628463e+12   \n",
       "\n",
       "                  date  timezone  place  \\\n",
       "0  2021-08-09 05:35:18     -1000    NaN   \n",
       "1  2021-08-09 04:36:24     -1000    NaN   \n",
       "2  2021-08-09 04:28:06     -1000    NaN   \n",
       "3  2021-08-09 04:05:17     -1000    NaN   \n",
       "4  2021-08-08 12:56:22     -1000    NaN   \n",
       "\n",
       "                                               tweet language hashtags  \\\n",
       "0                         touch pass be the new asmr       en       []   \n",
       "1  12 years ago i call my dad and he give me some...       en       []   \n",
       "2  there be 6500 languages yet i choose to only s...       en       []   \n",
       "3  hey everyone ask for a raise today i be tell y...       en       []   \n",
       "4  i invest in 47 startups in a year here be how ...       en       []   \n",
       "\n",
       "  cashtags  ...  geo  source user_rt_id user_rt  retweet_id  reply_to  \\\n",
       "0       []  ...  NaN     NaN        NaN     NaN         NaN        []   \n",
       "1       []  ...  NaN     NaN        NaN     NaN         NaN        []   \n",
       "2       []  ...  NaN     NaN        NaN     NaN         NaN        []   \n",
       "3       []  ...  NaN     NaN        NaN     NaN         NaN        []   \n",
       "4       []  ...  NaN     NaN        NaN     NaN         NaN        []   \n",
       "\n",
       "  retweet_date translate trans_src  trans_dest  \n",
       "0          NaN       NaN       NaN         NaN  \n",
       "1          NaN       NaN       NaN         NaN  \n",
       "2          NaN       NaN       NaN         NaN  \n",
       "3          NaN       NaN       NaN         NaN  \n",
       "4          NaN       NaN       NaN         NaN  \n",
       "\n",
       "[5 rows x 38 columns]"
      ]
     },
     "execution_count": 9,
     "metadata": {},
     "output_type": "execute_result"
    }
   ],
   "source": [
    "data2.head()"
   ]
  },
  {
   "cell_type": "code",
   "execution_count": 13,
   "metadata": {},
   "outputs": [
    {
     "data": {
      "text/plain": [
       "en     4593\n",
       "und      31\n",
       "tl       30\n",
       "es        5\n",
       "fr        5\n",
       "ja        4\n",
       "in        4\n",
       "ht        3\n",
       "nl        3\n",
       "no        1\n",
       "hi        1\n",
       "cs        1\n",
       "ro        1\n",
       "ca        1\n",
       "fi        1\n",
       "de        1\n",
       "lt        1\n",
       "pt        1\n",
       "Name: language, dtype: int64"
      ]
     },
     "execution_count": 13,
     "metadata": {},
     "output_type": "execute_result"
    }
   ],
   "source": [
    "data2['language'].value_counts()"
   ]
  },
  {
   "cell_type": "code",
   "execution_count": 11,
   "metadata": {},
   "outputs": [
    {
     "data": {
      "text/plain": [
       "ConanOBrien      996\n",
       "IyanlaVanzant    982\n",
       "simonsinek       914\n",
       "baemax           697\n",
       "ShaanVP          694\n",
       "qtcinderella     404\n",
       "Name: username, dtype: int64"
      ]
     },
     "execution_count": 11,
     "metadata": {},
     "output_type": "execute_result"
    }
   ],
   "source": [
    "data2['username'].value_counts()"
   ]
  },
  {
   "cell_type": "code",
   "execution_count": 14,
   "metadata": {},
   "outputs": [],
   "source": [
    "data1.drop(['id', 'conversation_id', 'created_at', 'date', 'timezone', 'place', 'hashtags', 'cashtags', 'user_id', 'user_id_str'\n",
    "           , 'name', 'day', 'hour', 'link', 'urls', 'photos', 'video',\n",
    "       'thumbnail', 'retweet', 'nlikes', 'nreplies', 'nretweets', 'quote_url',\n",
    "       'search', 'near', 'geo', 'source', 'user_rt_id', 'user_rt',\n",
    "       'retweet_id', 'reply_to', 'retweet_date', 'translate', 'trans_src',\n",
    "       'trans_dest' ], 1, inplace= True)"
   ]
  },
  {
   "cell_type": "code",
   "execution_count": 16,
   "metadata": {},
   "outputs": [
    {
     "data": {
      "text/html": [
       "<div>\n",
       "<style scoped>\n",
       "    .dataframe tbody tr th:only-of-type {\n",
       "        vertical-align: middle;\n",
       "    }\n",
       "\n",
       "    .dataframe tbody tr th {\n",
       "        vertical-align: top;\n",
       "    }\n",
       "\n",
       "    .dataframe thead th {\n",
       "        text-align: right;\n",
       "    }\n",
       "</style>\n",
       "<table border=\"1\" class=\"dataframe\">\n",
       "  <thead>\n",
       "    <tr style=\"text-align: right;\">\n",
       "      <th></th>\n",
       "      <th>tweet</th>\n",
       "      <th>language</th>\n",
       "      <th>username</th>\n",
       "    </tr>\n",
       "  </thead>\n",
       "  <tbody>\n",
       "    <tr>\n",
       "      <th>0</th>\n",
       "      <td>the real reason why you be sad you be attach t...</td>\n",
       "      <td>en</td>\n",
       "      <td>depressingmsgs</td>\n",
       "    </tr>\n",
       "    <tr>\n",
       "      <th>1</th>\n",
       "      <td>my biggest problem be overthinking everything</td>\n",
       "      <td>en</td>\n",
       "      <td>depressingmsgs</td>\n",
       "    </tr>\n",
       "    <tr>\n",
       "      <th>2</th>\n",
       "      <td>the worst sadness be the sadness you have teac...</td>\n",
       "      <td>en</td>\n",
       "      <td>depressingmsgs</td>\n",
       "    </tr>\n",
       "    <tr>\n",
       "      <th>3</th>\n",
       "      <td>i cannot make you understand i cannot make any...</td>\n",
       "      <td>en</td>\n",
       "      <td>depressingmsgs</td>\n",
       "    </tr>\n",
       "    <tr>\n",
       "      <th>4</th>\n",
       "      <td>i do not think anyone really understand how ti...</td>\n",
       "      <td>en</td>\n",
       "      <td>depressingmsgs</td>\n",
       "    </tr>\n",
       "  </tbody>\n",
       "</table>\n",
       "</div>"
      ],
      "text/plain": [
       "                                               tweet language        username\n",
       "0  the real reason why you be sad you be attach t...       en  depressingmsgs\n",
       "1      my biggest problem be overthinking everything       en  depressingmsgs\n",
       "2  the worst sadness be the sadness you have teac...       en  depressingmsgs\n",
       "3  i cannot make you understand i cannot make any...       en  depressingmsgs\n",
       "4  i do not think anyone really understand how ti...       en  depressingmsgs"
      ]
     },
     "execution_count": 16,
     "metadata": {},
     "output_type": "execute_result"
    }
   ],
   "source": [
    "data1.head()"
   ]
  },
  {
   "cell_type": "code",
   "execution_count": 33,
   "metadata": {},
   "outputs": [],
   "source": [
    "data1.drop('username', 1, inplace= True)"
   ]
  },
  {
   "cell_type": "code",
   "execution_count": 17,
   "metadata": {},
   "outputs": [],
   "source": [
    "Label = np.random.choice(np.array(['Depressed']),3082 )"
   ]
  },
  {
   "cell_type": "code",
   "execution_count": 18,
   "metadata": {},
   "outputs": [],
   "source": [
    "Label = Label.transpose()"
   ]
  },
  {
   "cell_type": "code",
   "execution_count": 19,
   "metadata": {},
   "outputs": [],
   "source": [
    "Label = pd.DataFrame(Label)"
   ]
  },
  {
   "cell_type": "code",
   "execution_count": 20,
   "metadata": {},
   "outputs": [],
   "source": [
    "Label = Label.rename(columns= {0: 'Label'})"
   ]
  },
  {
   "cell_type": "code",
   "execution_count": 21,
   "metadata": {},
   "outputs": [],
   "source": [
    "data1 = data1.join(Label)"
   ]
  },
  {
   "cell_type": "code",
   "execution_count": 24,
   "metadata": {},
   "outputs": [],
   "source": [
    "data2.drop(['id', 'conversation_id', 'created_at', 'date', 'timezone', 'place', 'hashtags', 'cashtags', 'user_id', 'user_id_str'\n",
    "           , 'name', 'day', 'hour', 'link', 'urls', 'photos', 'video',\n",
    "       'thumbnail', 'retweet', 'nlikes', 'nreplies', 'nretweets', 'quote_url',\n",
    "       'search', 'near', 'geo', 'source', 'user_rt_id', 'user_rt',\n",
    "       'retweet_id', 'reply_to', 'retweet_date', 'translate', 'trans_src',\n",
    "       'trans_dest', 'username' ], 1, inplace= True)"
   ]
  },
  {
   "cell_type": "code",
   "execution_count": 25,
   "metadata": {},
   "outputs": [
    {
     "data": {
      "text/html": [
       "<div>\n",
       "<style scoped>\n",
       "    .dataframe tbody tr th:only-of-type {\n",
       "        vertical-align: middle;\n",
       "    }\n",
       "\n",
       "    .dataframe tbody tr th {\n",
       "        vertical-align: top;\n",
       "    }\n",
       "\n",
       "    .dataframe thead th {\n",
       "        text-align: right;\n",
       "    }\n",
       "</style>\n",
       "<table border=\"1\" class=\"dataframe\">\n",
       "  <thead>\n",
       "    <tr style=\"text-align: right;\">\n",
       "      <th></th>\n",
       "      <th>tweet</th>\n",
       "      <th>language</th>\n",
       "    </tr>\n",
       "  </thead>\n",
       "  <tbody>\n",
       "    <tr>\n",
       "      <th>4682</th>\n",
       "      <td>cardi b want to trademark her catchphrase okur...</td>\n",
       "      <td>en</td>\n",
       "    </tr>\n",
       "    <tr>\n",
       "      <th>4683</th>\n",
       "      <td>i will bet kellyanne and george conway have pr...</td>\n",
       "      <td>en</td>\n",
       "    </tr>\n",
       "    <tr>\n",
       "      <th>4684</th>\n",
       "      <td>fan be always ask me how they can watch the ol...</td>\n",
       "      <td>en</td>\n",
       "    </tr>\n",
       "    <tr>\n",
       "      <th>4685</th>\n",
       "      <td>ray romano be a hilarious comedian a kind soul...</td>\n",
       "      <td>en</td>\n",
       "    </tr>\n",
       "    <tr>\n",
       "      <th>4686</th>\n",
       "      <td>muellers report may be finish but mine be out ...</td>\n",
       "      <td>en</td>\n",
       "    </tr>\n",
       "  </tbody>\n",
       "</table>\n",
       "</div>"
      ],
      "text/plain": [
       "                                                  tweet language\n",
       "4682  cardi b want to trademark her catchphrase okur...       en\n",
       "4683  i will bet kellyanne and george conway have pr...       en\n",
       "4684  fan be always ask me how they can watch the ol...       en\n",
       "4685  ray romano be a hilarious comedian a kind soul...       en\n",
       "4686  muellers report may be finish but mine be out ...       en"
      ]
     },
     "execution_count": 25,
     "metadata": {},
     "output_type": "execute_result"
    }
   ],
   "source": [
    "data2.tail()"
   ]
  },
  {
   "cell_type": "code",
   "execution_count": 26,
   "metadata": {},
   "outputs": [],
   "source": [
    "Label2 = np.random.choice(np.array(['Not_Depressed']), 4687)"
   ]
  },
  {
   "cell_type": "code",
   "execution_count": 27,
   "metadata": {},
   "outputs": [],
   "source": [
    "Label2 = Label2.transpose()"
   ]
  },
  {
   "cell_type": "code",
   "execution_count": 28,
   "metadata": {},
   "outputs": [],
   "source": [
    "Label2 = pd.DataFrame(Label2)"
   ]
  },
  {
   "cell_type": "code",
   "execution_count": 29,
   "metadata": {},
   "outputs": [],
   "source": [
    "Label2 = Label2.rename(columns= {0: 'Label'})"
   ]
  },
  {
   "cell_type": "code",
   "execution_count": 30,
   "metadata": {},
   "outputs": [],
   "source": [
    "data2 = data2.join(Label2)"
   ]
  },
  {
   "cell_type": "code",
   "execution_count": 41,
   "metadata": {},
   "outputs": [
    {
     "data": {
      "text/html": [
       "<div>\n",
       "<style scoped>\n",
       "    .dataframe tbody tr th:only-of-type {\n",
       "        vertical-align: middle;\n",
       "    }\n",
       "\n",
       "    .dataframe tbody tr th {\n",
       "        vertical-align: top;\n",
       "    }\n",
       "\n",
       "    .dataframe thead th {\n",
       "        text-align: right;\n",
       "    }\n",
       "</style>\n",
       "<table border=\"1\" class=\"dataframe\">\n",
       "  <thead>\n",
       "    <tr style=\"text-align: right;\">\n",
       "      <th></th>\n",
       "      <th>tweet</th>\n",
       "      <th>language</th>\n",
       "      <th>Label</th>\n",
       "    </tr>\n",
       "  </thead>\n",
       "  <tbody>\n",
       "    <tr>\n",
       "      <th>0</th>\n",
       "      <td>the real reason why you be sad you be attach t...</td>\n",
       "      <td>en</td>\n",
       "      <td>Depressed</td>\n",
       "    </tr>\n",
       "    <tr>\n",
       "      <th>1</th>\n",
       "      <td>my biggest problem be overthinking everything</td>\n",
       "      <td>en</td>\n",
       "      <td>Depressed</td>\n",
       "    </tr>\n",
       "    <tr>\n",
       "      <th>2</th>\n",
       "      <td>the worst sadness be the sadness you have teac...</td>\n",
       "      <td>en</td>\n",
       "      <td>Depressed</td>\n",
       "    </tr>\n",
       "    <tr>\n",
       "      <th>3</th>\n",
       "      <td>i cannot make you understand i cannot make any...</td>\n",
       "      <td>en</td>\n",
       "      <td>Depressed</td>\n",
       "    </tr>\n",
       "    <tr>\n",
       "      <th>4</th>\n",
       "      <td>i do not think anyone really understand how ti...</td>\n",
       "      <td>en</td>\n",
       "      <td>Depressed</td>\n",
       "    </tr>\n",
       "  </tbody>\n",
       "</table>\n",
       "</div>"
      ],
      "text/plain": [
       "                                               tweet language      Label\n",
       "0  the real reason why you be sad you be attach t...       en  Depressed\n",
       "1      my biggest problem be overthinking everything       en  Depressed\n",
       "2  the worst sadness be the sadness you have teac...       en  Depressed\n",
       "3  i cannot make you understand i cannot make any...       en  Depressed\n",
       "4  i do not think anyone really understand how ti...       en  Depressed"
      ]
     },
     "execution_count": 41,
     "metadata": {},
     "output_type": "execute_result"
    }
   ],
   "source": [
    "combined_data.head()"
   ]
  },
  {
   "cell_type": "code",
   "execution_count": 52,
   "metadata": {},
   "outputs": [
    {
     "name": "stdout",
     "output_type": "stream",
     "text": [
      "<class 'pandas.core.frame.DataFrame'>\n",
      "Int64Index: 7745 entries, 0 to 7768\n",
      "Data columns (total 3 columns):\n",
      " #   Column    Non-Null Count  Dtype \n",
      "---  ------    --------------  ----- \n",
      " 0   tweet     7745 non-null   object\n",
      " 1   language  7745 non-null   object\n",
      " 2   Label     7745 non-null   object\n",
      "dtypes: object(3)\n",
      "memory usage: 242.0+ KB\n"
     ]
    }
   ],
   "source": [
    "combined_data.info()"
   ]
  },
  {
   "cell_type": "code",
   "execution_count": 51,
   "metadata": {},
   "outputs": [
    {
     "data": {
      "text/plain": [
       "0       None\n",
       "1       None\n",
       "2       None\n",
       "3       None\n",
       "4       None\n",
       "        ... \n",
       "7764    None\n",
       "7765    None\n",
       "7766    None\n",
       "7767    None\n",
       "7768    None\n",
       "Name: language, Length: 7745, dtype: object"
      ]
     },
     "execution_count": 51,
     "metadata": {},
     "output_type": "execute_result"
    }
   ],
   "source": []
  },
  {
   "cell_type": "code",
   "execution_count": null,
   "metadata": {},
   "outputs": [],
   "source": []
  },
  {
   "cell_type": "code",
   "execution_count": 37,
   "metadata": {},
   "outputs": [],
   "source": [
    "combined_data = pd.concat([data1, data2], 0, ignore_index= True )"
   ]
  },
  {
   "cell_type": "code",
   "execution_count": 38,
   "metadata": {},
   "outputs": [],
   "source": [
    "combined_data.dropna(inplace= True)"
   ]
  },
  {
   "cell_type": "code",
   "execution_count": 53,
   "metadata": {},
   "outputs": [],
   "source": [
    "combined_data['Message_Length'] = combined_data['tweet'].apply(lambda x: len(x))"
   ]
  },
  {
   "cell_type": "code",
   "execution_count": 54,
   "metadata": {},
   "outputs": [
    {
     "data": {
      "text/html": [
       "<div>\n",
       "<style scoped>\n",
       "    .dataframe tbody tr th:only-of-type {\n",
       "        vertical-align: middle;\n",
       "    }\n",
       "\n",
       "    .dataframe tbody tr th {\n",
       "        vertical-align: top;\n",
       "    }\n",
       "\n",
       "    .dataframe thead th {\n",
       "        text-align: right;\n",
       "    }\n",
       "</style>\n",
       "<table border=\"1\" class=\"dataframe\">\n",
       "  <thead>\n",
       "    <tr style=\"text-align: right;\">\n",
       "      <th></th>\n",
       "      <th>tweet</th>\n",
       "      <th>language</th>\n",
       "      <th>Label</th>\n",
       "      <th>Message_Length</th>\n",
       "    </tr>\n",
       "  </thead>\n",
       "  <tbody>\n",
       "    <tr>\n",
       "      <th>0</th>\n",
       "      <td>the real reason why you be sad you be attach t...</td>\n",
       "      <td>en</td>\n",
       "      <td>Depressed</td>\n",
       "      <td>261</td>\n",
       "    </tr>\n",
       "    <tr>\n",
       "      <th>1</th>\n",
       "      <td>my biggest problem be overthinking everything</td>\n",
       "      <td>en</td>\n",
       "      <td>Depressed</td>\n",
       "      <td>45</td>\n",
       "    </tr>\n",
       "    <tr>\n",
       "      <th>2</th>\n",
       "      <td>the worst sadness be the sadness you have teac...</td>\n",
       "      <td>en</td>\n",
       "      <td>Depressed</td>\n",
       "      <td>64</td>\n",
       "    </tr>\n",
       "    <tr>\n",
       "      <th>3</th>\n",
       "      <td>i cannot make you understand i cannot make any...</td>\n",
       "      <td>en</td>\n",
       "      <td>Depressed</td>\n",
       "      <td>120</td>\n",
       "    </tr>\n",
       "    <tr>\n",
       "      <th>4</th>\n",
       "      <td>i do not think anyone really understand how ti...</td>\n",
       "      <td>en</td>\n",
       "      <td>Depressed</td>\n",
       "      <td>136</td>\n",
       "    </tr>\n",
       "  </tbody>\n",
       "</table>\n",
       "</div>"
      ],
      "text/plain": [
       "                                               tweet language      Label  \\\n",
       "0  the real reason why you be sad you be attach t...       en  Depressed   \n",
       "1      my biggest problem be overthinking everything       en  Depressed   \n",
       "2  the worst sadness be the sadness you have teac...       en  Depressed   \n",
       "3  i cannot make you understand i cannot make any...       en  Depressed   \n",
       "4  i do not think anyone really understand how ti...       en  Depressed   \n",
       "\n",
       "   Message_Length  \n",
       "0             261  \n",
       "1              45  \n",
       "2              64  \n",
       "3             120  \n",
       "4             136  "
      ]
     },
     "execution_count": 54,
     "metadata": {},
     "output_type": "execute_result"
    }
   ],
   "source": [
    "combined_data.head()"
   ]
  },
  {
   "cell_type": "code",
   "execution_count": 55,
   "metadata": {},
   "outputs": [
    {
     "data": {
      "image/png": "[encoded data removed]",
      "text/plain": [
       "<Figure size 864x360 with 2 Axes>"
      ]
     },
     "metadata": {},
     "output_type": "display_data"
    }
   ],
   "source": [
    "sb.set_style('whitegrid')\n",
    "combined_data.hist(column= 'Message_Length', by= 'Label', figsize= (12,5), bins= 30 )\n",
    "plt.show()"
   ]
  },
  {
   "cell_type": "code",
   "execution_count": 58,
   "metadata": {},
   "outputs": [
    {
     "data": {
      "text/plain": [
       "'\\nFrom the bar chart above, it shows that those with depressed tweets have shorter length of word, while those with no depressive\\ntweets have longer word, because that can either be a Cruise tweet, happy tweet, government tweets and so on.\\n'"
      ]
     },
     "execution_count": 58,
     "metadata": {},
     "output_type": "execute_result"
    }
   ],
   "source": [
    "\"\"\"\n",
    "From the bar chart above, it shows that those with depressed tweets have shorter length of word, while those with no depressive\n",
    "tweets have longer word, because that can either be a Cruise tweet, happy tweet, government tweets and so on.\n",
    "\"\"\""
   ]
  },
  {
   "cell_type": "code",
   "execution_count": 69,
   "metadata": {},
   "outputs": [],
   "source": [
    "combined_data.drop('language', 1, inplace= True)"
   ]
  },
  {
   "cell_type": "code",
   "execution_count": 70,
   "metadata": {},
   "outputs": [
    {
     "data": {
      "text/html": [
       "<div>\n",
       "<style scoped>\n",
       "    .dataframe tbody tr th:only-of-type {\n",
       "        vertical-align: middle;\n",
       "    }\n",
       "\n",
       "    .dataframe tbody tr th {\n",
       "        vertical-align: top;\n",
       "    }\n",
       "\n",
       "    .dataframe thead th {\n",
       "        text-align: right;\n",
       "    }\n",
       "</style>\n",
       "<table border=\"1\" class=\"dataframe\">\n",
       "  <thead>\n",
       "    <tr style=\"text-align: right;\">\n",
       "      <th></th>\n",
       "      <th>tweet</th>\n",
       "      <th>Label</th>\n",
       "      <th>Message_Length</th>\n",
       "    </tr>\n",
       "  </thead>\n",
       "  <tbody>\n",
       "    <tr>\n",
       "      <th>0</th>\n",
       "      <td>the real reason why you be sad you be attach t...</td>\n",
       "      <td>Depressed</td>\n",
       "      <td>261</td>\n",
       "    </tr>\n",
       "    <tr>\n",
       "      <th>1</th>\n",
       "      <td>my biggest problem be overthinking everything</td>\n",
       "      <td>Depressed</td>\n",
       "      <td>45</td>\n",
       "    </tr>\n",
       "    <tr>\n",
       "      <th>2</th>\n",
       "      <td>the worst sadness be the sadness you have teac...</td>\n",
       "      <td>Depressed</td>\n",
       "      <td>64</td>\n",
       "    </tr>\n",
       "    <tr>\n",
       "      <th>3</th>\n",
       "      <td>i cannot make you understand i cannot make any...</td>\n",
       "      <td>Depressed</td>\n",
       "      <td>120</td>\n",
       "    </tr>\n",
       "    <tr>\n",
       "      <th>4</th>\n",
       "      <td>i do not think anyone really understand how ti...</td>\n",
       "      <td>Depressed</td>\n",
       "      <td>136</td>\n",
       "    </tr>\n",
       "  </tbody>\n",
       "</table>\n",
       "</div>"
      ],
      "text/plain": [
       "                                               tweet      Label  \\\n",
       "0  the real reason why you be sad you be attach t...  Depressed   \n",
       "1      my biggest problem be overthinking everything  Depressed   \n",
       "2  the worst sadness be the sadness you have teac...  Depressed   \n",
       "3  i cannot make you understand i cannot make any...  Depressed   \n",
       "4  i do not think anyone really understand how ti...  Depressed   \n",
       "\n",
       "   Message_Length  \n",
       "0             261  \n",
       "1              45  \n",
       "2              64  \n",
       "3             120  \n",
       "4             136  "
      ]
     },
     "execution_count": 70,
     "metadata": {},
     "output_type": "execute_result"
    }
   ],
   "source": [
    "combined_data.head()"
   ]
  },
  {
   "cell_type": "code",
   "execution_count": 71,
   "metadata": {},
   "outputs": [],
   "source": [
    "import string\n",
    "from nltk.corpus import stopwords\n",
    "\n",
    "def text_process(mess):\n",
    "    \"\"\"\n",
    "    Takes in a string of text, then performs the following:\n",
    "    1. Remove all punctuation\n",
    "    2. Remove all stopwords\n",
    "    3. Returns a list of the cleaned text\n",
    "    \"\"\"\n",
    "    # Check characters to see if they are in punctuation\n",
    "    nopunc = [char for char in mess if char not in string.punctuation]\n",
    "\n",
    "    # Join the characters again to form the string.\n",
    "    nopunc = ''.join(nopunc)\n",
    "    \n",
    "    # Now just remove any stopwords\n",
    "    return [word for word in nopunc.split() if word.lower() not in stopwords.words('english')]"
   ]
  },
  {
   "cell_type": "code",
   "execution_count": 72,
   "metadata": {},
   "outputs": [],
   "source": [
    "from sklearn.feature_extraction.text import CountVectorizer"
   ]
  },
  {
   "cell_type": "code",
   "execution_count": 73,
   "metadata": {},
   "outputs": [],
   "source": [
    "cv = CountVectorizer(analyzer= text_process).fit(combined_data['tweet'])"
   ]
  },
  {
   "cell_type": "code",
   "execution_count": 74,
   "metadata": {},
   "outputs": [
    {
     "name": "stdout",
     "output_type": "stream",
     "text": [
      "{'real': 6131, 'reason': 6143, 'sad': 6471, 'attach': 857, 'people': 5569, 'distant': 2413, 'pay': 5539, 'attention': 864, 'ignore': 3837, 'make': 4619, 'time': 7508, 'busy': 1399, 'care': 1485, 'less': 4413, 'come': 1790, 'let': 4417, 'go': 3360, 'biggest': 1113, 'problem': 5907, 'overthinking': 5426, 'everything': 2814, 'worst': 8238, 'sadness': 6476, 'teach': 7358, 'hide': 3650, 'cannot': 1463, 'understand': 7778, 'anyone': 727, 'happen': 3545, 'inside': 3977, 'even': 2801, 'explain': 2866, 'think': 7450, 'really': 6139, 'tire': 7518, 'act': 470, 'okay': 5280, 'always': 636, 'strong': 7162, 'one': 5299, 'reality': 6137, 'close': 1715, 'edge': 2611, 'feel': 2977, 'something': 6940, 'kill': 4270, 'like': 4450, 'hurt': 3794, 'shut': 6763, 'turn': 7691, 'total': 7569, 'bitch': 1142, 'emotions': 2692, 'differently': 2338, 'towards': 7584, 'everyone': 2813, 'hate': 3587, 'ruin': 6451, 'situation': 6824, 'twist': 7704, 'things': 7448, 'around': 803, 'worry': 8235, 'much': 4999, 'worse': 8236, 'actually': 482, 'disappoint': 2370, 'know': 4301, 'better': 1092, 'choices': 1647, 'keep': 4249, 'choose': 1648, 'deal': 2186, 'body': 1205, 'mind': 4856, 'mess': 4790, 'want': 8040, 'lay': 4369, 'bed': 1037, 'never': 5103, 'get': 3305, 'life': 4437, 'sick': 6766, 'cry': 2086, 'sleep': 6846, 'hat': 3586, 'fake': 2912, 'smile': 6881, 'way': 8066, 'live': 4480, 'depression': 2267, 'anxiety': 722, 'motivation': 4974, 'leave': 4389, 'dread': 2518, 'house': 3756, 'able': 418, 'unable': 7750, 'new': 5107, 'friends': 3180, 'paranoid': 5481, 'restless': 6315, 'mentally': 4777, 'zone': 8339, 'lot': 4541, 'sorry': 6958, 'fuck': 3198, 'failure': 2905, 'disgrace': 2392, 'ever': 2805, 'write': 8254, 'long': 4518, 'message': 4791, 'halfway': 3522, 'end': 2712, 'delete': 2237, 'see': 6595, 'person': 5598, 'though': 7462, 'nobody': 5145, 'notice': 5183, 'break': 1279, 'please': 5703, 'expect': 2855, 'good': 3378, 'kind': 4273, 'love': 4549, 'cold': 1766, 'thoughtless': 7464, 'hard': 3557, 'stressful': 7153, 'scar': 6532, 'eventually': 2804, 'walk': 8028, 'matter': 4694, 'afraid': 541, 'happy': 3551, 'whenever': 8124, 'bad': 946, 'point': 5727, 'completely': 1838, 'problems': 5908, 'already': 625, 'enough': 2732, 'stop': 7123, 'anymore': 725, 'admit': 505, 'shit': 6733, 'social': 6914, 'suck': 7208, 'unintentionally': 7807, 'alone': 618, 'sometimes': 6942, 'wrong': 8257, 'say': 6524, 'secretly': 6589, 'fault': 2950, 'try': 7666, 'also': 629, 'emptiness': 2703, 'anger': 689, 'tiredness': 7519, 'loneliness': 4515, 'help': 3631, 'visible': 7983, 'physically': 5634, 'anything': 729, 'right': 6370, 'wish': 8186, 'someone': 6938, 'lose': 4535, 'doubt': 2492, 'would': 8243, 'fight': 3013, 'reach': 6122, 'emotional': 2688, 'mistake': 4897, 'almost': 616, 'side': 6767, 'tweet': 7699, 'sympathy': 7304, 'express': 2873, 'thoughts': 7466, 'outlet': 5386, 'stuff': 7173, 'without': 8193, 'judge': 4200, 'die': 2328, 'grave': 3427, 'sit': 6820, 'tell': 7384, 'miss': 4894, 'need': 5070, 'hear': 3611, 'alive': 601, 'truly': 7660, 'disappointment': 2371, 'overthink': 5425, 'sensitive': 6658, 'clingy': 1706, 'hardest': 3560, 'realize': 6138, 'mean': 4724, 'nothing': 5180, 'start': 7074, 'unloved': 7828, 'unwanted': 7853, 'pretend': 5864, 'painful': 5453, 'emotionaly': 2690, 'absolutely': 426, 'prefer': 5831, 'distance': 2412, 'mad': 4598, 'heartless': 3615, 'meet': 4749, 'annoy': 703, 'talk': 7332, 'needy': 5075, 'insecure': 3973, 'oh': 5273, 'plenty': 5706, 'sure': 7255, 'ok': 5279, 'hug': 3773, 'stay': 7087, 'quiet': 6055, 'might': 4832, 'laugh': 4355, 'deep': 2209, 'upset': 7867, 'fine': 3029, 'literally': 4478, 'smallest': 6870, 'change': 1574, 'treat': 7630, 'rude': 6448, 'mood': 4953, 'easier': 2590, 'somebody': 6935, 'ask': 824, 'possible': 5785, 'scenarios': 6539, 'head': 3598, 'imagine': 3853, 'heart': 3612, 'rip': 6376, 'million': 4853, 'piece': 5646, 'anyway': 731, 'stand': 7060, 'minute': 4878, 'special': 6988, 'next': 5113, 'find': 3028, 'look': 4523, 'stupid': 7177, 'every': 2809, 'night': 5128, 'regret': 6205, 'decisions': 2201, 'could': 1998, 'different': 2334, 'type': 7714, 'asleep': 825, 'control': 1945, 'hand': 3531, 'mouth': 4981, 'sound': 6963, 'silent': 6782, 'others': 5371, 'flashbacks': 3066, 'remember': 6241, 'suddenly': 7212, 'drop': 2533, 'take': 7321, 'trust': 7662, 'issue': 4099, 'give': 3335, 'toss': 7568, 'away': 920, 'unstable': 7847, 'dangerous': 2152, 'exactly': 2824, 'relief': 6230, 'angry': 690, 'lonely': 4516, 'notlike': 5186, 'belong': 1066, 'somewhere': 6944, 'anywhere': 733, 'tear': 7365, 'stare': 7070, 'blankly': 1168, 'space': 6973, 'exhaust': 2847, 'pain': 5451, 'replace': 6262, 'forget': 3123, 'lie': 4436, 'nighttime': 5136, 'distract': 2419, '1': 2, 'rely': 6237, 'happiness': 3550, '2': 123, '3': 199, 'behind': 1054, 'mask': 4675, 'closely': 1716, 'haha': 3509, 'still': 7109, 'worthless': 8240, 'lock': 4498, 'dark': 2159, 'room': 6422, 'seem': 6599, 'piss': 5664, 'promise': 5943, 'back': 939, 'moods': 4954, 'irritate': 4089, 'fghhhhjjjj': 3006, 'fgjj': 3007, 'emotionally': 2689, 'everyday': 2811, 'girl': 3327, 'many': 4648, 'world': 8230, 'run': 6455, 'soon': 6952, 'fall': 2913, 'apart': 736, 'eye': 2888, 'վou': 8351, 'thing': 7446, 'totally': 7570, 'fit': 3052, 'use': 7882, 'goodbye': 3380, 'fact': 2898, 'tough': 7576, 'instead': 3993, 'convince': 1955, 'tomorrow': 7553, 'confident': 1876, 'second': 6584, 'paradox': 5479, 'neither': 5085, 'pretty': 5867, 'amp': 661, 'funny': 3222, 'become': 1036, 'randomly': 6090, 'hold': 3698, 'important': 3883, 'question': 6044, 'handle': 3533, 'answer': 711, 'harder': 3559, 'fear': 2966, 'rejection': 6217, 'bury': 1392, 'destroy': 2292, 'depend': 2263, 'idea': 3818, 'else': 2670, 'happiest': 3548, 'scary': 6537, 'massive': 4680, 'screw': 6565, 'push': 6018, 'constant': 1919, 'daily': 2141, 'expectations': 2856, 'normal': 5173, 'quickly': 6051, 'effect': 2629, 'whole': 8140, 'gravestone': 3428, 'display': 2404, 'show': 6758, 'breathe': 1289, 'word': 8218, 'hell': 3629, 'wait': 8026, 'impossible': 3884, 'days': 2176, 'share': 6707, 'necessarily': 5067, 'empty': 2705, 'year': 8286, 'believe': 1059, 'probably': 5906, 'although': 635, 'unbelievable': 7754, 'fast': 2940, 'day': 2173, 'exist': 2849, 'whose': 8146, 'eat': 2596, 'put': 6021, 'insecurities': 3975, 'little': 4479, 'chest': 1625, 'nice': 5121, 'star': 7067, 'mirror': 4883, 'stream': 7141, 'face': 2894, 'beg': 1045, 'thousands': 7468, 'twitter': 7707, 'felt': 2986, 'middle': 4820, 'crap': 2038, 'wonder': 8206, 'maybe': 4708, 'breath': 1288, 'grab': 3399, 'stomach': 7118, 'tight': 7498, 'stress': 7152, 'together': 7542, 'cycle': 2135, 'free': 3161, 'repeatedly': 6260, 'bunch': 1379, 'embarrass': 2674, 'moment': 4931, 'wipe': 8181, 'numb': 5206, 'bathroom': 1012, 'wear': 8076, 'sleeves': 6849, 'teenagers': 7376, 'children': 1634, 'light': 4448, 'hope': 3725, 'officially': 5267, 'continue': 1940, 'jealous': 4134, 'lonelyi': 4517, 'overreact': 5419, 'ipromise': 4074, 'loyalty': 4556, 'reay': 6146, 'remind': 6242, 'past': 5514, 'slap': 6844, 'overuse': 5429, 'describe': 2278, 'tellin': 7385, 'realise': 6133, 'parent': 5487, 'silence': 6781, 'yes': 8295, 'bullshit': 1372, 'constantly': 1920, 'accuse': 458, 'reassurance': 6144, 'stronger': 7163, 'major': 4617, 'affect': 531, 'permission': 5590, 'best': 1082, 'suicide': 7219, 'note': 5178, 'pill': 5653, 'bottle': 1245, 'laughter': 4356, 'easy': 2595, 'family': 2920, 'fell': 2984, 'post': 5786, 'bother': 1244, 'perfectly': 5578, 'seriously': 6672, 'create': 2046, 'first': 3046, 'place': 5677, 'judgmental': 4203, 'everythings': 2815, 'alright': 626, 'everybody': 2810, 'drain': 2511, 'despite': 2289, 'truth': 7664, 'action': 472, 'energy': 2724, 'straight': 7132, 'hurtful': 3795, 'situations': 6825, 'insecurites': 3974, 'self': 6604, 'esteem': 2781, 'sink': 6811, 'apologize': 746, 'unworthy': 7856, 'priority': 5891, 'saddest': 6473, 'part': 5495, 'however': 3762, 'thay': 7425, 'fix': 3057, 'honestly': 3716, 'terrify': 7402, 'rest': 6313, 'unsure': 7851, 'whether': 8127, 'enjoy': 2730, 'company': 1826, 'closure': 1720, 'slide': 6852, 'ones': 5302, 'deepest': 2212, 'entire': 2738, 'unspoken': 7846, 'careful': 1487, 'fragile': 3147, 'heal': 3606, 'easily': 2592, 'participate': 5498, 'hang': 3537, 'drown': 2536, 'wake': 8027, 'glad': 3338, 'forever': 3122, 'inadequate': 3898, 'grow': 3464, 'confidence': 1875, 'years': 8288, 'slowly': 6864, 'crumble': 2082, 'ago': 554, 'depress': 2266, 'super': 7234, 'excite': 2838, 'brush': 1339, 'pack': 5446, 'blue': 1192, 'fresh': 3171, 'read': 6126, 'interact': 4010, 'personal': 5600, 'amaze': 640, 'damn': 2145, 'damage': 2144, 'least': 4386, 'abandon': 412, 'worth': 8239, 'explanation': 2868, 'cough': 1997, 'water': 8061, 'last': 4346, 'personality': 5601, 'description': 2279, 'ashamed': 819, 'forward': 3137, 'nervous': 5092, 'reply': 6264, 'scare': 6533, 'offend': 5259, 'door': 2475, 'survive': 7266, 'proud': 5959, 'australia': 889, 'support': 7246, 'muslim': 5019, 'brothers': 1332, 'sisters': 6819, 'jump': 4211, 'conclusions': 1860, 'resist': 6296, 'crime': 2061, 'muslims': 5020, 'news': 5109, 'short': 6746, 'another': 709, 'paper': 5476, 'cut': 2124, 'small': 6868, 'evil': 2819, 'experience': 2859, 'may': 4707, 'moon': 4955, 'count': 2001, 'front': 3190, 'movies': 4989, 'foot': 3111, 'protect': 5954, 'text': 7413, 'reread': 6281, 'send': 6650, 'learn': 4384, 'drink': 2526, 'sober': 6912, 'difficult': 2339, 'thank': 7421, 'texting': 7415, 'press': 5862, 'phone': 5626, 'idiot': 3826, 'two': 7708, 'weekend': 8091, 'wonderfull': 8208, 'sunday': 7229, 'safe': 6477, 'xox': 8269, 'accept': 441, 'strongest': 7164, 'weakest': 8071, 'respect': 6305, 'trustworthy': 7663, 'demand': 2246, 'correct': 1982, 'grammar': 3407, 'unfollow': 7792, 'follower': 3104, 'arm': 796, 'rather': 6110, 'true': 7658, 'friend': 3178, 'fool': 3109, 'useless': 7885, 'keyboard': 4259, 'listen': 4472, 'music': 5016, 'loud': 4542, '99': 404, '86': 381, 'logical': 4505, 'weird': 8098, 'single': 6810, 'thankful': 7422, 'failures': 2906, 'fail': 2904, 'appearances': 755, 'impressions': 3887, 'impact': 3866, '1am': 112, '2am': 191, '3am': 235, '4am': 278, 'call': 1432, 'play': 5692, 'stab': 7046, 'cheat': 1603, 'burn': 1388, 'somehow': 6937, 'work': 8219, 'half': 3517, 'morning': 4958, 'sense': 6657, 'story': 7128, 'begin': 1047, 'patience': 5526, 'order': 5338, 'grateful': 3424, 'lessons': 4415, 'chance': 1571, 'prove': 5962, 'move': 4983, 'dear': 2187, 'rhetorical': 6356, 'challenge': 1566, 'leader': 4379, 'unless': 7824, 'guilt': 3484, 'loss': 4539, 'betrayal': 1091, 'songs': 6947, 'bring': 1317, 'comfort': 1797, 'memories': 4771, 'honest': 3714, 'pass': 5505, 'us': 7877, 'lesson': 4414, 'feelingsi': 2979, 'secure': 6592, 'trouble': 7653, 'number': 5207, 'well': 8105, 'stick': 7107, 'hair': 3512, 'acne': 465, 'olives': 5285, 'shortcuts': 6747, 'photos': 5629, 'jeeeppeeee': 4140, 'lol': 4508, 'selfesteem': 6619, 'l': 4315, 'w': 8020, 'scroll': 6567, 'overdrive': 5410, 'hour': 3754, 'yet': 8300, 'anybody': 724, 'today': 7535, 'open': 5312, 'full': 3206, 'bore': 1235, 'ill': 3845, 'perfect': 5575, 'ounce': 5374, 'suffer': 7213, 'shoulder': 6754, 'beautiful': 1031, 'lifes': 4445, 'unfair': 7789, 'cowardly': 2028, 'badly': 950, 'harden': 3558, 'temper': 7386, 'touch': 7572, 'button': 1408, 'conversations': 1950, 'society': 6917, 'rumor': 6454, 'karma': 4239, 'punch': 5994, 'case': 1505, 'headphones': 3603, 'warn': 8046, 'defensive': 2222, 'breakdown': 1281, 'mother': 4969, 'dont': 2470, 'decision': 2200, 'decide': 2198, 'prettier': 5865, 'smarter': 6872, 'younger': 8315, 'wall': 8029, 'taller': 7335, 'skinnier': 6836, 'nicer': 5122, 'calmer': 1435, 'crazy': 2043, 'schedule': 6542, 'appearance': 754, 'simple': 6795, 'longer': 4519, 'serve': 6675, 'pour': 5804, 'hearts': 3616, 'discuss': 2386, 'certainly': 1554, 'bravest': 1274, 'forgive': 3124, 'scissor': 6553, 'underestimate': 7772, 'honesty': 3717, 'struggle': 7166, 'either': 2646, 'blink': 1178, 'step': 7098, 'someday': 6936, 'ex': 2822, 'block': 1184, 'heaven': 3621, 'decieved': 2199, 'entertain': 2735, 'advice': 520, 'usually': 7891, 'waste': 8058, 'deserve': 2280, 'girls': 3331, 'favorite': 2953, 'song': 6946, 'untold': 7852, 'excuse': 2842, 'youjust': 8313, 'kid': 4266, 'scream': 6562, 'dislike': 2397, 'attractive': 871, 'ugly': 7740, 'strangers': 7136, 'yesterday': 8298, 'speak': 6986, 'appreciate': 768, 'thinner': 7452, 'happier': 3547, 'friendly': 3179, 'tan': 7340, 'awkward': 924, 'involve': 4066, 'encourage': 2710, 'save': 6522, 'check': 1604, 'apparent': 750, 'definitely': 2225, 'opportunity': 5327, 'yeah': 8285, 'argument': 790, 'mine': 4863, 'emotionless': 2691, 'confuse': 1884, 'attitude': 866, 'effort': 2635, 'complete': 1837, 'goodbyes': 3381, 'sneak': 6897, 'cover': 2018, 'avoid': 912, 'react': 6123, 'bigger': 1111, 'texts': 7417, 'race': 6070, 'color': 1782, 'within': 8192, 'patient': 5527, 'secret': 6587, 'bail': 955, 'jail': 4117, 'beside': 1080, 'fun': 3213, 'prettiest': 5866, 'secrets': 6590, 'kindest': 4274, 'dm': 2436, 'shadow': 6701, 'near': 5064, 'brightest': 1313, 'nowhere': 5196, 'darkest': 2160, 'hours': 3755, 'enemy': 2721, 'im': 3849, 'invisible': 4060, 'great': 3432, 'superpower': 7240, 'urge': 7873, 'future': 3228, 'simply': 6798, 'instructions': 3995, 'revenge': 6343, 'nah': 5041, 'lazy': 4373, 'faithful': 2911, 'sooner': 6953, 'later': 4350, 'complain': 1834, 'humor': 3782, 'ignorance': 3835, 'calmness': 1437, 'acceptance': 443, 'kindness': 4276, 'weakness': 8072, 'absent': 424, 'present': 5855, 'success': 7203, 'disrespect': 2408, 'neglect': 5078, 'spot': 7025, 'assume': 845, 'moments': 4932, 'pause': 5534, 'rewind': 6353, 'pick': 5639, 'fallbut': 2914, 'smart': 6871, 'low': 4551, 'battery': 1015, 'apparently': 751, 'follow': 3103, 'rate': 6109, 'shake': 6702, '15': 69, 'butterfly': 1403, 'tummy': 7684, 'baby': 936, 'kick': 4264, 'dead': 2182, 'crush': 2084, 'tales': 7331, 'lifetime': 4446, 'age': 548, 'height': 3626, 'weight': 8096, 'spend': 7000, 'imperfect': 3875, 'beware': 1095, 'three': 7473, 'season': 6579, 'shall': 6704, 'set': 6682, 'talent': 7328, 'sentence': 6659, 'power': 5806, 'gorgeous': 3389, 'often': 5272, 'jealousy': 4135, 'size': 6829, 'book': 1215, 'film': 3019, 'unfortunately': 7795, 'men': 4774, 'women': 8203, 'definition': 2226, 'alcohol': 589, 'six': 6826, 'letter': 4419, 'sell': 6636, 'female': 2987, 'man': 4634, 'relevant': 6228, 'big': 1110, 'third': 7453, 'party': 5504, 'elses': 2672, 'relationship': 6222, 'onto': 5307, 'wonderful': 8207, 'dowe': 2496, 'healthy': 3610, 'electric': 2655, 'blanket': 1167, 'switch': 7300, 'sweetheart': 7291, 'spiritually': 7013, 'option': 5334, 'haters': 3589, 'achieve': 460, 'whatever': 8120, 'cool': 1965, 'volumes': 8007, 'quick': 6049, 'reaction': 6124, 'valuable': 7910, 'ppl': 5814, 'build': 1364, 'bridge': 1307, 'keeper': 4250, 'texted': 7414, 'date': 2167, 'commit': 1812, 'spiders': 7005, 'outside': 5396, 'automatically': 899, 'random': 6089, 'blind': 1176, 'hill': 3665, 'arrive': 807, 'spider': 7003, '4': 245, 'unfollowers': 7793, 'shame': 6705, 'lead': 4378, 'conversation': 1949, 'girlfriend': 3329, 'competition': 1832, 'swear': 7281, 'pic': 5638, 'spam': 6979, 'overlook': 5415, 'everytime': 2816, 'flaw': 3070, 'messy': 4793, 'trip': 7648, 'betray': 1090, 'repeat': 6259, 'business': 1394, 'guess': 3477, 'blow': 1190, 'barely': 987, 'drama': 2512, 'huge': 3774, 'queen': 6042, 'permanent': 5587, 'temporary': 7388, 'voicemail': 8004, 'shock': 6739, 'nowadays': 5194, 'position': 5776, 'diffrence': 2342, 'intend': 4004, 'battle': 1016, 'sudden': 7211, 'coffee': 1755, 'soul': 6961, 'currently': 2115, 'horrible': 3734, 'disappear': 2369, 'sometime': 6941, 'trough': 7654, 'motion': 4973, 'ocean': 5249, 'afloat': 540, 'hayd': 3593, 'killer': 4271, 'voice': 8002, 'recognise': 6162, 'jack': 4111, 'jill': 4160, 'sing': 6806, 'fuckin': 3201, 'wreck': 8248, 'saw': 6523, 'siblings': 6765, 'teachers': 7361, 'classmates': 1684, 'verge': 7935, 'oblivious': 5233, 'confession': 1874, 'suicidal': 7218, 'monster': 4947, 'roof': 6420, 'nights': 5133, 'watch': 8060, 'video': 7962, 'demons': 2251, 'thrash': 7469, 'internally': 4020, 'outwardly': 5399, 'lips': 4468, 'hips': 3674, 'anyones': 728, 'shine': 6729, 'bright': 1311, 'scariest': 6536, 'realisation': 6132, 'awake': 914, 'ability': 417, 'adh': 495, 'yell': 8290, 'shout': 6755, 'whisper': 8131, 'beat': 1028, 'fairytales': 2909, 'magic': 4607, 'strike': 7156, 'kf': 4260, 'beneath': 1073, 'wave': 8063, 'thirst': 7454, 'om': 5289, 'al': 584, 'hello': 3630, 'enter': 2734, 'childhood': 1633, 'flower': 3087, 'mob': 4912, 'valentinesday': 7905, 'white': 8134, 'rise': 6377, 'black': 1152, 'cmh': 1732, 'sunshine': 7233, 'rain': 6079, 'hit': 3681, 'crash': 2039, 'louder': 4543, 'djk': 2435, 'kl': 4289, '204': 147, 'dms': 2441, 'rant': 6095, 'late': 4348, 'lungs': 4581, 'dry': 2539, 'leaven': 4390, 'anonymous': 707, 'insist': 3981, 'lonley': 4522, 'unimportant': 7804, 'anwer': 721, 'stranger': 7135, 'onell': 5301, 'keala': 4247, 'settle': 6684, 'insult': 3997, 'receive': 6154, 'contain': 1933, 'brain': 1267, 'grade': 3402, 'health': 3607, 'amount': 660, 'babes': 935, '2017': 140, 'guy': 3493, 'draw': 2515, 'silver': 6788, 'red': 6177, 'monsters': 4948, 'weak': 8070, '3pm': 240, 'whit': 8133, 'mom': 4930, 'dad': 2137, 'human': 3777, 'skin': 6833, 'arg': 788, 'breake': 1282, 'scratch': 6560, 'wrists': 8253, 'bruise': 1338, 'thighs': 7444, 'pills': 5655, 'rope': 6426, 'tide': 7495, 'gun': 3488, 'load': 4493, 'disaster': 2374, 'prouder': 5960, 'loose': 4527, 'razor': 6121, 'clench': 1695, 'fists': 3051, 'curl': 2113, 'ball': 963, 'muffle': 5003, 'sob': 6910, 'silently': 6783, 'shatter': 6715, 'doors': 2479, 'dramatic': 2513, 'insane': 3971, 'public': 5983, 'finally': 3024, 'roll': 6414, 'wil': 8159, 'loneliest': 4514, 'sun': 7228, 'blame': 1165, 'home': 3708, 'cancer': 1456, 'disease': 2388, 'victim': 7954, 'darkness': 2161, 'consume': 1928, 'erase': 2765, 'existence': 2850, 'allergies': 604, 'compare': 1827, 'media': 4735, 'blur': 1194, 'courage': 2010, 'ceiling': 1535, 'uglier': 7738, 'reflection': 6193, 'irrelevant': 4086, 'shower': 6760, 'ugliest': 7739, 'suffocate': 7214, 'isolate': 4097, '2020': 143, 'dreadful': 2519, 'far': 2933, 'notokay': 5187, 'huh': 3775, 'burden': 1385, '𝘐𝘧': 8375, '𝘺𝘰𝘶': 8385, '𝘩𝘢𝘥': 8379, '𝘤𝘢𝘳𝘦𝘥': 8377, '𝘢': 8376, '𝘭𝘪𝘵𝘵𝘭𝘦': 8381, '𝘮𝘰𝘳𝘦': 8383, '𝘮𝘢𝘺𝘣𝘦': 8382, '𝘐': 8374, '𝘸𝘰𝘶𝘭𝘥𝘯𝘵': 8384, '𝘩𝘢𝘷𝘦': 8380, '𝘥𝘪𝘦𝘥': 8378, 'pure': 6008, 'cross': 2072, 'roads': 6387, 'hop': 3724, 'car': 1477, 'claim': 1674, 'facetoface': 2896, 'presence': 5854, 'high': 3651, 'disappointments': 2372, 'burst': 1391, 'treasure': 7628, 'otherwise': 5372, 'grant': 3418, 'flow': 3086, 'toxic': 7588, 'insomnia': 3982, 'snap': 6893, 'afterwards': 546, 'vessel': 7941, 'happygolucky': 3552, 'benefit': 1075, 'escape': 2773, 'sleepless': 6847, 'death': 2188, 'choice': 1646, 'master': 4682, 'yep': 8293, 'panic': 5469, 'outcast': 5379, 'everywhere': 2817, 'herealonein': 3640, 'darknessdrowning': 2162, 'toy': 7592, 'throw': 7480, 'priorities': 5889, 'twice': 7703, 'school': 6546, 'helpless': 3633, 'breathless': 1290, 'interest': 4014, 'class': 1681, 'clear': 1692, 'nuisance': 5205, 'whichi': 8128, 'tend': 7391, 'city': 1672, 'higher': 3653, 'rid': 6363, 'disagree': 2368, 'road': 6386, 'fire': 3039, 'closer': 1717, 'peak': 5551, 'relatable': 6220, 'blade': 1160, 'blank': 1166, 'diary': 2322, 'fill': 3018, 'safest': 6480, 'carethey': 1492, 'prevent': 5869, 'ways': 8068, 'since': 6803, 'endless': 2716, 'eternal': 2786, 'opinions': 5324, 'invincible': 4058, 'imperfections': 3877, 'fat': 2944, 'money': 4939, 'disconnect': 2379, 'indirectly': 3920, 'replay': 6263, 'puncture': 5996, 'seeker': 6598, 'unexplainable': 7788, 'must': 5021, 'haunt': 3591, 'cause': 1523, 'anytime': 730, 'seek': 6597, 'yin': 8302, 'yang': 8279, 'surround': 7265, 'positivity': 5781, 'uncountable': 7768, 'pound': 5803, 'sadder': 6472, 'consider': 1913, 'air': 569, 'brokened': 1326, 'ring': 6373, 'dream': 2520, 'nothings': 5182, 'coldness': 1767, 'freeze': 3165, 'corner': 1976, 'painless': 5455, 'bet': 1086, 'midnight': 4825, 'pity': 5670, 'souls': 6962, 'beyond': 1098, 'accidental': 446, 'numbness': 5208, 'painfully': 5454, 'lifeless': 4442, 'vision': 7985, 'till': 7505, 'sake': 6486, 'surprise': 7262, 'fatter': 2948, 'positive': 5777, 'limit': 4458, 'pathetic': 5523, 'obviously': 5242, 'lower': 4552, 'wanderthe': 8039, 'disgust': 2394, 'concentrate': 1853, 'frustrate': 3195, 'assignments': 841, 'due': 2548, 'procrastinate': 5912, 'trap': 7620, 'kitty': 4288, 'halloween': 3524, 'companion': 1825, 'selfdestruction': 6613, 'blast': 1169, 'potato': 5799, '11pm': 46, 'specialty': 6989, 'sky': 6840, 'joke': 4176, 'swing': 7297, 'object': 5228, 'bleed': 1172, 'depressions': 2269, 'nightmares': 5131, 'hk': 3685, 'skinner': 6835, 'unlike': 7825, 'amme': 658, 'art': 809, 'crave': 2040, 'picture': 5645, 'wrist': 8252, 'difference': 2333, 'relieve': 6231, 'drug': 2537, 'addictive': 493, 'boom': 1222, 'cat': 1514, 'ﾟ': 8361, 'ﾟﾟ': 8365, 'ﾟhateﾟ': 8362, 'ﾟmyself': 8363, 'grandpa': 3414, 'hospice': 3738, 'tonight': 7557, 'ready': 6129, 'psa': 5969, 'aware': 918, 'rn': 6384, 'idk': 3827, 'therapist': 7436, 'weeks': 8093, 'suppose': 7251, 'appt': 774, 'meds': 4746, 'cuz': 2132, 'sabotage': 6467, 'accidentally': 447, '13': 58, 'coronavirus': 1978, 'cancel': 1454, 'therapy': 7437, 'sessions': 6681, 'psychically': 5975, 'wow': 8245, 'blades': 1161, 'productive': 5919, 'friday': 3176, 'partner': 5501, 'dump': 2555, 'freak': 3157, 'trigger': 7643, 'absolute': 425, 'plan': 5680, 'grandma': 3411, 'overwhelm': 5431, 'aneurisms': 683, 'feelwe': 2981, 'med': 4734, 'bc': 1021, 'top': 7562, 'surgery': 7260, 'autopilot': 901, 'trauma': 7623, 'yikes': 8301, 'contemplate': 1934, 'grandpas': 3416, 'greet': 3440, 'precious': 5825, 'anniversary': 697, 'month': 4949, 'basically': 1003, 'session': 6680, 'surprisingly': 7263, 'lately': 4349, 'ptsd': 5980, 'ass': 830, 'nightmare': 5130, 'insurance': 3998, 'deny': 2261, 'devastate': 2300, 'dress': 2525, 'consistently': 1915, 'week': 8090, 'course': 2012, '1111': 37, 'rush': 6457, 'cave': 1529, 'exhaustion': 2848, 'emptinessi': 2704, 'crawl': 2041, 'kms': 4293, 'lmfao': 4491, 'tho': 7457, 'attempt': 861, 'hopefully': 3727, 'successful': 7205, 'misgendered': 4890, 'idek': 3823, 'mia': 4807, 'consolation': 1916, 'ahead': 561, 'abuser': 433, 'catch': 1516, 'cop': 1969, 'wellness': 8108, 'hospital': 3739, 'thursday': 7488, 'anxious': 723, 'join': 4173, '21': 154, 'earlier': 2583, '60': 324, 'clean': 1689, 'streak': 7140, 'yup': 8325, 'disorder': 2403, 'shitty': 6737, 'dig': 2343, 'shoutout': 6756, '2019': 142, 'christmas': 1657, 'extra': 2880, '0': 0, 'across': 469, 'country': 2005, 'fly': 3093, 'service': 6677, 'extremely': 2884, 'mentor': 4779, '27': 185, 'pray': 5820, 'prayers': 5822, 'seafood': 6573, 'allergy': 605, 'restaurant': 6314, 'vacation': 7898, 'manage': 4635, 'decent': 2197, 'smoke': 6884, 'weed': 8088, 'test': 7408, 'college': 1775, 'meltdown': 4761, 'noon': 5166, 'sack': 6468, 'relapse': 6219, 'crisis': 2062, '19th': 111, 'birthday': 1140, 'ya': 8277, 'password': 5512, 'jusssstttt': 4220, '10': 3, 'danger': 2151, 'stable': 7048, 'visit': 7987, 'early': 2584, '20': 124, 'minutes': 4879, 'tattoo': 7350, 'cousins': 2017, 'nap': 5047, 'mark': 4661, 'aunt': 885, 'cousin': 2016, 'sweatshirts': 7286, 'oops': 5311, 'bite': 1145, 'list': 4471, 'smash': 6875, 'remote': 6249, 'destructive': 2294, 'behavior': 1052, 'bust': 1397, 'reminder': 6243, 'harm': 3568, 'orrrr': 5365, 'awful': 922, 'summer': 7224, 'old': 5282, 'blood': 1187, 'docs': 2443, '40': 246, 'grip': 3452, 'hm': 3686, 'overdose': 5409, 'relate': 6221, 'omg': 5293, 'sex': 6690, 'consent': 1906, 'truck': 7655, 'river': 6383, 'window': 8173, 'drive': 2527, 'jerk': 4150, 'wheel': 8123, 'mountain': 4978, 'uncles': 7761, '3rd': 241, '8': 367, 'yo': 8303, 'rnat': 6385, 'function': 3214, 'prayer': 5821, 'boost': 1227, 'hail': 3511, 'cute': 2125, 'genuinely': 3300, 'doctor': 2444, 'buckle': 1354, 'seatbelt': 6581, 'mental': 4775, '321': 217, 'rubber': 6445, 'band': 974, 'addict': 491, 'unhappy': 7798, 'norm': 5172, 'rap': 6096, 'february': 2972, '34': 223, 'celebrate': 1537, 'thanksgiving': 7423, 'feed': 2975, 'ur': 7870, 'sister': 6816, 'none': 5155, 'vaca': 7897, 'war': 8041, 'win': 8171, '24hrs': 171, 'af': 528, 'annnd': 698, 'boyfriend': 1258, '18th': 102, 'key': 4258, 'argue': 789, 'scenario': 6538, 'couse': 2015, 'attack': 859, 'boss': 1241, 'recover': 6172, 'shoe': 6740, 'cope': 1970, 'besides': 1081, 'linger': 4461, 'idol': 3828, 'douche': 2493, '216': 158, 'followers': 3105, '500': 290, 'ugh': 7737, 'vent': 7931, '182': 98, '155': 77, 'uncle': 7760, '112': 38, 'alot': 622, 'purge': 6011, 'anorexia': 708, 'abuse': 432, 'intro': 4040, 'happyhow': 3553, 'dare': 2158, 'tempt': 7389, 'knives': 4299, 'slice': 6851, 'ice': 3811, 'desperate': 2288, 'addiction': 492, 'name': 5043, 'antidepressants': 717, 'buy': 1409, 'zodiac': 8338, 'sign': 6774, '29': 190, 'longest': 4520, 'months': 4950, '31': 213, '1863': 100, 'gettysburg': 3306, '35': 226, '12': 48, 'grace': 3400, 'noni': 5158, '17': 91, 'artist': 813, 'kelly': 4252, 'clarkson': 1680, '14': 63, 'nope': 5171, 'cookies': 1964, 'cake': 1429, '9': 391, 'yesalot': 8296, '23': 166, 'coke': 1765, 'sprite': 7035, 'bf': 1100, '39': 234, 'ghost': 3315, 'hunter': 3790, '30': 200, 'insecurity': 3976, '11': 31, '26': 181, 'pull': 5988, 'store': 7124, 'warm': 8045, 'chocolate': 1643, 'chip': 1640, 'cookie': 1963, 'livedwondering': 4482, 'horoscope': 3732, 'superdoom': 7237, 'tuesday': 7682, 'poems': 5720, 'abt': 428, 'poetic': 5722, 'online': 5305, 'register': 6204, 'ceo': 1549, 'obsessive': 5239, 'ah': 557, 'u200dtonight': 7727, 'los': 4534, 'angeles': 686, 'irl': 4081, 'u200d': 7721, 'obsess': 5238, 'dudu': 2547, 'protagonists': 5953, 'milk': 4844, 'paperback': 5477, 'gear': 3273, 'relaunch': 6224, 'psyche': 5974, 'neurotic': 5098, 'miracle': 4882, 'except': 2830, 'denial': 2256, 'pleasure': 5704, 'desire': 2284, 'progress': 5938, 'mystical': 5036, 'origins': 5361, 'uncontrollable': 7767, 'katherine': 4241, 'frasier': 3155, 'finale': 3023, 'august': 884, 'inform': 3943, 'bear': 1026, 'chill': 1636, 'relax': 6225, 'unhealthy': 7799, 'performance': 5580, 'spectacular': 6994, 'sponge': 7020, 'absorb': 427, 'clearly': 1694, 'boundaries': 1250, 'connection': 1894, 'headache': 3599, 'grieve': 3447, 'dumb': 2552, 'stage': 7052, 'inner': 3961, 'beauty': 1033, 'serotonin': 6673, 'channel': 1576, 'personally': 5602, 'skincare': 6834, 'seven': 6686, 'stag': 7051, 'rejoin': 6218, 'honey': 3718, 'interactions': 4012, 'aug': 883, 'cometh': 1796, 'anthology': 712, 'ft': 3197, 'print': 5887, 'cult': 2100, 'booksmother': 1220, 'meat': 4729, 'scarecroneamp': 6534, 'sext': 6693, 'copy': 1972, 'musical': 5017, 'university': 7818, 'slow': 6863, 'selflove': 6626, 'package': 5447, 'awwww': 926, 'flag': 3059, 'cosmic': 1990, 'aloneness': 619, '5': 288, 'maintain': 4616, 'figure': 3015, 'ego': 2644, 'politics': 5743, 'value': 7912, 'brave': 1272, 'impulsive': 3895, 'slightly': 6854, 'planet': 5682, 'tree': 7632, 'five': 3054, 'apocalypse': 743, 'version': 7937, 'impulse': 3894, 'existential': 2851, 'q': 6027, 'shittier': 6735, 'spoiler': 7018, 'reveal': 6339, 'unloveable': 7827, 'tune': 7686, 'thrill': 7475, 'conclusion': 1859, 'grapple': 3422, 'confusion': 1885, 'strange': 7134, 'gian': 3316, 'per': 5571, 'include': 3906, 'internet': 4023, 'appear': 753, 'roleplay': 6412, 'asshole': 837, 'banana': 973, 'passive': 5510, 'aggressive': 553, 'sort': 6959, 'humans': 3778, 'sale': 6489, 'flirt': 3079, 'mortal': 4963, 'expand': 2853, 'shape': 6706, 'void': 8006, 'opportunities': 5326, 'selfdoubt': 6617, 'unknown': 7821, 'nature': 5056, 'supporter': 7247, 'defense': 2220, 'reject': 6216, 'god': 3363, 'softly': 6924, 'invent': 4046, 'yogurt': 8307, 'fate': 2945, 'interfere': 4015, 'dissociation': 2411, 'core': 1973, 'underlie': 7774, 'rectify': 6176, 'ouvre': 5401, 'hi': 3648, 'nonconsensually': 5153, 'noise': 5148, 'grnnghgh': 3453, 'isolation': 4098, 'unnecessary': 7832, 'father': 2946, 'fuckheads': 3200, 'corporation': 1981, 'lecture': 4392, 'empathy': 2694, 'selfquarantining': 6630, '4ever': 281, 'moisturize': 4927, 'hydrate': 3801, 'affirmations': 535, 'account': 452, 'lolol': 4510, 'zoom': 8340, 'guilty': 3485, 'subtweeting': 7199, 'febos': 2971, 'rule': 6452, '500000': 293, 'grief': 3446, 'selfacceptance': 6605, 'reluctantly': 6236, 'tolerate': 7550, 'concern': 1857, 'wednesday': 8086, 'peace': 5546, 'passover': 5511, 'natural': 5054, 'state': 7080, 'klezmeradjacent': 4291, 'baybeee': 1018, 'period': 5584, 'tampon': 7339, 'underwear': 7781, 'punk': 5998, 'hater': 3588, 'peaceful': 5548, 'unconditionally': 7764, 'avoidant': 913, 'attachment': 858, 'style': 7182, 'spell': 6999, 'cum': 2103, 'oversharing': 5421, 'nerve': 5091, 'hey': 3647, 'validate': 7907, 'integrity': 4001, 'quietly': 6057, 'bagel': 953, 'cream': 2045, 'cheese': 1612, 'punish': 5997, 'donate': 2465, 'science': 6549, '65': 331, 'nft': 5116, 'thx': 7489, 'moderate': 4920, 'director': 2363, 'mediocre': 4740, 'caffeinated': 1425, 'intensity': 4006, 'selfsabotaging': 6631, 'uh': 7741, '6': 323, '7': 343, 'noooo': 5167, 'fuuuck': 3229, 'simultaneously': 6802, 'loser': 4536, 'pornhub': 5768, 'selftorture': 6633, 'bag': 952, 'doritos': 2485, 'pics': 5644, 'brb': 1276, 'recs': 6175, 'n': 5037, 'dick': 2324, 'tragedy': 7602, 'vaccinate': 7899, 'masturbate': 4686, 'soft': 6922, 'pretzel': 5868, 'melissa': 4759, 'broder': 1325, 'evidence': 2818, 'brad': 1263, 'listi': 4475, 'pm': 5713, 'pt': 5979, 'sight': 6773, 'condom': 1867, 'crowd': 2075, 'snack': 6889, 'club': 1726, 'sopranos': 6956, 'cashmere': 1509, 'missy': 4896, 'pile': 5652, 'carry': 1497, 'content': 1937, 'skull': 6838, 'irrational': 4084, 'intuition': 4043, 'recent': 6156, 'study': 7172, 'consistent': 1914, 'compulsive': 1847, 'behaviors': 1053, 'terrible': 7399, 'ideas': 3822, 'functional': 3215, 'nonpms': 5161, 'lack': 4321, 'blister': 1180, 'verve': 7940, 'pms': 5714, 'sylvia': 7303, 'plath': 5690, 'journey': 4189, 'event': 2802, 'kristen': 4309, 'iskandrian': 4095, 'alt': 630, 'lolback': 4509, 'indie': 3919, 'bookstore': 1221, 'depressive': 2270, 'instagram': 3989, 'sentimental': 6660, 'group': 3463, 'cereal': 1551, 'dog': 2449, 'elements': 2658, 'rad': 6073, 'astute': 851, 'independent': 3915, 'woman': 8200, 'validation': 7908, 'recommend': 6166, 'wed': 8085, 'fav': 2951, 'brontez': 1327, 'purnell': 6013, '100': 4, 'boyfriends': 1259, 'milf': 4842, '435': 266, 'philly': 5621, 'rediscover': 6184, 'nothingness': 5181, 'gross': 3460, 'review': 6347, 'typical': 7716, 'passwords': 5513, 'labor': 4319, 'peerpressuring': 5563, 'inanimate': 3900, 'nightme': 5132, 'likeryan': 4454, 'oconnellare': 5252, 'virtual': 7978, 'selfdestructive': 6614, 'gentle': 3297, 'jd': 4133, 'process': 5911, 'selfawareness': 6607, 'excerpt': 2834, 'societys': 6918, 'standards': 7062, 'naturally': 5055, 'mail': 4610, 'bookplates': 1218, 'hmu': 3690, 'email': 2673, 'bio': 1130, 'dregs': 2524, 'dopamine': 2481, 'therefore': 7438, 'lightly': 4449, 'cloud': 1723, 'downstairs': 2502, 'meaningful': 4725, 'blend': 1174, 'theo': 7430, 'ancient': 677, 'entrepreneur': 2740, 'unconditional': 7763, 'memoir': 4767, 'aol': 734, 'events': 2803, 'novelmilk': 5191, 'link': 4463, 'thread': 7470, 'nurse': 5209, 'goodnight': 3385, 'icu': 3816, 'wld': 8195, 'min': 4855, 'article': 810, 'ear': 2582, 'wisdom': 8183, 'perspective': 5604, 'onduty': 5298, 'hurry': 3793, 'lmk': 4492, 'common': 1817, 'courtesy': 2014, 'steven': 7104, 'spielberg': 7006, 'cozy': 2030, 'selfcentered': 6608, 'team': 7364, 'imaginary': 3851, 'overtime': 5428, 'todays': 7537, 'agenda': 550, 'powerpoint': 5811, 'presentation': 5856, 'studio': 7170, 'record': 6170, 'audiobook': 880, 'engineer': 2726, 'clit': 1711, 'knish': 4298, 'avail': 903, 'preorder': 5842, 'audible': 876, 'funeral': 3218, 'turnout': 7692, 'kiss': 4280, 'newsthe': 5112, 'chapter': 1586, 'ventilator': 7932, 'severely': 6689, 'injure': 3957, 'accident': 445, 'individually': 3923, 'bob': 1201, 'pressure': 5863, 'uk': 7744, 'represent': 6268, 'birth': 1139, 'xmas': 8268, 'vogue': 8001, 'feb': 2970, '2021': 144, 'shhhh': 6725, 'yearend': 8287, 'honor': 3719, 'level': 4421, 'wash': 8053, 'deeper': 2211, 'purer': 6009, '22': 161, 'doom': 2474, 'powerless': 5810, 'speck': 6993, 'dust': 2563, 'hobbies': 3694, 'attraction': 870, 'outcome': 5380, 'hot': 3745, 'goth': 3392, 'writer': 8255, 'oprah': 5331, 'hotttt': 3752, 'purnells': 6014, 'girlhood': 3330, 'wound': 8244, 'child': 1632, 'shhhhh': 6726, 'conquer': 1900, 'unrequited': 7841, 'floor': 3081, 'dot': 2488, 'com': 1786, 'scale': 6525, '110': 32, 'cosplaying': 1992, 'clothe': 1722, 'dimension': 2350, 'project': 5940, 'pre': 5823, 'buttheads': 1404, 'household': 3757, 'download': 2500, '𝗧𝗵𝗶𝘀': 8370, '𝗰𝗹𝗮𝗶𝗺': 8371, '𝗶𝘀': 8373, '𝗱𝗶𝘀𝗽𝘂𝘁𝗲𝗱': 8372, 'trash': 7622, 'repress': 6271, 'punctuate': 5995, 'misdirect': 4885, 'inwardly': 4068, 'appropriate': 771, 'effortlessly': 2636, 'harsh': 3581, 'critic': 2065, 'respond': 6307, 'response': 6308, 'invite': 4064, 'selfpromo': 6627, 'selfpromoting': 6628, 'retire': 6326, 'symptoms': 7306, 'depwessed': 2274, 'park': 5490, 'train': 7604, 'return': 6330, 'stupider': 7178, 'fantasy': 2932, 'festival': 2996, 'sec': 6583, 'juice': 4206, 'resentment': 6288, 'consequences': 1908, 'difficulty': 2341, 'barrier': 995, 'joy': 4191, 'meaningless': 4726, 'unrealistic': 7840, 'pink': 5658, 'lovely': 4550, 'pizza': 5674, 'food': 3107, 'achievement': 461, 'unlock': 7826, 'job': 4165, 'invalidate': 4044, 'womannnn': 8201, 'finish': 3036, 'phat': 5618, 'moms': 4936, 'facebook': 2895, 'supporters': 7248, 'dolls': 2460, 'elite': 2664, 'outbakersfield': 5377, 'unite': 7811, 'airlinesi': 575, 'risky': 6380, 'etc': 2785, 'mf': 4803, 'hack': 3501, 'wthu200d': 8261, 'depressionanxiety': 2268, 'nose': 5175, 'lil': 4455, 'wtf': 8260, 'disclosable': 2377, 'information': 3944, 'aot': 735, 'valentines': 7904, 'gift': 3320, 'lt3': 4561, 'gf': 3307, 'chipotle': 1641, 'table': 7314, 'funkadelic': 3220, 'anus': 720, 'match': 4688, 'profile': 5930, 'ik': 3842, 'quietit': 6056, 'abortion': 419, 'womans': 8202, 'bruh': 1337, '60s': 328, 'yeppp': 8294, 'boop': 1226, 'speaker': 6987, 'deadass': 2183, 'machine': 4594, 'bass': 1007, 'ratatatatatatatatatatataa': 6108, 'aux': 902, 'rock': 6403, 'dude': 2545, 'audacity': 875, 'playlist': 5697, 'terriblefuck': 7400, 'diebut': 2329, 'textingi': 7416, 'boy': 1257, 'marry': 4666, 'significant': 6777, 'worship': 8237, 'youwhy': 8322, 'madly': 4600, 'heartthat': 3617, '70s': 349, 'netflix': 5096, 'hotter': 3751, 'weightboys': 8097, 'pant': 5471, 'dope': 2482, 'endseventually': 2719, 'intill': 4036, 'dance': 2149, 'idc': 3817, 'noweeeelllllll': 5195, 'daddy': 2139, 'suppress': 7252, 'fuuuuuuuuck': 3230, 'restroom': 6320, 'smell': 6877, 'infront': 3946, 'rough': 6431, 'brighten': 1312, 'ha': 3497, 'isabel': 4092, 'hip': 3671, 'shakin': 6703, 'booty': 1232, 'freakin': 3158, 'mascara': 4673, 'lipstick': 4469, 'goodbut': 3379, 'boob': 1214, 'bill': 1119, 'sexy': 6696, 'colman': 1779, 'vibe': 7949, 'tryin': 7667, 'tf': 7418, 'biggeru200d': 1112, 'ii': 3840, 'donok': 2468, 'john': 4169, 'pablo': 5444, 'whateva': 8119, 'bro': 1322, 'hilarious': 3663, 'aha': 558, 'youbitch': 8312, 'butt': 1401, 'gut': 3492, 'horny': 3731, 'btw': 1351, 'tott': 7571, 'toilet': 7544, 'immature': 3859, 'beu200d': 1093, 'shade': 6700, 'midlife': 4824, 'literal': 4477, 'boot': 1228, 'inch': 3905, 'livin': 4485, 'disturb': 2422, 'math': 4692, 'analysismath': 671, 'anal': 667, 'grapes': 3419, 'barbecue': 982, 'popchips': 5755, 'sneeze': 6899, 'whore': 8145, 'ahaha': 559, 'dwight': 2570, 'ignorant': 3836, 'slut': 6867, 'asmr': 826, '6500': 332, 'languages': 4336, 'facts': 2901, 'raise': 6082, 'accelerate': 439, 'timeline': 7509, 'convo': 1956, 'invest': 4051, '47': 273, 'startups': 7078, '4m': 284, 'deploy': 2265, '85k': 380, 'avg': 910, 'median': 4736, 'valuation': 7911, '16m': 89, 'hire': 3675, 'awesome': 921, 'immediately': 3860, 'starters': 7076, 'rarely': 6103, 'pod': 5716, 'debut': 2191, 'paul': 5533, 'tudor': 7681, 'jones': 4182, 'billionaire': 1122, 'greatest': 3434, 'macro': 4597, 'investors': 4057, 'bitcoin': 1144, 'cohort': 1760, 'ltv': 4563, 'customers': 2122, 'view': 7965, 'ari': 792, 'gold': 3371, 'campus': 1450, 'announcement': 702, 'hustler': 3799, 'startup': 7077, 'chrome': 1658, 'extension': 2876, 'trainer': 7605, 'line': 4460, 'weave': 8079, 'afford': 537, 'sahil': 6483, 'offer': 5261, 'tuition': 7683, 'crypto': 2087, 'dollars': 2458, 'elon': 2668, 'musk': 5018, 'encouragement': 2711, 'popup': 5762, 'workshop': 8227, 'viral': 7975, 'force': 3115, 'lunch': 4578, 'zuckerberg': 8344, 'contract': 1942, 'dummy': 2554, '90': 392, 'impatience': 3871, 'decades': 2194, 'dave': 2170, 'tv': 7694, 'discussion': 2387, 'pantone': 5473, 'system': 7309, '100m': 9, 'tiny': 7515, '43s': 267, 'slack': 6843, 'feature': 2969, 'product': 5916, 'genius': 3292, 'credit': 2053, 'framework': 3149, 'giant': 3318, 'millions': 4854, 'custom': 2120, 'shop': 6744, 'compete': 1831, 'dominoes': 2463, 'app': 749, 'gt': 3469, '1b': 113, 'starbucks': 7068, 'joe': 4167, 'cartaangellist': 1501, 'infrastructure': 3945, 'ncaa': 5062, 'athletes': 854, 'bootstrap': 1231, 'niche': 5123, 'tool': 7560, 'marketplaces': 4664, 'poshmark': 5775, 'etsy': 2795, 'ocd': 5247, 'wife': 8152, 'obscure': 5236, 'podcast': 5717, '10k': 23, 'subscribers': 7192, 'tiktok': 7502, 'vote': 8010, 'standup': 7064, 'comedy': 1795, 'mma': 4909, 'broadcast': 1323, 'sport': 7024, 'plus': 5710, 'choses': 1652, 'shoot': 6742, 'experts': 2865, 'founder': 3141, 'techcrunch': 7367, 'pr': 5815, 'influential': 3941, 'brand': 1270, 'nevergoing': 5105, 'tobeemployedagain': 7532, 'steal': 7094, 'brainstorm': 1268, 'hustle': 3798, 'teenage': 7374, 'youtube': 8320, 'icons': 3814, 'nba': 5060, 'finals': 3025, 'bachelor': 937, 'design': 2281, 'nugget': 5204, '2nd': 196, 'billionaires': 1123, 'thingswingingcontest': 7449, '2000': 126, 'explore': 2870, 'spacemaybe': 6975, 'tech': 7366, 'andrew': 680, 'popular': 5760, 'shopify': 6745, 'subscriptions': 7193, 'chefs': 1616, 'bye': 1414, 'recharge': 6159, 'cardboard': 1480, 'box': 1256, 'alternative': 634, 'earn': 2585, 'trial': 7638, 'error': 2771, 'theory': 7435, 'zero': 8334, 'fancy': 2929, 'inhome': 3953, 'chef': 1615, 'office': 5263, 'austin': 888, 'gems': 3278, '30s': 210, 'handful': 3532, 'adjustments': 500, 'bod': 1204, 'dudes': 2546, '30searly': 211, '40s': 256, 'blinders': 1177, 'customer': 2121, 'observe': 5237, 'pivot': 5671, 'solve': 6934, 'snapchats': 6895, 'lsd': 4558, 'simulator': 6801, 'conor': 1899, 'impression': 3886, 'original': 5358, 'lookbubbles': 4524, 'curious': 2112, 'tactics': 7318, 'fiction': 3010, 'making': 4624, 'costco': 1994, 'micro': 4813, 'influencers': 3940, 'onboard': 5296, 'eg': 2638, 'collab': 1768, 'workflow': 8222, 'players': 5695, 'kd': 4246, 'kawhi': 4243, 'lebron': 4391, 'jokic': 4179, 'luka': 4576, 'curry': 2116, 'giannis': 3317, 'embiid': 2675, 'ad': 484, 'retweet': 6331, 'corporate': 1980, 'legitimately': 4405, 'scammer': 6528, 'report': 6265, 'impersonator': 3879, 'determine': 2298, 'tinder': 7512, 'twitch': 7705, 'ride': 6365, 'ama': 638, 'mins': 4875, 'pace': 5445, 'mile': 4839, 'envision': 2749, 'career': 1486, 'path': 5522, 'student': 7168, 'angel': 684, 'investor': 4056, 'famous': 2923, 'visualization': 7990, 'handwavey': 3536, 'crystals': 2089, 'horiscopes': 3729, 'practice': 5818, 'placebo': 5678, 'result': 6321, 'education': 2623, 'bookmark': 1217, 'shove': 6757, 'predictions': 5830, 'apple': 758, 'breakthru': 1285, 'wearable': 8077, 'device': 2304, 'amazon': 642, 'nail': 5042, 'commerce': 1809, 'camera': 1442, 'warren': 8048, 'buffet': 1360, 'operate': 5317, 'vs': 8017, 'jazz': 4131, 'march': 4652, 'network': 5097, 'consumers': 1930, 'creators': 2051, 'curb': 2108, 'enthusiasm': 2737, 'silicon': 6784, 'valley': 7909, 'backdrop': 941, 'larry': 4341, 'david': 2172, 'knowledge': 4302, 'bomb': 1207, 'modern': 4921, 'draper': 2514, 'agree': 556, 'squeeeeze': 7043, 'sidedoor': 6768, 'brutal': 1342, 'conceptbut': 1855, 'visual': 7989, 'metaphor': 4796, 'popcorn': 5756, '500m': 297, 'reinvent': 6215, 'slideshare': 6853, '1m': 115, 'crack': 2032, 'couch': 1996, 'mba': 4712, 'periods': 5585, 'inward': 4067, 'outward': 5398, 'socialize': 6915, 'game': 3245, 'changer': 1575, 'mode': 4917, 'modes': 4923, 'weather': 8078, 'tournament': 7581, 'proceed': 5910, 'charity': 1592, 'political': 5740, 'nadal': 5040, 'spiritual': 7011, 'chart': 1597, 'nerds': 5089, 'ton': 7555, 'massively': 4681, 'leverage': 4422, 'btc': 1349, '15b': 79, 'environmental': 2747, 'maxis': 4705, 'profit': 5931, 'youtuber': 8321, 'base': 998, 'emotion': 2687, 'wrap': 8247, 'logic': 4504, 'justify': 4223, 'coverup': 2020, 'legendary': 4400, 'miami': 4808, 'movement': 4985, 'twain': 7695, '50': 289, 'ticket': 7493, 'economic': 2605, 'shirt': 6732, 'tactical': 7317, 'fan': 2925, 'june': 4215, '3rd6th': 242, 'recommendations': 6167, 'la': 4316, 'vida': 7961, 'loca': 4496, 'meetup': 4750, 'vcs': 7922, 'popperazzi': 5759, 'ht': 3767, 'airbnb': 571, 'disguise': 2393, 'hospitality': 3740, 'batch': 1010, 'invitations': 4063, 'spring21': 7033, 'ben': 1070, 'agency': 549, 'outperform': 5389, 'communityproduct': 1824, 'regulatory': 6207, 'pygmalion': 6026, 'implications': 3881, 'merch': 4782, 'pronto': 5947, 'venmo': 7930, 'submissions': 7187, 'tmrw': 7529, 'migration': 4833, 'underway': 7780, '154': 76, 'york': 8308, 'san': 6502, 'francisco': 3151, '348': 224, 'coder': 1753, 'economy': 2606, 'creator': 2050, 'businesses': 1395, 'masterclass': 4683, 'buck': 1353, 'technical': 7368, 'expert': 2863, 'halve': 3526, '50k': 301, '40k': 254, '30k': 208, 'dip': 2357, 'hype': 3804, 'lt': 4559, 'peter': 5611, 'thiel': 7443, '1999': 110, 'fraudster': 3156, 'scam': 6526, 'scammed': 6527, 'impersonators': 3880, 'divorce': 2433, 'couple': 2008, 'court': 2013, 'split': 7016, 'collection': 1774, 'complicate': 1840, 'concepts': 1856, 'image': 3850, 'growth': 3467, 'strategy': 7138, 'clip': 1709, 'reel': 6187, 'igtv': 3838, 'nickname': 5125, 'young': 8314, 'garcia': 3257, 'research': 6285, 'analysis': 669, 'advance': 514, 'form': 3128, 'procrastination': 5913, 'thingies': 7447, 'similar': 6789, 'web': 8080, 'traffic': 7601, 'buddy': 1356, 'acquire': 467, 'climb': 1704, 'signups': 6780, '18': 96, 'indicators': 3918, 'cfo': 1558, 'maven': 4700, 'skill': 6831, '2012': 134, '100k': 7, '5m': 318, 'sales': 6490, 'efficient': 2634, 'effective': 2630, 'worker': 8220, 'quickrough': 6052, 'laser': 4344, 'meme': 4765, 'market': 4662, 'update': 7860, 'stake': 7055, 'jony': 4183, 'doge': 2451, 'pet': 5607, 'community': 1823, 'irrationally': 4085, 'multiple': 5007, 'pub': 5981, 'wing': 8176, 'price': 5873, 'cpi': 2031, 'inflation': 3936, 'route': 6434, 'surf': 7256, 'hackinggenomics': 3505, 'automation': 900, 'found': 3138, 'chat': 1599, 'screenshots': 6564, 'pump': 5991, 'via': 7947, 'saturday': 6519, 'rake': 6083, '10m': 24, 'floyd': 3088, 'mayweathers': 4711, 'marketers': 4663, 'dime': 2349, 'duke': 2550, 'basketball': 1006, 'superstars': 7243, 'inventors': 4050, 'nyc': 5218, 'gangster': 3252, 'tour': 7578, 'mafia': 4604, 'territories': 7403, 'stories': 7125, 'local': 4497, 'foods': 3108, 'retirement': 6327, 'applicable': 762, 'firefighters': 3041, 'cab': 1420, 'drivers': 2529, 'enemies': 2720, 'ally': 613, 'foe': 3098, 'fbgoogle': 2957, 'swallow': 7277, 'worlds': 8232, 'budget': 1357, 'revenue': 6344, 'fbtwitter': 2960, 'distribution': 2420, 'robe': 6392, 'coin': 1762, '3045': 205, '55': 312, '4k': 283, 'vax': 7920, 'hundreds': 3784, 'billions': 1124, 'stimulus': 7111, '80m': 373, 'barbies': 985, 'gate': 3265, 'source': 6966, 'agowe': 555, 'frame': 3148, 'horcruxes': 3728, 'whoever': 8139, 'boulder': 1248, 'uphill': 7863, 'quit': 6060, 'tick': 7492, 'suzy': 7275, 'click': 1700, 'subscribe': 7191, 'analysts': 673, 'stock': 7115, 'analyst': 672, 'estimate': 2782, 'soar': 6909, 'forecastingpredicting': 3118, 'quarter': 6038, 'covid': 2022, 'ecom': 2603, 'metamask': 4795, '5x': 322, 'mau': 4698, 'speculators': 6995, 'adoption': 508, 'nigeria': 5127, 'south': 6968, 'america': 647, 'aka': 582, 'financial': 3027, 'systems': 7312, 'defi': 2223, 'sam': 6498, '400k': 248, '2m': 195, 'poop': 5750, 'teacher': 7360, '3x': 244, 'tangible': 7343, 'tactic': 7316, 'wavey': 8064, 'ps': 5967, 'deel': 2208, 'workers': 8221, 'laws': 4364, 'safer': 6479, 'cheaper': 1602, '125b': 52, 'global': 3348, 'payroll': 5541, 'rank': 6094, 'checker': 1605, 'cc': 1530, 'innovate': 3964, 'rappersproducers': 6098, 'investment': 4054, 'coinbase': 1763, 'seed': 6596, 'round': 6432, 'guest': 3478, 'finance': 3026, 'mic': 4809, 'triller': 7645, 'pitch': 5666, 'deck': 2202, 'robinhood': 6396, 'bankers': 977, 'peer': 5562, 'payments': 5540, 'digital': 2344, 'whitepaper': 8136, 'pitchdeck': 5667, 'productmarketfit': 5921, 'congrats': 1887, 'ipo': 4072, 'exceptionally': 2832, 'recently': 6157, 'productivity': 5920, 'coach': 1739, 'goals': 3362, 'track': 7595, '150month': 74, 'unproductive': 7838, '4345054769': 265, 'substacks': 7197, 'likely': 4453, 'playbook': 5693, 'jake': 4118, 'episode': 2752, 'spac': 6972, 'frontback': 3191, '2013': 136, 'meerkat': 4748, '2015': 138, 'tax': 7352, 'bitclout': 1143, 'hbs': 3596, 'supply': 7245, 'chain': 1562, '4chan': 279, 'imgur': 3856, 'reddit': 6180, 'blog': 1186, 'linkedin': 4464, 'greg': 3441, 'alabama': 585, 'students': 7169, 'mock': 4915, 'priceit': 5874, 'vc': 7921, '100b': 6, 'ig': 3833, 'fyi': 3235, 'scamming': 6529, 'sadly': 6475, 'magical': 4608, 'printer': 5888, 'closet': 1719, 'usa': 7878, 'devalue': 2299, 'dollar': 2457, 'wealth': 8074, 'academic': 436, 'nuance': 5202, 'venture': 7933, 'capital': 1468, 'nearly': 5066, 'iconic': 3813, 'fortune': 3136, 'aspire': 829, 'builders': 1366, 'd2c': 2136, 'ecommerce': 2604, 'tab': 7313, 'fck': 2961, 'adidas': 498, '6th': 341, 'homie': 3711, 'mike': 4835, 'mikes': 4836, 'liar': 4429, 'riff': 6367, 'adi': 497, 'dassler': 2165, 'admire': 504, 'qampa': 6028, '20k': 149, 'charlie': 1595, 'trademark': 7598, 'madness': 4602, '17m': 93, 'tap': 7345, 'detail': 2296, 'initial': 3955, '80': 368, 'plow': 5707, 'b': 930, '110k': 34, 'usd': 7881, 'cap': 1465, '330k': 222, 'platform': 5688, 'explode': 2869, 'grind': 3450, 'splinter': 7015, 'cost': 1993, 'wood': 8213, 'survivor': 7267, 'cast': 1511, 'audition': 881, 'hubspothustle': 3769, 'acquisition': 468, 'nutshell': 5215, 'hotline': 3750, 'cnbc': 1735, 'gain': 3239, 'routine': 6435, 'sub': 7183, 'mission': 4895, 'accomplish': 449, 'clubhouse': 1727, 'patrons': 5531, 'arts': 814, 'nfts': 5117, 'exact': 2823, 'default': 2216, 'windows': 8174, 'xp': 8270, 'background': 942, 'california': 1431, 'photographer': 5628, '6figures': 337, 'microsoft': 4816, 'mac': 4590, '500month': 298, 'memes': 4766, 'businessstartup': 1396, 'focus': 3096, 'ffs': 3005, 'wit': 8188, 'apply': 765, 'dming': 2440, 'examples': 2828, 'paths': 5525, 'stripe': 7159, 'employee': 2697, 'coolest': 1967, 'daughters': 2169, 'kimberly': 4272, 'becca': 1035, 'throne': 7478, 'reign': 6213, 'supreme': 7254, 'add': 489, 'portfolio': 5773, 'unity': 7813, 'category': 1518, 'gamingvrar': 3250, 'cnswf': 1737, 'constellation': 1921, 'berkshire': 1078, 'hathaway': 3590, 'software': 6925, 'biz': 1148, 'zg': 8335, 'zillow': 8336, 'wild': 8161, 'dive': 2424, 'ads': 511, 'perk': 5586, '500kyr': 296, 'nsfw': 5200, 'audio': 879, 'suspend': 7270, 'ethereum': 2788, 'origin': 5357, 'rich': 6359, 'icos': 3815, 'spacs': 6977, 'hypocrites': 3808, 'ceos': 1550, '5000': 291, '2500': 176, 'michael': 4810, 'jordans': 4185, 'museum': 5014, 'alert': 591, 'fastest': 2942, 'cmo': 1733, 'coo': 1958, 'yc': 8282, 'acq': 466, 'cooat': 1959, 'dtc': 2541, 'co': 1738, 'editors': 2618, 'bits': 1146, 'page': 5448, 'snowcrash': 6907, 'ambition': 643, 'flavor': 3069, '1st': 121, 'snitchware': 6903, 'website': 8083, 'lloyd': 4488, 'impress': 3885, 'codie': 1754, 'semicontroversial': 6644, 'distill': 2414, 'advise': 521, 'trillionaire': 7647, 'stupidity': 7180, 'brilliant': 1315, 'negotiation': 5080, '14m': 68, 'large': 4337, 'fcked': 2962, 'nerdy': 5090, 'salt': 6496, 'fb': 2956, 'dashboard': 2164, 'privacy': 5895, 'jam': 4119, '100x': 11, 'publicly': 5985, 'highly': 3656, '10x': 30, 'sellers': 6638, 'remorse': 6248, '52k': 306, 'tag': 7319, 'hook': 3722, 'esports': 2776, 'investments': 4055, 'billion': 1121, 'trade': 7597, 'eglx': 2643, 'herd': 3639, 'whitney': 8137, 'wolfe': 8199, 'tinders': 7513, 'harass': 3554, 'strip': 7158, 'cofounder': 1757, 'title': 7523, 'bumble': 1375, 'rival': 6381, '16': 82, 'harvard': 3583, 'trillion': 7646, '700b': 346, 'snapchat': 6894, '95b': 400, '40b': 253, 'pinterest': 5659, '50b': 300, '26b': 183, 'telegram': 7381, 'jeff': 4141, 'bezos': 1099, '168': 85, '800k': 371, 'employ': 2696, 'hackers': 3504, 'angellist': 687, 'hunt': 3789, 'hubspot': 3768, 'grocery': 3455, 'radio': 6075, 'map': 4649, 'balaji': 959, 'pinch': 5657, 'hitter': 3683, 'outreach': 5394, 'pickers': 5640, 'example': 2827, 'connect': 1893, 'frameworks': 3150, 'visualize': 7991, 'beautifully': 1032, 'loan': 4494, '5k': 317, 'juicy': 4208, 'grill': 3448, 'takeaway': 7322, 'summary': 7223, '97': 401, 'pop': 5754, 'ebay': 2598, 'sugar': 7215, 'fingertipsthere': 3035, 'cars': 1498, 'gme': 3358, 'checkmate': 1607, 'rts': 6443, 'billboard': 1120, 'hedge': 3624, 'fund': 3216, 'managers': 4638, '44m': 269, 'rwsb': 6463, 'monies': 4943, 'loop': 4526, 'subreddit': 7190, 'street': 7147, 'multibillion': 5006, 'insights': 3979, 'confidential': 1877, 'sponsor': 7021, 'rat': 6107, 'stats': 7083, 'enable': 2707, 'experimentation': 2862, 'milky': 4846, 'code': 1752, 'programmer': 5937, 'simulationexe': 6800, 'search': 6578, 'airpods': 577, 'goli': 3376, 'cider': 1663, 'vinegar': 7971, 'gummies': 3487, 'celebrity': 1540, 'beginners': 1048, 'tippity': 7517, 'mountainbut': 4979, 'bornbeing': 1238, 'shutdownget': 6764, 'c': 1417, 'recognize': 6164, 'yea': 8284, 'user': 7886, 'max': 4702, '150': 70, '42share': 261, '97share': 402, 'kickbacks': 4265, 'users': 7887, '11b': 45, '6b': 335, 'disney': 2401, 'hulu': 3776, 'hbo': 3594, '20b': 148, 'piñata': 5675, 'optimists': 5333, 'pessimists': 5606, 'caption': 1475, 'contest': 1938, 'private': 5896, 'onlyfans': 5306, '2b': 192, 'profitable': 5932, '120k': 50, 'faster': 2941, 'hmm': 3687, 'mckinsey': 4720, 'stale': 7056, 'consult': 1927, 'cos': 1989, 'arr': 804, 'audience': 877, 'builder': 1365, 'podnewsletter': 5718, 'dropshipping': 2535, 'burgers': 1387, 'newsletter': 5110, '16k': 88, 'aboutclout': 421, 'kitchens': 4284, 'ishow': 4093, 'worksand': 8226, 'dukaan': 2549, 'india': 3916, 'newest': 5108, 'merchant': 4784, 'signup': 6779, '73': 353, 'juices': 4207, 'indian': 3917, 'shift': 6727, 'sofi': 6921, 'resolutions': 6300, 'narrator': 5048, 'bark': 988, 'doordash': 2477, 'delivery': 2244, 'driver': 2528, 'maltipoo': 4632, 'december': 2196, '37th': 231, 'impressive': 3888, 'accomplishment': 450, 'pamela': 5463, 'anderson': 678, 'wallpaper': 8034, 'dialup': 2316, 'ml': 4907, 'cure': 2109, 'alzheimers': 637, 'mastermind': 4684, 'makers': 4622, 'equity': 2762, 'blah': 1162, '1x': 122, 'ambitious': 644, '1421year': 66, 'olds': 5284, 'bang': 975, 'chris': 1654, 'operator': 5319, '25': 174, 'greedy': 3437, 'bastard': 1008, 'anti': 713, 'requirement': 6280, 'require': 6279, 'salesmarketing': 6492, 'mix': 4904, 'confirm': 1879, 'majority': 4618, 'tether': 7411, 'checkmark': 1606, 'recovery': 6173, 'microstrategy': 4817, 'etf': 2787, 'gbtc': 3272, 'fee': 2974, 'excellent': 2829, '45': 270, 'cuddle': 2095, 'advisor': 522, '99100': 405, 'highest': 3654, 'duo': 2561, 'annual': 704, 'purchase': 6007, 'noooooooo': 5170, 'reactions': 6125, 'rec': 6150, 'hangout': 3538, 'noisy': 5149, '150k': 72, 'sf': 6697, 'convert': 1952, 'duplex': 2562, 'permit': 5591, 'episodes': 2753, 'u2066u2069': 7729, 'award': 916, 'gt100k': 3470, 'profityear': 5933, 'january': 4123, '1m5m': 116, 'range': 6092, 'launch': 4357, 'program': 5936, 'fang': 2930, 'desk': 2286, 'cog': 1758, '75k': 359, 'gap': 3254, 'ship': 6731, 'balajis': 960, '401k': 251, 'context': 1939, 'predict': 5828, 'jj': 4162, 'watt': 8062, 'mega': 4751, 'opp': 5325, '27k': 186, 'double': 2489, '600k': 327, 'standout': 7063, 'improve': 3891, 'sacrifice': 6470, 'quote': 6066, 'martin': 4668, 'shkreli': 6738, 'journalist': 4188, 'blab': 1151, 'experiment': 2860, 'nutty': 5216, '49k': 277, 'backstory': 944, '700k': 347, 'earth': 2587, 'ps5': 5968, 'underground': 7773, 'buysell': 1411, 'ooo': 5308, '21k': 159, '22k': 164, 'dangly': 2154, 'backa': 940, 'cue': 2096, 'beeple': 1043, 'banksy': 979, 'supercut': 7236, 'negative': 5076, 'studios': 7171, 'tissue': 7521, 'yearsbut': 8289, '16b': 87, 'coco': 1749, 'chanel': 1573, '1k': 114, 'ten': 7390, 'google': 3387, '6k': 338, '9k': 407, '34k': 225, 'tesla': 7405, '159k': 78, '237m': 168, 'canadian': 1452, 'buffett': 1362, 'apps': 773, '10myear': 26, 'cod': 1751, 'legit': 4404, 'cash': 1506, 'cameo': 1441, 'security': 6593, 'celebrities': 1539, 'kevin': 4257, '169': 86, 'istitution': 4100, 'dinosaurs': 2356, '910': 394, 'hmmm': 3688, 'italic': 4102, 'quality': 6036, 'skus': 6839, 'factory': 2900, 'members': 4763, 'calculation': 1430, 'puzzle': 6023, '7500': 357, 'x': 8265, '225k': 162, '50000': 292, 'units': 7812, '15m': 81, '85': 379, 'margin': 4654, '12m': 55, 'covidfuture': 2024, 'biowarfare': 1135, 'culture': 2102, 'asset': 836, 'irresponsibly': 4088, 'powerful': 5807, 'selection': 6603, 'lambda': 4328, 'paternity': 5520, 'nut': 5213, '2004': 128, '100kmo': 8, '1mmo': 117, 'slot': 6861, 'phase': 5617, 'alphafold': 624, 'scientific': 6550, 'breakthrough': 1284, 'josh': 4187, 'joiner': 4174, 'starter': 7075, 'collectibles': 1773, '700m': 348, 'thot': 7460, 'serious': 6671, 'exercise': 2846, 'tbds': 7354, 'telegrams': 7382, 'ico': 3812, 'eames': 2581, 'chair': 1564, '700': 345, 'ratio': 6111, 'buffetisms': 1361, 'phrase': 5632, 'similies': 6791, 'unhear': 7800, 'famously': 2924, 'empire': 2695, 'rebel': 6147, 'vr': 8016, '40m': 255, 'saber': 6466, '20m': 150, 'zucks': 8345, 'goal': 3361, 'active': 475, 'sustainability': 7272, 'underrate': 7776, 'opposite': 5329, 'format': 3130, 'mobile': 4913, 'consumer': 1929, 'products': 5922, 'wikipedia': 8158, 'isa': 4091, 'management': 4636, 'headaches': 3600, 'hmmmare': 3689, 'tequila': 7396, 'announce': 701, 'bay': 1017, 'area': 784, 'dogbed': 2450, 'mindie': 4860, 'productidea': 5917, 'concept': 1854, 'worldwide': 8234, 'callers': 1433, 'crispr': 2064, 'manager': 4637, 'biden': 1107, 'president': 5859, 'elect': 2651, 'trump': 7661, 'platforms': 5689, 'nursery': 5211, 'plant': 5685, 'fabric': 2893, 'u200du200du200d': 7728, 'shave': 6716, 'thru': 7483, 'mustache': 5022, 'udemy': 7733, '3b': 236, 'lucky': 4569, '1020': 17, 'eps': 2754, 'pansies': 5470, 'computer': 1848, 'ampgo': 662, 'animal': 692, 'crematoriums': 2059, 'cemeteries': 1545, 'parler': 5492, 'unbiased': 7755, 'defeat': 2217, 'hewhomustnotbenamed': 3646, 'rocket': 6405, 'dropshipper': 2534, 'flamethrowers': 3060, 'salesman': 6491, '250': 175, 'fox': 3146, 'roster': 6428, 'skip': 6837, 'baylesses': 1019, 'offline': 5269, 'fist': 3049, 'nerd': 5088, 'election': 2652, 'mislead': 4892, 'nevada': 5101, '70': 344, 'population': 5761, 'vegas': 7925, 'winners': 8179, 'losers': 4537, '10b': 21, 'zuck': 8343, '8b': 387, 'sergey': 6668, '547m': 310, 'masa': 4672, 'tsai': 7671, '800m': 372, 'outrageous': 5392, 'unamerican': 7752, 'belinevermind': 1062, 'landslide': 4332, '1000': 5, '5050': 299, '2c': 193, 'amzn': 665, 'elections': 2653, '36': 227, '2008': 130, '58': 315, '237': 167, '2016': 139, '787': 360, '3043': 204, 'travel': 7625, 'charger': 1591, 'starbucksholy': 7069, 'prepay': 5849, '150m': 73, 'breakage': 1280, 'cup': 2106, 'borrow': 1239, 'baller': 964, 'luck': 4565, 'rapportive': 6099, 'klout': 4292, 'substack': 7196, 'release': 6227, 'equivalent': 2763, 'native': 5053, 'integration': 4000, 'smh': 6879, 'controversial': 1947, 'opinion': 5322, 'theater': 7426, 'govern': 3394, 'chemical': 1617, 'formula': 3132, 'dynamite': 2572, '20mins': 151, 'ted': 7371, 'lasso': 4345, 'anti2020': 714, 'religious': 6232, 'card': 1479, 'pokemon': 5730, 'holographic': 3705, 'saint': 6485, 'charazard': 1589, 'undifferentiated': 7783, 'unscalable': 7843, 'coincidentally': 1764, 'firm': 3044, 'storytelling': 7130, '1pm': 120, 'seat': 6580, 'yess': 8297, 'customize': 2123, 'jambys': 4120, 'pair': 5459, 'reverse': 6346, 'holo': 3704, 'upgrade': 7862, 'wefunder': 8094, 'amputees': 663, 'regain': 6199, 'limb': 4457, 'bionic': 1133, 'easiest': 2591, 'shaans': 6699, 'husband': 3796, 'bidet': 1109, 'tushy': 7693, 'wwwhyyy': 8264, 'site': 6823, 'collectible': 1772, 'garbage': 3256, 'pail': 5450, 'pdf': 5543, '1600': 83, 'rt': 6442, '3k': 237, 'minibook': 4868, '48': 275, 'illustrations': 3848, 'model': 4918, 'rework': 6354, '20s': 153, 'binge': 1126, 'millimeter': 4852, 'tweak': 7697, 'organize': 5347, 'photoshoots': 5630, 'underdone': 7771, '1418': 65, 'coulda': 1999, 'shoulda': 6753, 'diet': 2332, 'breakfast': 1283, 'delicious': 2239, 'convienent': 1954, 'egg': 2639, 'spinach': 7008, 'pan': 5464, 'salsa': 6495, 'cuff': 2097, 'instantly': 3992, 'logistical': 4506, 'contact': 1931, 'publisher': 5987, 'mass': 4678, 'bulk': 1369, 'discount': 2381, 'operators': 5320, 'genies': 3290, 'jerry': 4151, 'springer': 7034, 'host': 3743, 'wallace': 8030, 'resume': 6322, 'directly': 2362, 'competitors': 1833, 'transparency': 7618, 'nkla': 5141, '31b': 215, 'cobra': 1742, 'kai': 4230, 'johnny': 4170, 'lawrence': 4363, 'likeable': 4451, 'lip': 4466, 'flip': 3078, 'script': 6566, '002': 1, 'bat': 1009, 'signal': 6775, 'hungry': 3788, 'believer': 1060, 'mainstreet': 4615, 'ntdoy': 5201, 'primer': 5880, 'immortalize': 3862, 'celeb': 1536, 'alexa': 592, 'bonkers': 1211, 'interview': 4034, 'anymorei': 726, 'trudeau': 7657, 'suumit': 7274, 'access': 444, 'friendsfamily': 3181, 'tfw': 7419, 'remove': 6250, 'friction': 3175, 'workout': 8224, 'slip': 6857, 'achievable': 459, 'mention': 4778, 'buddies': 1355, 'guests': 3479, 'tsla': 7673, 'voucher': 8014, 'compliment': 1842, 'errands': 2770, 'asana': 816, 'quora': 6065, 'decade': 2193, 'toil': 7543, 'desktopmobile': 2287, 'recap': 6152, 'listener': 4473, 'holders': 3699, 'moneylottery': 4940, 'wallets': 8032, '30m': 209, 'walletsholders': 8033, 'believers': 1061, 'austen': 887, 'mavs': 4701, 'exude': 2886, 'boban': 1202, 'ryan': 6464, 'sharp': 6712, 'royally': 6440, 'structure': 7165, 'devs': 2311, 'fortnite': 3135, 'cooler': 1966, 'schoolyard': 6547, '37signals': 230, 'overall': 5404, 'draft': 2507, 'dickie': 2325, 'bush': 1393, 'pomps': 5746, 'pushups': 6019, 'roas': 6388, 'mcgregor': 4717, 'debate': 2189, 'xprize': 8271, 'innovation': 3965, 'buildinvent': 1367, 'selfdiscipline': 6615, 'discipline': 2376, 'jury': 4219, 'duty': 2565, 'fyou': 3236, 'veggies': 7927, '1mmonth': 118, 'stitch': 7114, '810': 375, 'alibaba': 597, 'ltgt': 4562, 'oberlo': 5224, 'fiverr': 3056, 'klayvio': 4290, 'teachable': 7359, 'clickfunnels': 1701, 'adwords': 524, 'airtable': 580, 'zapier': 8330, '7yo': 366, 'niece': 5126, 'affirm': 533, 'secondary': 6585, 'sean': 6576, 'parker': 5491, 'spotify': 7026, 'khan': 4262, 'academy': 438, 'gpt3': 3398, 'tinkerers': 7514, 'jay': 4130, 'wine': 8175, 'smaller': 6869, 'victor': 7957, 'spoil': 7017, 'compensation': 1830, 'differentials': 2335, 'ordinary': 5339, 'income': 3909, 'qsbs': 6031, 'b4': 931, '1myr': 119, 'employees': 2698, 'sonia': 6948, 'celebs': 1541, 'bake': 957, 'presidential': 5860, 'bid': 1106, 'ez': 2891, 'fame': 2916, 'stanford': 7065, 'explainer': 2867, 'vid': 7960, 'cart': 1500, 'snapshot': 6896, 'freemium': 3164, '4th': 287, 'discover': 2383, 'reputation': 6276, 'diver': 2425, 'naval': 5057, 'dibs': 2323, 'zip': 8337, 'efficiency': 2633, 'allstars': 611, '126b': 53, 'cisco': 1670, '51b': 304, 'craigslist': 2035, 'rev': 6337, 'veeva': 7923, '7m': 362, 'vmware': 7999, '25m': 179, 'storyteller': 7129, 'unfucking': 7796, 'bless': 1175, 'movers': 4986, 'kaep': 4229, 'movie': 4987, 'significance': 6776, 'combination': 1788, 'wb': 8069, 'lmaooooo': 4490, 'yelp': 8292, 'breed': 1294, 'army': 801, 'hustlers': 3800, 'cook': 1961, 'gmail': 3357, 'emoji': 2685, 'videos': 7964, 'actors': 480, 'hijack': 3661, 'protest': 5957, 'ignite': 3834, 'chaos': 1578, 'malicious': 4628, 'pallets': 5461, 'bricks': 1305, 'destroyinglooting': 2293, 'protestors': 5958, 'senior': 6652, 'alien': 598, 'memory': 4773, 'ˆmuch': 8350, 'pattern': 5532, 'horse': 3736, 'mispriced': 4893, 'pe': 5545, 'jockey': 4166, 'overestimate': 5411, 'inception': 3903, 'onboarding': 5297, 'dryer': 2540, 'jamie': 4121, 'annnnddd': 700, 'universities': 7817, 'hungout': 3786, 'scratchpad': 6561, 'calm': 1434, 'amex': 653, 'kaiser': 4231, 'cologne': 1780, 'farm': 2935, 'commercials': 1810, 'elderly': 2649, 'american': 649, 'brick': 1304, 'mortar': 4964, 'retail': 6324, 'airlines': 574, 'thesis': 7440, 'holy': 3707, 'ease': 2589, 'wowww': 8246, 'committee': 1815, 'culdesac': 2098, 'lure': 4582, 'strangle': 7137, 'sir': 6813, 'barnett': 992, 'cock': 1744, 'topic': 7563, 'paint': 5458, 'ufc': 7735, 'qvc': 6067, 'justins': 4224, 'drivethrough': 2530, 'caffeine': 1426, 'typically': 7717, 'bug': 1363, 'llama': 4487, 'redeem': 6181, 'velocity': 7929, 'exception': 2831, 'fcking': 2963, 'conviction': 1953, 'treadmills': 7627, 'hamster': 3530, 'teslaisafraud': 7406, 'tip': 7516, '30day': 207, 'history': 3680, 'browse': 1334, 'iq': 4075, 'stan': 7058, 'speech': 6996, 'richard': 6360, 'ham': 3527, 'mustread': 5024, 'talents': 7330, 'gamble': 3244, 'ameristar': 652, 'blackhawk': 1156, '8th': 390, 'intern': 4018, 'downside': 2501, 'yr': 8323, 'beard': 1027, 'lt21': 4560, 'patfishing': 5521, 'fish': 3048, 'pat': 5517, 'senpai': 6655, '400m500m': 249, 'conferencing': 1872, 'regular': 6206, 'actives': 476, '300m': 202, '3mday': 238, 'houseparty': 3758, 'spree': 7031, 'fastgrants': 2943, 'fledgling': 3071, 'basic': 1002, 'edition': 2615, 'frequent': 3169, 'losses': 4540, 'division': 2432, 'department': 2262, 'jordan': 4184, 'thrive': 7476, 'warehousefactory': 8044, 'revolt': 6349, 'player': 5694, 'shooter': 6743, '7s': 364, 'lunchables': 4579, 'usefulness': 7884, 'extreme': 2883, 'wire': 8182, 'playethic': 5696, 'april': 776, '25th': 180, 'tldr': 7527, 'instacart': 3988, 'deliver': 2243, 'farmstead': 2936, 'wholesale': 8143, 'remittance': 6247, '500b': 295, 'transfer': 7611, 'annually': 705, 'factsopinions': 2902, 'production': 5918, 'boo': 1213, 'graduate': 3404, 'indonesia': 3925, 'arrest': 805, 'corruptionbribery': 1985, '32000000': 216, 'reduce': 6185, 'fibonnaci': 3009, '950': 398, 'sh': 6698, 'horseshit': 3737, 'useful': 7883, 'fundamental': 3217, 'analysisis': 670, 'kitchen': 4282, '2010': 133, 'postmatesdoordashubereats': 5793, 'hangouts': 3539, 'zoomhouseparty': 8342, '20myr': 152, 'brex': 1301, 'thumbnail': 7485, 'woah': 8196, 'mini': 4867, 'quarantine': 6037, 'domain': 2462, 'opiniongiving': 5323, 'questionasking': 6046, 'subconsciously': 7185, 'guru': 3490, 'remain': 6238, 'designers': 2283, 'ie': 3832, 'designer': 2282, 'uiux': 7743, 'conversion': 1951, 'healthcare': 3608, 'inevitable': 3928, 'mollys': 4929, '200x': 132, '25k': 178, '5000000': 294, 'refid': 6191, 'bank': 976, 'moviepass': 4988, 'pregnancy': 5836, 'china': 1638, 'adults': 513, 'wise': 8184, 'urgent': 7874, 'dr': 2506, 'fauci': 2949, 'barstool': 997, 'steph': 7100, 'brief': 1309, 'peek': 5558, 'qualify': 6034, 'poison': 5728, 'virus': 7979, 'lockdown': 4499, 'sexual': 6694, 'assault': 832, '2014': 137, 'warrant': 8047, 'blizzard': 1181, 'abusers': 434, 'allow': 609, 'assaulter': 833, 'conduct': 1868, 'investigation': 4053, 'perpetrate': 5592, 'four': 3143, 'lawsuit': 4365, 'fwends': 3233, 'impersonate': 3878, 'spamming': 6980, 'graphic': 3420, 'daddies': 2138, 'feline': 2983, 'pc': 5542, 'setup': 6685, 'exam': 2825, 'antivaxxers': 719, 'inclusive': 3907, 'fuzzy': 3232, 'positiveinformative': 5778, 'discourse': 2382, 'homophobic': 3712, 'language': 4335, '𝒽𝑜𝓉': 8368, '𝑔𝒾𝓇𝓁': 8366, '𝓈𝓊𝓂𝓂𝑒𝓇': 8369, 'omakase': 5290, 'picnic': 5643, 'gre': 3431, 'tangerine': 7342, 'international': 4021, 'womens': 8205, 'florida': 3083, 'vaccine': 7900, 'misinformation': 4891, 'worklife': 8223, 'privilege': 5898, 'visibility': 7982, 'brag': 1266, 'priv': 5894, 'liberal': 4430, 'assess': 835, 'individual': 3922, 'wfh': 8115, 'collect': 1771, 'pokémon': 5733, 'plushies': 5711, 'ﾟヮﾟ': 8364, 'volunteer': 8008, 'fatigue': 2947, 'sixth': 6827, '12hour': 54, 'row': 6437, 'nooooooo': 5169, 'meow': 4781, 'barbie': 984, 'lgbtq': 4427, 'interracial': 4028, 'asian': 822, 'ᗜ': 8356, 'representation': 6269, 'canon': 1464, 'prepandemic': 5845, 'platonic': 5691, 'affection': 532, 'ಢಢ': 8352, '3080': 206, 'merry': 4788, 'belated': 1055, 'updatessymptoms': 7861, 'mild': 4838, 'soreness': 6957, 'lift': 4447, 'painnnnn': 5456, 'vibing': 7951, 'semantics': 6642, 'potentially': 5801, 'pandemic': 5467, 'apex': 741, 'predator': 5827, 'peanut': 5552, 'tespa': 7407, 'provide': 5964, 'collegiate': 1777, 'gamers': 3248, 'define': 2224, 'viscerally': 7981, 'uncomfortable': 7762, 'latest': 4351, 'bachelorette': 938, '3175': 214, 'grams': 3409, 'stat': 7079, 'hiiiii': 3660, 'irvine': 4090, 'pls': 5708, 'evacuation': 2798, 'temporarily': 7387, 'animals': 693, 'lov': 4548, 'nonconsenting': 5154, 'fetishes': 2997, 'fucker': 3199, 'patients': 5528, 'threaten': 7471, 'cashapp': 1507, 'nursebaemax': 5210, 'feet': 2982, 'hipaa': 3672, 'professionalism': 5925, 'whatnot': 8121, 'cdc': 1532, 'guidelines': 3482, 'asymptomatic': 853, 'peep': 5560, '24': 169, 'hrs': 3765, 'fever': 3000, 'improvement': 3892, 'petition': 5612, 'rename': 6251, 'chinese': 1639, 'hydroxychloroquine': 3802, 'promote': 5944, 'peddle': 5555, 'incorrectly': 3911, 'clam': 1676, 'socially': 6916, 'staycation': 7089, 'shedded': 6718, 'creep': 2056, 'adjustable': 499, 'dumbbells': 2553, 'alsjdjdjslshshssks': 627, 'ladies': 4323, 'raspberry': 6106, 'squad': 7040, 'snake': 6892, 'hissterical': 3676, 'weebs': 8087, 'waifu': 8023, 'orientation': 5356, 'modules': 4925, 'nonono': 5159, 'afked': 539, 'cafes': 1424, 'grand': 3410, 'prix': 5900, 'meeeee': 4747, 'snek': 6900, 'gem': 3276, 'negotiate': 5079, 'salary': 6488, '32kmo': 218, 'wage': 8022, 'grads': 3403, 'passion': 5508, 'industry': 3927, 'lmao': 4489, '95': 397, 'factor': 2899, 'minimum': 4871, '365': 228, 'national': 5051, 'league': 4382, 'legends': 4401, 'interior': 4016, 'decorate': 2205, 'brother': 1331, 'patreon': 5529, 'itsmebianca': 4105, 'insta': 3987, 'mi': 4806, 'furniture': 3225, 'monday': 4938, 'camp': 1446, 'mfers': 4804, 'physical': 5633, 'las': 4342, 'final': 3022, 'stretch': 7154, 'pup': 6001, 'chicago': 1629, 'il': 3844, 'swimsuits': 7295, 'separate': 6662, 'apartment': 737, 'sexually': 6695, 'tyler': 7712, 'misconduct': 4884, 'ut': 7892, 'apology': 747, 'accountable': 454, 'wrongdoing': 8258, 'actionable': 473, 'items': 4103, 'violence': 7973, 'clout': 1724, 'gaslighting': 3263, 'threats': 7472, 'fanboys': 2927, 'fiercely': 3011, 'defend': 2219, 'persona': 5599, 'byron': 1416, 'selfless': 6625, 'prevention': 5870, 'lifeline': 4443, '18002738255': 97, 'mandatory': 4641, 'reporter': 6266, 'paidmanipulated': 5449, 'pharm': 5615, 'midterm': 4827, '92': 395, 'ditto': 2423, 'land': 4329, 'statement': 7081, 'disable': 2367, 'sendingreceiving': 6651, 'discord': 2380, 'victims': 7956, 'traction': 7596, 'stragglers': 7131, 'comment': 1808, 'gremlins': 3442, 'depths': 2272, 'fwiw': 3234, 'owe': 5434, 'relive': 6234, 'professional': 5924, 'organizers': 5349, 'tub': 7678, 'swimsuit': 7294, 'mall': 4629, 'male': 4627, 'entertainment': 2736, 'reminisce': 6245, 'trophy': 7652, 'producers': 5915, 'prop': 5948, 'overcome': 5406, 'knock': 4300, 'clown': 1725, 'odd': 5256, 'noodle': 5165, 'udon': 7734, '𝒹𝓇𝑒𝒶𝓂': 8367, 'cardiac': 1482, 'surgical': 7261, 'relocate': 6235, 'bulbasaur': 1368, 'amazingly': 641, 'creative': 2048, 'fantastic': 2931, 'communicative': 1821, 'townie': 7587, 'treatment': 7631, 'unsupported': 7849, 'aid': 567, 'cluelesshe': 1728, 'spread': 7029, 'remebered': 6240, 'sweatpants': 7284, 'kitchenaid': 4283, 'mixer': 4905, 'gooey': 3386, 'melt': 4760, 'juneteenth': 4216, 'glory': 3352, 'hole': 3700, 'yw': 8326, 'officer': 5264, 'complicit': 1841, 'poor': 5752, 'malpractice': 4630, 'license': 4433, 'surgeon': 7258, 'casually': 1513, 'surgeons': 7259, 'breonna': 1299, 'taylor': 7353, 'dismantle': 2399, 'police': 5735, 'institutions': 3994, 'oppress': 5330, 'perpetuate': 5594, 'systemic': 7311, 'racism': 6071, 'backpack': 943, 'notifications': 5184, 'address': 494, 'touchy': 7575, 'andy': 682, 'tran': 7608, 'tylers': 7713, 'role': 6411, 'rallycry': 6085, 'breast': 1287, 'legs': 4407, 'halfmask': 3521, 'respirator': 6306, 'gas': 3262, 'peacefully': 5550, 'geneva': 3288, 'convention': 1948, 'ban': 972, 'warwhy': 8051, 'citizens': 1671, 'reference': 6190, 'alan': 586, 'specify': 6992, 'balance': 961, 'relationships': 6223, 'rehash': 6209, 'mutually': 5026, '19': 103, 'ahahahahahhahahhhahahhahhhahahh': 560, 'cofounded': 1756, 'header': 3601, 'violate': 7972, 'pax': 5538, 'advantage': 515, 'employerpeers': 2700, 'utilize': 7893, 'excessive': 2836, 'brutality': 1343, 'deescalation': 2215, 'needle': 5072, 'murder': 5010, 'fully': 3211, 'capitol': 1471, 'whereas': 8125, 'george': 3301, '200': 125, 'racist': 6072, 'riddance': 6364, 'retweeting': 6333, 'kpop': 4308, 'fancam': 2928, 'alsjdkskahs': 628, 'construction': 1926, 'lab': 4317, 'ppe': 5813, 'shorter': 6749, 'blm': 1183, 'sexist': 6692, 'slur': 6865, 'undermine': 7775, 'intersectionality': 4030, 'gender': 3280, 'intertwine': 4031, 'clarify': 1678, 'uninformed': 7805, 'willfully': 8164, 'pridefully': 5876, 'minimize': 4870, 'contribute': 1944, 'nonpartisan': 5160, 'unjust': 7819, 'uplift': 7864, 'reflect': 6192, 'medium': 4745, 'length': 4410, 'chop': 1649, 'adult': 512, 'amid': 654, 'current': 2114, 'son': 6945, 'assignment': 840, 'grad': 3401, 'chaoticgood': 1579, 'hacker': 3503, 'familiar': 2918, 'kindle': 4275, 'azw': 929, 'pdfs': 5544, 'drm': 2531, 'ツ': 8358, 'adderall': 490, 'hyper': 3805, 'covid19': 2023, 'sneaky': 6898, 'lingerie': 4462, 'slim': 6855, 'standard': 7061, 'atx': 873, 'motherboard': 4970, 'shrink': 6761, 'microatx': 4814, 'uwu': 7895, 'inject': 3956, 'disinfectant': 2396, 'bread': 1278, 'efforts': 2637, 'undetected': 7782, 'diagnose': 2315, 'sample': 6500, 'antibodies': 715, 'lemme': 4408, 'selfdistancing': 6616, 'lbs': 4375, 'steamer': 7095, 'matcha': 4689, 'latte': 4354, 'bankrupt': 978, 'yous': 8317, 'pathogens': 5524, 'ง': 8353, 'toughest': 7577, 'outbreak': 5378, 'available': 905, 'tbh': 7355, 'prepping': 5850, 'elective': 2654, 'procedures': 5909, 'visitors': 7988, 'nonessential': 5156, 'staff': 7050, 'mandate': 4640, 'ramen': 6086, 'beanbag': 1025, 'selfquarantine': 6629, 'flesh': 3073, 'anime': 694, 'cells': 1543, '72': 352, 'pa': 5443, 'certify': 1557, 'subspecialty': 7195, 'medical': 4737, 'certification': 1556, 'quite': 6061, 'snag': 6891, 'firstedition': 3047, 'tolkienthe': 7551, 'silmarillion': 6787, 'mutuals': 5027, 'knees': 4295, 'holiday': 3701, 'dec': 2192, '49': 276, 'gods': 3369, 'possess': 5782, 'hypoglycemic': 3809, 'leftover': 4393, 'candy': 1460, 'intervention': 4033, 'alguien': 595, 'quiere': 6053, 'practicar': 5817, 'españold': 2774, 'conmigo': 1892, 'quiero': 6054, 'aprender': 775, 'por': 5763, 'trabajo': 7594, 'solamente': 6928, 'amigos': 655, 'favor': 2952, 'omigod': 5295, 'cardiovascular': 1484, 'hospitalize': 3741, 'ears': 2586, 'toe': 7540, 'adhd': 496, 'ninjas': 5138, 'influence': 3939, 'publics': 5986, 'perception': 5573, 'deliberately': 2238, 'friendships': 3183, 'stoop': 7122, 'arguments': 791, 'gamer': 3247, 'bros': 1329, 'voicechat': 8003, 'screen': 6563, 'stds': 7090, 'proactive': 5905, 'pikachu': 5648, 'nostalgia': 5176, 'egirl': 2641, 'summoners': 7227, 'rift': 6368, 'oriental': 5355, 'chopstick': 1650, 'mourn': 4980, 'elrics': 2669, 'freshly': 3173, 'dismember': 2400, 'leg': 4395, 'october': 5255, 'ambulance': 645, 'twitchcon': 7706, '94': 396, 'ochem': 5251, 'stub': 7167, 'knee': 4294, 'finger': 3034, 'drawer': 2516, 'artificial': 812, 'robot': 6400, 'cheer': 1610, 'harrisburg': 3578, 'hue': 3772, 'fest': 2995, 'overwatch': 5430, 'scene': 6540, 'omelette': 5292, 'du': 2542, 'fromage': 3189, 'basement': 1000, 'introduce': 4041, 'uni': 7801, 'organizer': 5348, 'admin': 501, 'dreamhack': 2523, 'immortals': 3863, 'imt': 3896, 'coordinator': 1968, '2018': 141, 'dignitas': 2345, 'bar': 981, 'hiccup': 3649, 'dopey': 2483, 'apartments': 738, 'station': 7082, 'monitor': 4944, 'visually': 7992, 'appeal': 752, 'spaceefficient': 6974, 'ldesk': 4377, 'mcdonaldsme': 4716, 'dads': 2140, 'riskiest': 6379, 'taste': 7349, 'chicken': 1630, 'portapotty': 5772, 'rave': 6117, 'actual': 481, 'edelgard': 2609, 'fe': 2965, 'allfemale': 606, 'rebuild': 6149, 'themyscira': 7429, 'fodlan': 3097, 'furry': 3226, 'gurl': 3489, 'bsn': 1347, 'ccrn': 1531, 'goober': 3377, 'flight': 3077, 'areawide': 786, 'outage': 5375, 'retake': 6325, 'kissies': 4281, '600': 325, 'upcoming': 7859, 'bottom': 1246, 'dogpile': 2454, 'baltimore': 968, 'aquarium': 778, 'sauron': 6521, 'sea': 6572, 'urchin': 7872, 'anatomical': 674, 'pendant': 5567, 'badge': 949, 'east': 2593, 'coast': 1741, 'prekorean': 5838, 'spa': 6971, 'korean': 4306, 'bbq': 1020, 'warcraft': 8042, 'hookup': 3723, 'sdcc': 6571, 'bonus': 1212, 'chase': 1598, 'responses': 6309, 'etikas': 2793, 'valid': 7906, 'condolences': 1866, 'communities': 1822, 'ʖ': 8349, 'lcs': 4376, 'pro': 5902, 'acceptable': 442, 'tyvm': 7720, 'bare': 986, 'previous': 5871, 'halfjoke': 3520, 'impactful': 3867, 'privs': 5899, 'dedicate': 2206, 'worldsnot': 8233, 'lf': 4425, 'guysgirls': 3494, 'plat': 5686, 'frens': 3168, 'yellow': 8291, 'japanese': 4125, 'weigh': 8095, 'fridge': 3177, 'owo': 5439, 'solution': 6932, 'habit': 3498, 'princess': 5883, 'spill': 7007, 'butter': 1402, 'thumb': 7484, 'grope': 3459, 'applications': 764, 'quiz': 6063, 'arrhythmias': 806, 'widdo': 8150, 'highlight': 3655, 'cheesecake': 1613, 'puppy': 6006, 'pjs': 5676, 'bianca': 1103, 'grookey': 3457, 'furby': 3223, 'randos': 6091, 'sobble': 6911, 'wolf': 8198, 'gt3': 3471, 'trynna': 7669, 'nominate': 5151, 'challenger': 1567, 'approach': 770, 'moo': 4952, 'dis': 2366, 'official': 5266, 'stance': 7059, 'harassment': 3555, 'ganons': 3253, 'guard': 3473, 'eclipse': 2602, 'gays': 3271, 'ﾉヮﾉﾟ': 8360, 'bedroom': 1038, 'goodest': 3382, 'everpeanut': 2807, 'tightknit': 7500, 'resilient': 6295, 'sweaters': 7283, 'madeon': 4599, 'provider': 5965, 'pikamorning': 5650, 'poll': 5744, 'neighborhood': 5084, 'cvicu': 2133, 'pumpkin': 5992, 'carve': 1504, 'woof': 8217, 'corsair': 1986, 'commander': 1806, 'sailor': 6484, 'transformation': 7613, 'sequence': 6666, 'blackpink': 1158, 'advocate': 523, 'ing': 3948, 'streamers': 7144, 'golden': 3374, 'onion': 5304, 'tentacle': 7395, 'bomber': 1208, 'jacket': 4113, 'jeans': 4138, 'inability': 3897, 'properly': 5950, 'bi': 1102, 'evo': 2820, 'gamecube': 3246, 'controller': 1946, 'melee': 4758, 'ultimate': 7747, 'ᵕᵕ': 8357, 'adventure': 516, 'ophilia': 5321, 'cleric': 1696, 'behalf': 1050, 'sisterbest': 6817, 'aesthetic': 526, 'superhero': 7238, 'cosplay': 1991, 'akali': 583, 'champion': 1570, 'classic': 1683, 'ahhhhhhhhhhhh': 564, 'fourth': 3145, 'july': 4210, '27th': 187, 'e3': 2577, 'reminiscent': 6246, 'flu': 3089, 'seventeen': 6687, 'magazine': 4606, 'confidently': 1878, 'invitational': 4062, 'sidekick': 6769, 'jedi': 4139, 'preferences': 5832, 'versus': 7939, 'fetishising': 2998, 'stereotype': 7102, 'submissive': 7188, 'angsty': 691, 'boys': 1260, 'rainbow': 6080, 'pot': 5798, 'blackandyellowblackandyellowblackandyellowblackandyellow': 1153, 'cheerup': 1611, 'salon': 6494, 'dissect': 2410, 'hoodie': 3721, 'tilt': 7506, 'bfa': 1101, 'alpha': 623, 'quest': 6043, 'goddamn': 3365, 'nightshift': 5135, 'danny': 2157, 'frikkin': 3185, 'devito': 2307, 'personification': 5603, 'pikachus': 5649, 'unsettle': 7845, 'outpour': 5390, 'bump': 1376, 'hnnng': 3691, 'mfw': 4805, 'liveaction': 4481, 'galentines': 3242, 'empower': 2701, '2630': 182, 'miles': 4840, 'doublebouquet': 2490, 'roses': 6427, 'degenerate': 2228, 'elf': 2660, 'demon': 2250, 'aaaaand': 409, 'midweek': 4829, 'meal': 4722, 'prep': 5844, 'universe': 7815, 'baemax': 951, 'spare': 6984, 'smurf': 6888, 'summoner': 7226, 'reset': 6290, 'allnighter': 608, 'overdo': 5408, '215': 157, 'pst': 5973, 'charm': 1596, 'polos': 5745, 'target': 7347, 'ideal': 3819, 'charge': 1590, '5499': 311, 'technician': 7369, 'modem': 4919, 'plug': 5709, 'shortshorts': 6751, 'texas': 7412, 'bum': 1374, 'lowest': 4553, 'highs': 3657, 'triangles': 7639, 'acute': 483, 'tender': 7393, 'embrace': 2677, 'jerrys': 4152, 'android': 681, 'log': 4502, 'military': 4843, 'brat': 1271, 'legendsthe': 4402, 'leftovers': 4394, 'minime': 4869, '1010s': 14, 'hairy': 3514, 'crosscountry': 2073, 'movei': 4984, 'pawtner': 5537, 'immortal': 3861, 'peel': 5559, 'harvey': 3584, 'dent': 2260, 'mph': 4991, '405': 252, 'recreate': 6174, 'painstaking': 5457, 'sims': 6799, 'expansion': 2854, 'servicemen': 6678, 'proudest': 5961, 'puppers': 6003, 'kitties': 4287, 'c130s': 1418, 'tsunami': 7675, 'ballsdeep': 966, 'devolve': 2308, 'lease': 4385, 'myselfstreaming': 5032, 'tm': 7528, 'heartbroken': 3613, 'dennis': 2259, 'passionate': 5509, 'ow': 5433, 'multitude': 5009, 'unintelligent': 7806, 'unempathetic': 7785, 'throwback': 7481, 'blizzcon': 1182, 'amiss': 657, 'apm': 742, 'glo': 3347, 'hedgie': 3625, 'dallas': 2143, 'fuel': 3202, 'fairy': 2908, 'tail': 7320, 'emblem': 2676, 'genjis': 3295, 'ingame': 3949, 'symphony': 7305, 'goddess': 3366, 'hike': 3662, 'ascension': 818, 'lady': 4325, 'booth': 1230, 'county': 2007, 'fair': 2907, 'swag': 7276, 'hall': 3523, 'internships': 4025, 'monarch': 4937, 'kogmaw': 4303, 'smithsonian': 6883, 'gang': 3251, 'mayweather': 4710, 'snes': 6901, 'preorders': 5843, 'caltopia': 1439, 'dumpstered': 2556, 'internship': 4024, 'info': 3942, 'pixels': 5673, 'colleges': 1776, 'en': 2706, 'berkeley': 1077, 'welp': 8110, 'megara': 4753, 'hercules': 3638, 'bout': 1252, 'tsa': 7670, 'n64': 5038, 'kitten': 4286, 'rainy': 6081, 'itヽຈلຈﾉ': 4106, '75': 356, 'horrendouslynot': 3733, 'nclex': 5063, 'prepare': 5848, 'cuties': 2128, 'peanuts': 5553, 'nes': 5093, 'genetic': 3287, 'eeoc': 2626, 'discriminate': 2385, 'oreo': 5341, 'os': 5367, '2007': 129, 'cutoff': 2129, 'sushi': 7269, 'owner': 5437, 'glorify': 3351, 'raqib': 6101, 'electricity': 2656, 'wifi': 8156, 'servant': 6674, 'summon': 7225, 'emiya': 2682, 'waifuuuuuu': 8025, 'altera': 633, 'nutella': 5214, 'spoon': 7023, 'bath': 1011, 'bikini': 1117, 'glow': 3354, '26th': 184, 'americaaaaaa': 648, 'shittalk': 6734, 'ggwp': 3310, '1010': 13, 'dinner': 2354, 'occasion': 5243, 'wat': 8059, 'haircut': 3513, 'husbando': 3797, 'ids': 3831, '88': 383, 'degrees': 2232, 'ac': 435, 'bingeplay': 1127, 'p1': 5442, '241': 170, 'zzz': 8346, 'mew': 4801, 'woo': 8212, 'bingewatch': 1128, 'gym': 3496, 'regimen': 6203, 'copious': 1971, 'leggo': 4403, 'contenders': 1936, 'creepy': 2058, 'til': 7504, 'dh': 2313, 'lgbt': 4426, 'approval': 772, 'memorial': 4769, 'admining': 502, 'hearthstone': 3614, 'spring': 7032, 'playoffs': 5699, 'ヽຈلຈﾉ': 8359, 'aram': 779, 'beach': 1023, 'arams': 780, 'employer': 2699, 'importance': 3882, 'bsnprepared': 1348, 'muah': 4998, 'bts': 1350, 'greninja': 3443, 'sagaヽຈلຈﾉ': 6482, 'aesthetics': 527, '11516': 42, 'tharja': 7424, 'asus': 852, 'vge248qe': 7946, 'eachother': 2578, 'selfie': 6622, 'outfit': 5384, 'macaron': 4591, '144': 67, 'hz': 3810, 'waifus': 8024, 'jackbox': 4112, 'arizona': 794, 'nom': 5150, 'noms': 5152, 'danielle': 2156, 'cartetris': 1502, 'pregame': 5835, 'smores': 6886, 'happeninggggg': 3546, 'csgo': 2092, 'ahhhh': 562, 'pursue': 6017, 'undefeated': 7770, 'roomie': 6423, 'birb': 1136, 'wildlife': 8162, 'rescue': 6284, 'edgar': 2610, 'allan': 602, 'crowe': 2076, 'overboard': 5405, 'easter': 2594, 'laundry': 4358, 'snuggle': 6908, 'fold': 3101, 'bootcamp': 1229, 'autofills': 896, 'ᕕ': 8354, 'ᕗ': 8355, 'errand': 2769, 'center': 1548, 'console': 1917, 'valeera': 7903, 'graduation': 3405, 'quarterlife': 6039, 'almostnurse': 617, 'sock': 6919, 'marvelous': 4670, 'reunite': 6336, 'mikasa': 4834, 'placements': 5679, 'jfkdslaj': 4158, '552': 313, 'tt': 7676, 'assign': 839, 'inpatient': 3968, 'rehab': 6208, 'residency': 6292, 'nyquil': 5219, 'xx': 8273, 'clinical': 1707, 'root': 6425, 'smashow': 6876, 'pho': 5625, 'tornadoes': 7566, 'dragon': 2509, 'slayer': 6845, 'insanely': 3972, 'talented': 7329, 'ahhhhhhh': 563, 'exit': 2852, 'degree': 2231, 'mrw': 4994, 'hollywood': 3702, 'adaption': 488, 'jk': 4163, 'bribe': 1303, 'mochi': 4914, 'ca': 1419, 'sxsw': 7301, 'gtlt': 3472, 'karaoke': 4237, '21st': 160, 'steak': 7093, 'airport': 578, 'green': 3438, 'dirty': 2365, 'feelin': 2978, 'galactic': 3241, 'unicorn': 7802, 'immortalsgg': 3864, 'feat': 2967, 'laziest': 4372, 'fluff': 3090, 'babe': 934, 'pawsitively': 5536, 'lucker': 4566, 'hardworking': 3563, '830': 378, 'cst': 2093, 'hanzo': 3543, 'reserve': 6289, 'videogames': 7963, 'logan': 4503, 'poster': 5789, 'conference': 1871, 'bs': 1346, 'todaylet': 7536, 'teal': 7363, 'macaroni': 4592, 'postwork': 5797, 'snackaroni': 6890, 'appointment': 767, 'senioritis': 6653, '12now': 56, 'fulltime': 3210, 'ff': 3003, 'gg': 3309, 'poke': 5729, 'burrito': 1390, 'bowl': 1255, 'series': 6670, 'submit': 7189, 'emote': 2686, 'adorable': 509, 'postpone': 5795, 'member': 4762, 'flex': 3074, 'chillin': 1637, 'owl': 5435, 'kigurumi': 4269, 'responsibilities': 6310, '430': 263, '730': 354, '951': 399, 'ngnl': 5119, 'wishlist': 8187, 'graphics': 3421, 'castle': 1512, 'azura': 928, 'rabbit': 6068, '530': 308, 'roy': 6438, 'persist': 5597, 'streameroni': 7143, '710': 350, 'difficulties': 2340, 'pooped': 5751, 'midterms': 4828, 'takumi': 7326, 'camilla': 1444, 'photo': 5627, 'sem': 6641, 'ori': 5353, 'forest': 3121, 'doggo': 2453, '415': 258, 'headshots': 3605, 'rewatching': 6352, 'webcam': 8081, 'overlay': 5414, 'pupper': 6002, 'pox': 5812, 'postpax': 5794, '210': 155, 'clinicals': 1708, 'nge': 5118, 'winter': 8180, 'premiere': 5841, 'armor': 799, 'wig': 8157, 'edgy': 2612, '10hour': 22, 'protein': 5956, 'foureyed': 3144, 'optometrist': 5336, 'doublelife': 2491, 'ffing': 3004, 'spontaneous': 7022, 'birthdays': 1141, 'perfectest': 5576, 'bm': 1195, 'nowヽຈلຈﾉ': 5198, 'um': 7749, 'horizontal': 3730, 'suckers': 7210, 'myspace': 5033, 'harleys': 3567, 'prince': 5881, 'bubble': 1352, 'weirdo': 8103, 'spirit': 7010, '69': 334, 'reckful': 6161, 'toez': 7541, 'nintendo': 5139, 'americas': 651, 'obesity': 5225, 'epidemic': 2751, 'epic': 2750, 'genji': 3294, 'doodle': 2473, 'cavalry': 1528, 'tavern': 7351, 'hero': 3641, 'tourney': 7582, 'prelims': 5839, 'dumpstering': 2557, 'noobs': 5164, 'flexible': 3076, 'authentic': 891, 'transactional': 7610, 'distinguish': 2417, 'lucrative': 4570, 'authenticity': 892, 'dividends': 2428, 'strength': 7149, 'weaknesses': 8073, 'infinite': 3933, 'worthy': 8242, 'rivalsanother': 6382, 'fulfillment': 3205, 'inspire': 3984, 'geniuses': 3293, 'skills': 6832, 'confrontation': 1883, 'organizations': 5346, 'internal': 4019, 'leaders': 4380, 'crucial': 2078, 'interpersonal': 4026, 'qualities': 6035, 'mediocrity': 4741, 'eager': 2579, 'tendency': 7392, 'ultimately': 7748, 'succeed': 7202, 'criticism': 2067, 'aristotle': 793, 'client': 1702, 'greatness': 3436, 'effectively': 2631, 'navigate': 5058, 'systematically': 7310, 'impart': 3869, 'flourish': 3085, 'interrupt': 4029, 'creativity': 2049, 'lend': 4409, 'ornament': 5363, 'touchstone': 7574, 'certain': 1553, 'intrinsic': 4039, 'evaluate': 2799, 'environment': 2746, 'spark': 6985, 'omar': 5291, 'brownson': 1333, 'innovative': 3966, 'blaze': 1170, 'clevel': 1697, 'executive': 2844, 'chief': 1631, 'equip': 2760, 'edit': 2614, 'discomfort': 2378, 'humble': 3779, 'obligations': 5232, 'verbs': 7934, 'nouns': 5189, 'enact': 2708, 'whyrelated': 8147, '28th': 189, 'et12pm': 2784, 'responsibility': 6311, 'cultivate': 2101, 'environments': 2748, 'fulfil': 3203, 'leadership': 4381, 'capable': 1467, 'highstress': 3659, 'mcintyre': 4718, 'comedians': 1793, 'didwe': 2327, 'optimism': 5332, 'cs': 2090, 'lewis': 4424, 'sidewalks': 6771, 'swim': 7293, 'pool': 5749, 'risk': 6378, 'overqualified': 5418, 'increasingly': 3913, 'polarize': 5734, 'divide': 2427, 'profound': 5934, 'closest': 1718, 'identity': 3825, 'significantly': 6778, 'brian': 1302, 'collins': 1778, 'legend': 4399, 'selfworth': 6635, 'confront': 1882, 'educate': 2622, 'vomit': 8009, 'needthis': 5074, 'sara': 6514, 'blakely': 1164, 'spanx': 6983, 'deadly': 2185, 'reframing': 6197, 'oppose': 5328, 'henry': 3635, 'ford': 3117, 'countryit': 2006, 'colleagues': 1770, 'coworkers': 2029, 'viktor': 7967, 'frankl': 3153, 'purest': 6010, 'solutions': 6933, 'along': 620, 'brené': 1298, 'imagination': 3852, 'strive': 7160, 'equilibrium': 2758, 'teeter': 7378, 'destination': 2290, 'direction': 2359, 'privately': 5897, 'exchange': 2837, 'preferential': 5833, 'breach': 1277, 'preserve': 5857, 'megaphone': 4752, 'average': 909, 'maximize': 4703, 'regardless': 6201, 'primary': 5879, 'ingredient': 3951, 'unwavering': 7854, 'belief': 1057, 'mindset': 4862, 'supportive': 7249, 'audiences': 878, 'colorful': 1783, 'purpose': 6015, 'workplace': 8225, 'toward': 7583, 'obey': 5226, 'expertise': 2864, 'usage': 7880, 'responsible': 6312, 'remarkable': 6239, 'technology': 7370, 'speed': 6997, 'communication': 1820, 'indispensable': 3921, 'especially': 2775, 'generations': 3284, 'hone': 3713, 'abilities': 416, 'vital': 7993, 'accumulate': 457, 'promotions': 5945, 'declare': 2203, 'winner': 8178, 'overnight': 5417, 'seemingly': 6600, 'insignificant': 3980, 'greater': 3433, 'luxury': 4585, 'alongside': 621, 'essential': 2778, 'individuals': 3924, 'livelihoods': 4483, 'prioritize': 5890, 'ethics': 2791, 'permanently': 5588, 'practical': 5816, 'aboue': 420, 'principles': 5886, 'exclusively': 2841, 'refuse': 6198, 'selfish': 6624, 'term': 7397, 'someoneeven': 6939, 'worthwhile': 8241, 'professionally': 5926, 'directions': 2360, 'vulnerability': 8018, 'arrogance': 808, 'humility': 3781, 'occasionally': 5244, 'quilen': 6058, 'blackwell': 1159, 'friendship': 3182, 'transaction': 7609, 'harding': 3561, 'former': 3131, 'editorinchief': 2617, 'uncover': 7769, 'manifest': 4643, 'obstacles': 5241, 'carse': 1499, 'articulate': 811, 'sep': 6661, 'introvert': 4042, 'extrovert': 2885, 'motivations': 4975, 'bias': 1104, 'entrepreneurs': 2742, 'navy': 5059, 'seal': 6575, 'smartest': 6873, 'candidates': 1458, 'increase': 3912, 'likelihood': 4452, '11509': 41, 'captain': 1474, 'sully': 7222, 'sullenberger': 7221, 'airways': 581, 'airbus': 572, 'safely': 6478, 'hudson': 3771, 'capitalist': 1470, 'transform': 7612, 'soho': 6926, 'tom': 7552, 'kerr': 4256, 'cocktails': 1747, 'careless': 1490, 'finite': 3037, 'generosity': 3285, 'authorities': 894, 'legacies': 4396, 'gucci': 3476, 'marco': 4653, 'bizzarri': 1150, 'humiliate': 3780, 'grammynominated': 3408, 'singersongwriter': 6808, 'intelligence': 4002, 'possibilities': 5783, 'adopt': 506, 'tribes': 7640, 'psychologist': 5976, 'professor': 5928, 'lifelong': 4444, 'deadhead': 2184, 'drum': 2538, 'sweetest': 7290, 'organizational': 5345, 'author': 893, 'directionsand': 2361, 'harris': 3577, 'inspiration': 3983, 'behave': 1051, 'attain': 860, 'excitement': 2839, 'capture': 1476, 'openeven': 5314, 'voyeuristic': 8015, 'hinge': 3670, 'twenty': 7701, 'revolution': 6350, 'chadwick': 1561, 'boseman': 1240, 'tirelessly': 7520, 'compassion': 1829, 'bruce': 1336, 'organization': 5344, 'simon': 6792, 'onetimeonly': 5303, 'et': 2783, 'filmmaker': 3020, 'supremacists': 7253, 'documentary': 2446, 'chapters': 1587, 'trick': 7641, 'generous': 3286, 'witness': 8194, 'fuzzies': 3231, 'oxytocin': 5440, 'general': 3281, 'joint': 4175, 'operations': 5318, 'command': 1805, 'tunnel': 7687, 'king': 4278, 'correspondent': 1984, 'gif': 3319, 'bookclubcom': 1216, 'rollercoaster': 6415, 'deactivate': 2181, 'landmines': 4331, 'carolyn': 1496, 'adams': 486, 'worldrenown': 8231, 'dancer': 2150, 'pioneer': 5660, 'shin': 6728, 'purposeful': 6016, 'curiosity': 2111, 'judgement': 4201, '717': 351, 'grey': 3445, 'entrepreneurship': 2743, 'helene': 3627, 'seth': 6683, 'godin': 3368, 'thinkthat': 7451, 'serial': 6669, 'chapman': 1582, 'necessary': 5068, 'idealism': 3820, 'orange': 5337, 'reggie': 6202, 'guide': 3481, 'maxwell': 4706, 'nation': 5050, 'nfl': 5114, 'famer': 2917, '11am': 43, 'bind': 1125, 'jarik': 4127, 'conrad': 1901, 'connections': 1895, 'aga': 547, 'bajer': 956, 'sergeants': 6667, 'brednicki': 1293, 'matt': 4693, 'macky': 4595, 'pararescue': 5483, 'jumpers': 4212, 'hospitals': 3742, 'michelle': 4812, 'figueroa': 3014, 'accord': 451, 'traumatic': 7624, 'external': 2877, 'adapt': 487, 'handshake': 3534, 'resilience': 6294, 'successfully': 7206, 'jens': 4148, 'footage': 3112, 'uncharted': 7759, 'territory': 7404, 'uncertainty': 7758, 'jumpstart': 4214, 'interactive': 4013, '24th': 173, 'finiteminded': 3038, 'disruptive': 2409, 'infiniteminded': 3934, 'revel': 6340, 'lens': 4411, '17th': 94, 'glitches': 3346, 'professionals': 5927, 'frontlines': 3193, 'combat': 1787, 'medics': 4739, 'circle': 1667, 'est': 2779, '11th': 47, 'chappelle': 1584, 'roles': 6413, 'huddle': 3770, '16th': 90, '7pm': 363, 'barnes': 990, 'noble': 5144, 'union': 7808, 'square': 7041, '1030am': 18, 'inc': 3901, '9th': 408, 'partnership': 5502, 'poignant': 5726, 'belly': 1065, 'measure': 4728, 'interviewers': 4035, 'liabilities': 4428, 'strengths': 7151, 'terribly': 7401, 'healthier': 3609, 'unwilling': 7855, 'toborowsky': 7534, 'smartphone': 6874, 'nearconstant': 5065, 'basis': 1004, 'dangers': 2153, 'data': 2166, 'cortisol': 1988, 'impair': 3868, 'rational': 6112, 'biologically': 1132, 'ethically': 2790, 'questionable': 6045, 'disloyal': 2398, 'reed': 6186, 'hastings': 3585, 'elizabeth': 2665, 'streb': 7145, 'william': 8165, 'cameron': 1443, 'status': 7086, 'quo': 6064, 'comfortable': 1798, 'guillaume': 3483, 'apollinaire': 744, 'manipulate': 4645, 'accountability': 453, 'dreamers': 2522, 'planners': 5684, 'fulfill': 3204, 'potential': 5800, 'editor': 2616, 'misfit': 4888, 'repostreread': 6267, 'applestore': 761, '2hrs': 194, 'bvi': 1413, 'devastation': 2301, 'fort': 3133, 'atlanta': 855, 'discovery': 2384, 'workshops': 8228, 'zappos': 8331, 'tony': 7559, 'hsieh': 3766, 'sept': 6664, 'tix': 7526, 'commodity': 1816, 'orlando': 5362, 'tram': 7607, 'southwest': 6969, 'terminal': 7398, '730pm': 355, 'gmt': 3359, '5may': 319, 'servitude': 6679, 'ranger': 6093, 'chi': 1627, 'helpful': 3632, 'originate': 5360, 'millennial': 4850, 'catalyst': 1515, 'section': 6591, 'bookshop': 1219, 'selfhelp': 6621, 'millennials': 4851, '111': 35, '11am1pm': 44, '10th': 29, 'ave': 907, 'crown': 2077, 'thurs': 7487, 'barnesampnoble': 991, 'oct': 5254, 'disfruten': 2391, 'cockiness': 1745, 'cocky': 1748, 'scent': 6541, 'compose': 1843, 'perform': 5579, 'infuse': 3947, 'sniff': 6902, 'ny': 5217, 'nytnow': 5220, 'theresa': 7439, 'damnedifyoudodamnedif': 2146, 'rally': 6084, 'stoke': 7117, 'outrank': 5393, 'constraint': 1924, 'classesand': 1682, 'mswalk': 4997, 'ms': 4995, 'disposable': 2405, 'politicians': 5742, 'donald': 2464, 'ey': 2887, '33': 219, 'persevere': 5596, 'countless': 2004, 'precede': 5824, 'sharpen': 6713, 'obligation': 5231, 'pride': 5875, 'doc': 2442, 'transgender': 7616, 'selfdefinition': 6610, 'motor': 4976, 'wilbur': 8160, 'wright': 8251, 'chapmans': 1583, 'execs': 2843, 'shareholder': 6708, 'facilitate': 2897, 'gratitude': 3426, 'tamarac': 7336, 'shortterm': 6752, 'longterm': 4521, 'layoffs': 4371, 'liposuction': 4467, 'poorly': 5753, 'congratulations': 1888, 'achievements': 462, 'clone': 1714, 's1e17': 6465, 'frank': 3152, 'voehl': 8000, 'poet': 5721, 'sarah': 6515, 'kay': 4244, 'astronaut': 849, 'hadfields': 3507, 'fellow': 2985, 'inspirer': 3985, 'tie': 7496, 'rationalize': 6114, 'ury': 7876, 'sis': 6815, 'equinox': 2759, 'net': 5095, 'neutrality': 5099, 'repeal': 6258, 'glasssteagall': 3342, 'seminars': 6646, 'rochester': 6402, 'suit': 7220, 'byproducts': 1415, 'qualifications': 6033, 'vastly': 7919, 'micromanages': 4815, 'supportthen': 7250, 'sideline': 6770, 'metrics': 4800, 'policy': 5736, 'hackathon': 3502, 'intentions': 4009, 'upton': 7869, 'sinclair': 6805, 'gen': 3279, 'welsh': 8111, 'usaf': 7879, 'entirely': 2739, 'inspirers': 3986, 'realist': 6135, 'idealist': 3821, 'equation': 2757, 'capability': 1466, 'schumacher': 6548, 'ann': 695, 'degrade': 2230, 'meals': 4723, 'dieis': 2331, 'oneleast': 5300, 'simplicity': 6797, 'lbj': 4374, 'expense': 2857, 'gabi': 3237, 'daughter': 2168, 'plank': 5683, 'demographic': 2249, 'flatter': 3068, 'webcast': 8082, 'assoc': 843, 'edt': 2621, 'recognition': 6163, 'supervisor': 7244, 'counter': 2002, 'agent': 551, 'canada': 1451, 'incentives': 3902, 'stability': 7047, 'clairboyance': 1675, 'perceive': 5572, 'fluffy': 3091, 'dalai': 2142, 'lama': 4327, 'plane': 5681, 'mate': 4690, 'odds': 5257, 'paraphrase': 5482, 'marine': 4659, 'colonel': 1781, 'maximum': 4704, 'resonate': 6302, 'listeners': 4474, 'murmuration': 5011, 'starlings': 7072, 'diamond': 2317, 'camouflage': 1445, 'giggle': 3322, 'jason': 4128, 'gelles': 3275, 'outline': 5387, 'joseph': 4186, 'campbells': 1448, 'heros': 3643, 'bestseller': 1084, 'workwhich': 8229, 'emergencies': 2680, 'clarity': 1679, 'kudos': 4311, 'willingly': 8167, 'headshot': 3604, 'correction': 1983, 'broadway': 1324, '82nd': 376, 'realistic': 6136, 'commonly': 1818, 'smith': 6882, 'boomers': 1225, 'polite': 5737, 'attentive': 865, 'pleasant': 5702, 'jan': 4122, '2289': 163, 'st': 7045, 'tedxtalk': 7373, 'tedweekend': 7372, 'shelve': 6722, 'soderbergh': 6920, 'foundation': 3139, 'simpler': 6796, 'appease': 756, 'innovators': 3967, 'contempt': 1935, 'beneficiaries': 1074, 'streets': 7148, 'youth': 8318, 'donation': 2466, 'bestow': 1083, 'jpmorgan': 4196, 'veterans': 7944, 'positives': 5780, 'outweigh': 5400, 'absence': 423, 'doug': 2494, 'rauch': 6115, 'trader': 7599, 'joes': 4168, 'visionaries': 7986, 'communicate': 1819, 'protection': 5955, 'hostage': 3744, 'relish': 6233, 'romaneeconti': 6416, 'wellbeing': 8106, 'outsiders': 5397, 'campaign': 1447, 'adopter': 507, 'willingness': 8168, 'yesterdays': 8299, 'mindedness': 4858, 'empathize': 2693, 'criticize': 2068, 'brooklyn': 1328, 'owners': 5438, 'evolution': 2821, 'pilates': 5651, 'beget': 1046, 'complaints': 1835, 'keen': 4248, 'choreographers': 1651, 'emlecrone': 2683, 'abide': 415, 'edna': 2620, 'vincent': 7970, 'millay': 4848, 'breezeybree': 1296, 'flynn': 3095, 'usmc': 7888, 'ret': 6323, 'boil': 1206, 'truths': 7665, 'selfevident': 6620, 'equal': 2755, 'interaction': 4011, 'options': 5335, 'differentiate': 2336, 'differentiation': 2337, 'excess': 2835, 'shortfall': 6750, 'consequence': 1907, 'ed': 2607, 'catmull': 1521, 'pixar': 5672, 'thin': 7445, 'iphone': 4071, 'xray': 8272, 'iterate': 4104, 'cattle': 1522, 'washers': 8055, 'childrens': 1635, 'pittsburgh': 5669, 'sweat': 7282, 'susan': 7268, 'cain': 1428, 'pessimism': 5605, 'statue': 7084, 'statues': 7085, 'bird': 1138, 'outand': 5376, 'perfection': 5577, 'samuel': 6501, 'jackson': 4114, 'änger': 8348, 'lax': 4367, 'agents': 552, 'objective': 5229, 'honestincluding': 3715, 'nra': 5199, 'senator': 6648, 'boston': 1242, 'arlington': 795, 'cemetery': 1546, 'simonsaysinspires': 6793, 'swine': 7296, 'burger': 1386, 'astound': 848, 'pork': 5766, 'traditional': 7600, 'conningeri': 1896, 'sellingto': 6639, 'voici': 8005, 'conseils': 1905, 'que': 6041, 'jai': 4116, 'découverts': 2575, 'au': 874, 'fil': 3016, 'des': 2277, 'années': 706, 'de': 2180, 'façon': 2955, 'à': 8347, 'votre': 8013, 'auditoire': 882, 'veteran': 7943, 'wweeeooowww': 8263, 'chirp': 1642, '800': 369, 'pledge': 5705, 'forgo': 3126, 'entrepreneurial': 2741, 'government': 3395, 'devices': 2305, 'reconnect': 6169, 'koycazans': 4307, 'layoff': 4370, '121900': 51, 'combine': 1789, 'largest': 4339, 'airline': 573, 'gray': 3430, 'feminists': 2989, 'inhuman': 3954, 'reps': 6272, 'obama': 5222, 'victories': 7958, 'dems': 2254, 'senate': 6647, 'condition': 1864, 'sandy': 6509, 'carbon': 1478, 'footprint': 3114, 'deprivation': 2271, 'advertise': 519, 'ethical': 2789, 'idols': 3829, 'proacting': 5904, 'incredible': 3914, 'proact': 5903, 'constitution': 1922, 'pry': 5966, 'clearer': 1693, 'jesus': 4155, 'belt': 1069, 'caution': 1525, 'panel': 5468, 'attendants': 863, 'capt': 1473, 'reward': 6351, 'law': 4361, 'geek': 3274, 'chic': 1628, 'academics': 437, 'phil': 5620, 'lader': 4322, 'csaf': 2091, 'hr': 3764, 'depts': 2273, 'thoughtfulness': 7463, 'perseverance': 5595, 'circumstances': 1669, 'rob': 6390, 'membership': 4764, 'downgrade': 2499, 'bam': 969, 'permiss': 5589, 'ct': 2094, 'congress': 1889, 'offshore': 5270, 'adrian': 510, 'zackheim': 8329, 'gala': 3240, 'tshirt': 7672, 'beween': 1096, 'sucker': 7209, 'extinction': 2878, 'ray': 6120, 'johns': 4171, 'invention': 4047, 'application': 763, 'reputations': 6277, 'fashion': 2939, 'wsj': 8259, 'steadfast': 7091, 'superimpose': 7239, 'wind': 8172, 'dc': 2179, 'sandys': 6510, 'givers': 3337, 'takers': 7325, 'hurricane': 3791, 'caustic': 1524, 'coverage': 2019, 'devote': 2309, 'steve': 7103, 'balmer': 967, 'shareholders': 6709, 'overthrow': 5427, 'aim': 568, 'charles': 1593, 'srmani': 7044, 'sunny': 7230, 'disposition': 2407, 'themi': 7428, 'cardinal': 1483, 'dolan': 2456, 'belle': 1064, 'ode': 5258, 'justification': 4222, 'restrain': 6317, 'outerbanks': 5383, 'fry': 3196, 'donuts': 2472, 'dodgeball': 2448, 'dodge': 2447, 'wrench': 8249, 'meade': 4721, 'gotham': 3393, '4pm': 286, 'towel': 7585, 'luckier': 4567, 'beta': 1087, 'heck': 3623, 'coupon': 2009, '200k': 131, 'tn': 7530, 'diaries': 2320, 'instagrams': 3990, 'boomer': 1223, 'porno': 5769, 'french': 3167, 'babbel': 932, '6pm': 340, 'babble': 933, 'vlog': 7997, 'retweeted': 6332, 'mods': 4924, 'donos': 2469, 'raid': 6078, 'habitat': 3499, 'talladega': 7334, '1200pm': 49, 'premier': 5840, 'showcase': 6759, 'rust': 6461, 'server': 6676, '7521': 358, 'pwwwwease': 6025, 'miserable': 4886, 'uhhhhh': 7742, 'prize': 5901, 'brittany': 1321, 'hogwarts': 3697, 'reunion': 6335, 'sweet': 7289, 'poker': 5731, 'lolololololol': 4511, 'vlogs': 7998, 'org': 5342, 'dmca': 2437, 'oven': 5403, 'mario': 4660, 'wholesome': 8144, 'instrument': 3996, 'ludwigs': 4572, 'roast': 6389, 'nooooo': 5168, 'commission': 1811, 'middleof': 4823, 'u200dcarrying': 7724, 'u200dgame': 7725, 'braless': 1269, 'u200dbrings': 7723, 'sandwich': 6508, 'u200dnot': 7726, 'u200dasked': 7722, 'bot': 1243, 'lane': 4333, 'delight': 2240, 'poem': 5719, 'plz': 5712, 'upload': 7865, 'town': 7586, 'verify': 7936, 'eeekkkk': 2625, 'streamer': 7142, 'uno': 7834, 'qtcinderella': 6032, 'checkout': 1608, 'badass': 947, 'feelsstrongman': 2980, 'collar': 1769, 'tryna': 7668, 'ribbon': 6357, 'bunny': 1382, '2pm': 198, 'gather': 3266, 'lorehold': 4530, '101': 12, 'knife': 4296, 'mill': 4847, 'london': 4512, 'hypochondria': 3807, 'ludwig': 4571, 'groom': 3458, 'bride': 1306, 'pokimane': 5732, 'mizkif': 4906, 'unsafe': 7842, 'christ': 1655, 'tysm': 7719, 'levy': 4423, 'malds': 4626, '400pm': 250, 'preregister': 5852, 'martial': 4667, 'chaperon': 1581, 'exclude': 2840, 'suggestions': 7217, 'bridgerton': 1308, 'gossip': 3391, 'reinforcement': 6214, 'stumble': 7174, 'conspiracy': 1918, 'tik': 7501, 'tok': 7547, 'simp': 6794, 'kacey': 4226, 'pogchamp': 5724, 'bigot': 1114, 'wgm': 8117, 'goodluck': 3383, 'gm': 3356, 'ders': 2276, 'amiright': 656, 'rook': 6421, 'endgame': 2715, 'chess': 1624, 'stonewall': 7120, 'snow': 6906, 'minx': 4880, 'gay': 3269, 'pussy': 6020, 'ty': 7711, 'luudofest': 4584, 'favorites': 2954, 'champagne': 1569, 'hardwork': 3562, 'cafe': 1423, 'virgins': 7977, 'santa': 6513, 'claus': 1686, 'newspaper': 5111, 'swift': 7292, 'album': 588, 'throughout': 7479, 'dmcad': 2438, 'peeposhy': 5561, 'cutest': 2126, 'minecraft': 4864, 'stans': 7066, 'antibullying': 716, 'boze': 1261, 'heat': 3619, 'harem': 3564, 'sadge': 6474, 'youtooz': 8319, 'cease': 1533, 'desist': 2285, 'wut': 8262, 'fireball': 3040, 'tea': 7357, 'giselle': 3332, 'toms': 7554, 'sanderson': 6505, 'minxs': 4881, 'viewers': 7966, 'cad': 1422, 'nevermind': 5106, 'caress': 1491, 'titty': 7525, 'housewives': 3760, 'costume': 1995, 'todaywhere': 7538, 'kitchenwhich': 4285, 'contractors': 1943, 'womendressed': 8204, 'thotty': 7461, 'titties': 7524, 'refer': 6188, 'jw': 4225, 'pumpkins': 5993, 'whisky': 8130, 'awkwardly': 925, 'ringo': 6374, 'starr': 7073, 'cutie': 2127, 'ouija': 5373, 'board': 1197, 'selfies': 6623, 'browser': 1335, 'thirsty': 7455, 'main': 4613, 'splenda': 7014, 'calories': 1438, 'mod': 4916, 'feminism': 2988, 'donkey': 2467, 'diamonds': 2318, 'clitoris': 1712, 'ruminate': 6453, 'kaceytron': 4227, 'justaminx': 4221, 'among': 659, 'leak': 4383, '40000': 247, 'notifs': 5185, '610': 329, 'blaire': 1163, 'accent': 440, 'nostalgic': 5177, 'edating': 2608, 'e': 2576, 'weekly': 8092, '8ball': 388, 'intense': 4005, 'loathe': 4495, 'rober': 6393, 'blunder': 1193, 'glhf': 3345, 'sweaty': 7287, 'virgin': 7976, 'imma': 3857, 'toxicity': 7589, 'connor': 1897, 'dicks': 2326, 'connoreatstrash': 1898, 'ls': 4557, 'xd': 8266, 'mid': 4819, 'losingimperfection': 4538, 'craft': 2034, 'cheetos': 1614, 'tsm': 7674, 'suggest': 7216, 'topics': 7564, 'pogchamps': 5725, '300pm': 203, 'lasagna': 4343, 'throat': 7477, 'formally': 3129, 'infamy': 3930, 'lethal': 4418, 'omgggggg': 5294, 'quitter': 6062, 'geng': 3289, 'armadas': 797, 'ohssbm': 5277, 'portal': 5771, 'triumph': 7649, 'overstate': 5424, 'satisfaction': 6517, 'pwease': 6024, 'trend': 7636, 'welcome': 8104, 'pleas': 5701, 'negativity': 5077, 'ethot': 2792, 'legal': 4398, 'document': 2445, 'wallet': 8031, 'gurus': 3491, 'straw': 7139, 'frizzy': 3187, 'unmanageable': 7830, 'bully': 1373, 'penis': 5568, 'vitamin': 7996, '10s': 28, 'sippin': 6812, '50yr': 302, 'whiskey': 8129, 'throwin': 7482, 'dmcas': 2439, 'viagra': 7948, 'yt': 8324, 'sons': 6950, 'mint': 4876, 'sweatshirt': 7285, 'bone': 1210, 'confirmation': 1880, 'egirls': 2642, 'comin': 1803, 'cha': 1560, '22nd': 165, 'mama': 4633, 'melatonin': 4757, 'paralysis': 5480, 'hbu': 3597, '64': 330, 'chronicle': 1659, 'groceries': 3454, 'porch': 5764, 'illness': 3847, 'scapegoat': 6531, 'anyways': 732, 'hittin': 3684, '418': 259, 'coronaviruswas': 1979, 'slurpin': 6866, 'pi': 5636, 'truckers': 7656, 'runny': 6456, 'generally': 3282, 'europe': 2796, 'corona': 1977, 'weirdchamps': 8100, 'weirdchamp': 8099, 'soooo': 6954, 'mercury': 4785, 'gatorade': 3268, 'gemini': 3277, 'gfs': 3308, 'annnddd': 699, 'puberty': 5982, 'curse': 2117, 'rengar': 6255, 'equally': 2756, 'kinnndaaa': 4279, 'weeeiirddd': 8089, 'tier': 7497, 'resemblance': 6286, 'uncanny': 7757, 'wrestle': 8250, 'foreplay': 3120, 'tehehe': 7380, 'tiktoks': 7503, 'english': 2727, 'bathwater': 1013, 'upcharge': 7858, 'con': 1850, 'flare': 3064, 'ocdanxiety': 5248, 'rampant': 6087, 'er': 2764, 'vibes': 7950, 'eboy': 2600, 'bcspca': 1022, 'trihex': 7644, 'unborn': 7756, 'visa': 7980, 'actaually': 471, 'godgiven': 3367, 'nurture': 5212, 'vip': 7974, 'iyanla': 4108, 'alarm': 587, 'ensure': 2733, 'prosperity': 5951, 'prosperous': 5952, 'youngs': 8316, 'iyanlas': 4109, '59': 316, 'originally': 5359, 'praise': 5819, 'ponder': 5747, 'awaken': 915, 'alignment': 600, 'cherish': 1621, 'materialize': 4691, 'element': 2657, 'peacefull': 5549, 'corn': 1974, 'yoruba': 8310, 'proverb': 5963, 'joyfully': 4193, 'abundantly': 431, 'invaluable': 4045, 'freedom': 3162, 'genuine': 3299, 'direct': 2358, 'activity': 478, 'abundance': 429, 'celebration': 1538, 'successes': 7204, 'meditations': 4744, 'soothe': 6955, 'vanzant': 7916, 'forceful': 3116, 'somewhat': 6943, 'intimidate': 4037, 'acknowledge': 463, 'fertile': 2994, 'soil': 6927, 'affairs': 530, 'unfulfilled': 7797, 'unfold': 7791, 'baggage': 954, 'forgiveness': 3125, 'strengthen': 7150, 'withhold': 8191, 'diminish': 2351, 'awareness': 919, 'harmony': 3573, 'restore': 6316, 'development': 2303, 'wisely': 8185, 'freely': 3163, 'unexpected': 7787, 'encounter': 2709, 'unkind': 7820, 'makeovers': 4621, 'cheryl': 1623, 'richardson': 6361, 'unloving': 7829, 'reconfirm': 6168, 'dishearten': 2395, 'fullest': 3207, 'cleanse': 1691, 'breaths': 1291, 'disapproval': 2373, 'judgment': 4202, 'beloveds': 1068, 'abundant': 430, 'confess': 1873, 'goodness': 3384, 'backwards': 945, 'essence': 2777, 'envelope': 2745, 'divine': 2429, 'faith': 2910, 'conscious': 1902, 'cautious': 1527, 'literacy': 4476, 'frederic': 3160, 'brussat': 1340, 'mary': 4671, 'passage': 5506, '56': 314, 'meditate': 4742, 'eliminate': 2662, 'commitment': 1813, 'stagnate': 7053, 'imbalance': 3854, 'immune': 3865, 'distort': 2418, 'perceptions': 5574, 'false': 2915, 'beliefs': 1058, 'guidance': 3480, 'progressive': 5939, 'surface': 7257, 'label': 4318, 'continuously': 1941, 'energies': 2723, 'surrender': 7264, 'develop': 2302, 'november': 5193, '30th': 212, 'rosy': 6429, 'meditation': 4743, 'finetune': 3031, 'areas': 785, 'frantic': 3154, 'overwhelmingly': 5432, 'affirmation': 534, 'creation': 2047, 'wide': 8151, 'tidbit': 7494, 'fistful': 3050, 'pocket': 5715, 'muster': 5023, 'assist': 842, 'ernest': 2768, 'holmes': 3703, 'errors': 2772, 'consciousness': 1904, 'particular': 5500, 'occurrence': 5246, 'upon': 7866, 'peacefilled': 5547, 'resolve': 6301, 'conflict': 1881, 'task': 7348, 'farther': 2938, 'acknowledgment': 464, 'substitute': 7198, 'endow': 2717, 'victory': 7959, 'wonderfully': 8209, 'occur': 5245, 'preparation': 5846, 'louise': 4546, 'hay': 3592, '53': 307, 'barrage': 993, 'unreal': 7839, 'brilliance': 1314, 'devotion': 2310, 'reverent': 6345, 'establish': 2780, 'mechanism': 4732, 'commitments': 1814, 'dormant': 2486, 'positively': 5779, 'demonstration': 2253, 'recall': 6151, 'vitally': 7995, 'aspect': 827, 'pema': 5565, 'chodron': 1645, '52': 305, 'outgrow': 5385, 'unfamiliar': 7790, 'intent': 4007, 'examine': 2826, 'restrictions': 6319, 'insidious': 3978, 'trappings': 7621, 'selfcriticism': 6609, 'mssage': 4996, 'sixty': 6828, 'thyself': 7490, 'thich': 7441, 'nhat': 5120, 'hanhs': 3540, '51': 303, 'resistance': 6297, 'feather': 2968, 'sprout': 7036, 'armpits': 800, 'joyful': 4192, '54': 309, '7day': 361, 'transformational': 7614, 'angels': 688, 'randolph': 6088, 'deepen': 2210, '1319': 59, 'chatter': 1600, 'clutter': 1731, 'congestion': 1886, 'forth': 3134, 'sunrise': 7231, 'tremble': 7634, 'foundational': 3140, 'altars': 631, 'accommodate': 448, 'rightly': 6371, 'selfaffirming': 6606, 'counteract': 2003, 'unpleasant': 7835, 'defective': 2218, 'manifestations': 4644, 'alter': 632, 'hinder': 3667, 'curve': 2119, 'separation': 6663, 'demonstrate': 2252, 'innate': 3960, 'critical': 2066, 'expression': 2874, 'warrior': 8049, 'nonsense': 5163, 'haggard': 3508, 'minerals': 4865, 'resources': 6304, 'conservation': 1909, 'divinely': 2430, 'resource': 6303, 'renew': 6254, 'divinity': 2431, 'ground': 3461, 'midst': 4826, 'sustain': 7271, 'deed': 2207, 'consciously': 1903, 'wayne': 8067, 'muller': 5005, 'obedient': 5223, 'conserve': 1912, 'truest': 7659, 'recognizeand': 6165, 'overcomethe': 5407, 'barriers': 996, 'duties': 2564, 'propel': 5949, 'posture': 5796, 'flood': 3080, 'bow': 1253, 'redd': 6179, 'claybourne': 1688, 'champ': 1568, 'rodney': 6408, 'breedlove': 1295, 'sheka': 6721, 'erica': 2767, 'bryant': 1345, 'clay': 1687, 'quez': 6047, 'trey': 7637, 'monroe': 4946, 'chuck': 1660, 'sylvetta': 7302, 'revcoach': 6338, 'ashley': 821, 'montrey': 4951, 'drd': 2517, 'laura': 4359, 'scott': 6558, 'cohost': 1761, 'ttssues': 7677, 'request': 6278, 'lifechanging': 4439, 'farewell': 2934, '98c': 403, 'unique': 7809, 'representative': 6270, 'disposal': 2406, 'universal': 7814, 'character': 1588, 'distinctive': 2416, 'fullness': 3208, 'possibility': 5784, 'identify': 3824, 'guardians': 3475, 'outlook': 5388, 'mylife': 5029, 'jr': 4197, 'perhaps': 5582, 'nephews': 5087, 'grandsons': 3417, 'pipeline': 5662, 'greatgrandsons': 3435, 'grandmothers': 3413, 'harmful': 3569, 'bee': 1040, '151': 75, 'rig': 6369, 'twohour': 7709, 'reborn': 6148, 'journeythe': 4190, 'unpredictable': 7837, 'lynne': 4589, 'vetter': 7945, 'internationally': 4022, 'unsupportive': 7850, 'beloved': 1067, 'produce': 5914, 'dignity': 2346, 'nobility': 5143, '13th': 61, '5pm': 320, '8pm': 389, 'contagious': 1932, 'sturdy': 7181, 'dependent': 2264, 'restrict': 6318, 'invitation': 4061, 'oriah': 5354, 'dreamer': 2521, '46': 272, 'attend': 862, 'perpetual': 5593, 'principle': 5885, 'wholeheartedly': 8141, 'entrust': 2744, 'marriage': 4665, 'extend': 2875, 'obstacle': 5240, 'allnew': 607, 'bumpy': 1378, 'princes': 5882, 'harlem': 3566, 'ho': 3692, 'rehearse': 6211, 'reap': 6141, '10minute': 25, 'solid': 6930, 'unconsciously': 7766, 'organism': 5343, 'foolish': 3110, 'tonights': 7558, 'latonia': 4353, 'condo': 1865, 'misery': 4887, 'condemn': 1862, 'aside': 823, 'masculine': 4674, 'adversaries': 517, 'cautionary': 1526, 'tale': 7327, 'dimly': 2352, 'attract': 869, 'imperfection': 3876, 'endsdies': 2718, 'inquiry': 3970, 'horrify': 3735, 'sift': 6772, 'vulnerable': 8019, 'tackle': 7315, 'unforgivable': 7794, 'sacred': 6469, 'heartwarming': 3618, 'invoke': 4065, 'anotherheartache': 710, 'judgments': 4204, 'guardian': 3474, 'messengers': 4792, 'dvr': 2566, 'godappointed': 3364, 'raw': 6119, 'eva': 2797, 'bell': 1063, 'werber': 8112, 'lord': 4529, '44': 268, 'frighten': 3184, 'appoint': 766, 'grandmother': 3412, 'village': 7969, 'auntie': 886, 'mr': 4992, 'marc': 4651, 'ceremony': 1552, 'participation': 5499, 'ancestral': 676, 'dysfunctions': 2574, 'detachment': 2295, 'atone': 856, 'mindful': 4859, 'giles': 3323, 'pulp': 5989, 'fixin': 3058, 'rightsome': 6372, 'explosive': 2871, 'repetitive': 6261, 'dwell': 2569, 'vitality': 7994, 'roundabout': 6433, 'affirmative': 536, 'neutralize': 5100, 'mistrust': 4900, '43': 262, 'energetic': 2722, 'imperative': 3874, 'minor': 4874, 'overhaul': 5412, 'mysteries': 5034, 'spirituality': 7012, 'aspects': 828, 'unnoticed': 7833, 'reflections': 6194, 'philosophy': 5622, 'intolerance': 4038, 'selfsupport': 6632, 'painfilled': 5452, 'makeover': 4620, 'oooooo': 5309, 'parentchild': 5488, 'motherfather': 4972, 'sisterbrother': 6818, 'victimoppressor': 7955, 'wifehusband': 8153, 'reminders': 6244, 'selfvalue': 6634, 'outpouring': 5391, 'accrue': 456, 'himher': 3666, 'inferior': 3932, 'attitudes': 867, 'takeover': 7324, 'secondguessing': 6586, '42': 260, 'courageous': 2011, 'powerfulness': 5809, 'joyfulness': 4194, 'wholeness': 8142, 'completeness': 1839, 'tuck': 7680, 'authority': 895, 'pg': 5614, '170': 92, 'overly': 5416, '141': 64, 'awhile': 923, 'dilemma': 2347, 'legacy': 4397, 'intention': 4008, 'distinction': 2415, 'saturdays': 6520, 'toxins': 7591, 'purify': 6012, '38': 232, 'chemicals': 1618, 'toxin': 7590, 'elsea': 2671, 'storm': 7126, 'strife': 7155, 'vibration': 7952, 'adversity': 518, 'quickest': 6050, 'inflow': 3938, 'begrudge': 1049, 'retreat': 6328, 'pit': 5665, 'unleash': 7823, 'interpret': 4027, 'prey': 5872, 'gloom': 3350, 'profoundly': 5935, 'render': 6253, 'amend': 646, 'circumstance': 1668, 'effectiveness': 2632, 'muscle': 5012, 'finetuned': 3032, 'congruent': 1891, 'assure': 846, 'aprils': 777, 'align': 599, 'activities': 477, 'associate': 844, 'receptive': 6158, 'outer': 5382, 'funk': 3219, 'lurk': 4583, 'engage': 2725, 'elimination': 2663, 'enormous': 2731, 'jeanpaul': 4137, 'satre': 6518, 'destiny': 2291, 'twentyfour': 7702, 'phenomenally': 5619, 'mindblowing': 4857, 'harjos': 3565, 'resolution': 6299, 'laureate': 4360, '28': 188, 'undertake': 7779, 'endeavor': 2714, 'harbor': 3556, 'complement': 1836, 'reshape': 6291, 'redefine': 6182, 'iyanlavanzant': 4110, 'ooooooh': 5310, 'flexibility': 3075, 'regard': 6200, '41': 257, 'rag': 6077, 'superbeing': 7235, 'brilliantly': 1316, 'wellordered': 8109, 'lucados': 4564, '7th': 365, 'stormy': 7127, 'cellulite': 1544, 'midwife': 4830, 'mindless': 4861, 'defenses': 2221, 'enhance': 2729, 'bend': 1072, 'steady': 7092, 'deeply': 2214, 'classroom': 1685, '37': 229, 'plate': 5687, 'reliance': 6229, 'vehicle': 7928, 'trail': 7603, 'empowerment': 2702, 'cocreators': 1750, 'glue': 3355, 'harmlessly': 3570, 'boastful': 1199, 'utter': 7894, 'manner': 4646, 'theme': 7427, 'mitigate': 4902, 'pave': 5535, 'mentality': 4776, 'unlearn': 7822, 'foggy': 3100, 'psalm': 5970, '114': 40, 'nan': 5044, 'merrill': 4787, 'rationales': 6113, 'mature': 4697, 'sustenance': 7273, 'usual': 7890, 'unconscious': 7765, 'habitual': 3500, 'fog': 3099, 'dysfunctional': 2573, 'revelations': 6342, 'openness': 5315, 'readiness': 6128, 'cecily': 1534, 'resent': 6287, 'fboy': 2959, 'archipelago': 781, 'decline': 2204, 'jungle': 4217, 'cruise': 2081, 'sequel': 6665, 'boat': 1200, 'neck': 5069, 'pillow': 5654, 'ancestors': 675, 'flee': 3072, 'famine': 2922, 'ireland': 4077, 'intermittent': 4017, 'stupidest': 7179, 'frisbee': 3186, 'sourdough': 6967, '6yearold': 342, 'infectious': 3931, 'diseases': 2390, 'andor': 679, 'vilify': 7968, 'wilson': 8170, 'furious': 3224, 'expensive': 2858, 'cable': 1421, 'assassins': 831, 'creed': 2054, 'kominsky': 4304, 'method': 4798, 'opentoed': 5316, 'indoors': 3926, 'chap': 1580, 'woods': 8216, 'partake': 5496, 'olympic': 5287, 'island': 4096, 'glass': 3341, 'daniel': 2155, 'radcliffe': 6074, 'harry': 3580, 'potter': 5802, 'partridge': 5503, 'cunning': 2104, 'stunt': 7175, 'file': 3017, 'pedicure': 5556, 'pedofile': 5557, 'nightly': 5129, 'offhand': 5262, 'laxatives': 4368, 'dulcolax': 2551, 'sitcoms': 6822, 'educator': 2624, 'cocktail': 1746, 'architect': 782, 'availability': 904, 'logo': 4507, 'slogan': 6859, 'cocaine': 1743, 'brenna': 1297, 'cryptocurrency': 2088, 'madman': 4601, 'blockbuster': 1185, 'conan': 1851, 'obrien': 5235, 'biopic': 1134, 'politely': 5738, 'daytime': 2177, 'maury': 4699, 'postcovid': 5787, 'pickup': 5642, 'abercrombie': 414, 'fitch': 3053, 'nine': 5137, 'hundred': 3783, 'airbag': 570, 'unemployment': 7786, 'fiancé': 3008, 'ferrell': 2992, 'tbs': 7356, 'almighty': 614, 'thunder': 7486, 'supersized': 7241, 'dvrs': 2568, '101115pm': 15, 'funniest': 3221, 'schlansky': 6544, 'welldeserved': 8107, 'downward': 2504, 'spiral': 7009, 'covet': 2021, 'cigarettes': 1664, 'beef': 1041, 'rocketship': 6406, 'exceptions': 2833, 'bennifer': 1076, '17year': 95, 'kapow': 4236, 'mohammeds': 4926, 'dj': 2434, 'hbomax': 3595, 'jean': 4136, 'diarrhea': 2321, 'kathryn': 4242, 'hahn': 3510, '5th': 321, 'republic': 6273, 'cheek': 1609, 'merely': 4786, 'celery': 1542, 'jenny': 4147, 'lawyer': 4366, 'disbar': 2375, 'grownup': 3466, 'preinternet': 5837, 'yoga': 8306, 'eerily': 2628, 'lick': 4434, 'joystick': 4195, 'busters': 1398, 'sasha': 6516, 'ukraine': 7745, 'dungeons': 2559, 'dragons': 2510, 'comically': 1800, 'teacup': 7362, '20122014': 135, 'panda': 5466, 'sanctuary': 6503, 'cam': 1440, 'maralego': 4650, 'urinal': 7875, 'receiver': 6155, 'timothée': 7510, 'chalemet': 1565, 'willée': 8169, 'wonkée': 8211, 'wet': 8114, 'grass': 3423, 'analogies': 668, 'metaphors': 4797, 'similes': 6790, 'jon': 4181, 'gosselin': 3390, 'disneys': 2402, 'robin': 6395, 'hood': 3720, 'neighbor': 5083, 'jennifer': 4146, 'jenjamin': 4145, 'harmonize': 3572, '1110c': 36, 'minisode': 4873, 'wary': 8052, 'impassioned': 3870, 'marvel': 4669, 'cinematic': 1666, 'universes': 7816, 'firmly': 3045, 'relearn': 6226, 'cicada': 1662, 'todo': 7539, 'emerge': 2679, 'breakup': 1286, 'foremost': 3119, 'climate': 1703, 'nancys': 5045, 'dogecoin': 2452, 'actioncrammed': 474, 'novel': 5190, 'devil': 2306, '13yearold': 62, 'comedian': 1792, 'cannabis': 1461, 'porn': 5767, 'snl': 6904, 'rockefeller': 6404, 'emergency': 2681, 'hobis': 3696, 'curtain': 2118, 'capn': 1472, 'crunch': 2083, 'mutiny': 5025, 'momo': 4934, 'incomparable': 3910, 'motherdaughter': 4971, 'freudian': 3174, 'handsome': 3535, 'patriotic': 5530, 'soldier': 6929, 'areolas': 787, 'soften': 6923, 'census': 1547, 'glaxxon': 3344, 'robert': 6394, 'smigel': 6880, 'reassure': 6145, 'governor': 3396, 'merchandise': 4783, 'elaborate': 2647, 'jb': 4132, 'smoove': 6885, 'profane': 5923, 'oscar': 5368, 'kidnap': 4268, '6episode': 336, 'robots': 6401, 'appreciation': 769, 'bleep': 1173, 'bloop': 1189, 'pastor': 5516, 'pin': 5656, 'puppet': 6004, 'abbi': 413, 'jacobson': 4115, 'nonrefundable': 5162, '150000': 71, 'inflict': 3937, 'neediness': 5071, 'loyal': 4555, 'soup': 6964, 'cannon': 1462, 'novelty': 5192, 'buzzers': 1412, 'astonishment': 847, 'apples': 760, 'ediblea': 2613, 'meatball': 4730, 'suband': 7184, 'yoshi': 8311, 'appendix': 757, 'kong': 4305, 'godzilla': 3370, 'prequel': 5851, 'counsel': 2000, 'rash': 6104, 'adam': 485, 'mckay': 4719, 'theologians': 7432, 'judas': 4198, 'liberty': 4432, 'reopen': 6256, 'robocalling': 6399, 'algorithm': 594, 'astronauts': 850, 'orgasms': 5351, 'swap': 7279, 'lorne': 4533, 'michaels': 4811, 'takeout': 7323, 'leather': 4388, 'harness': 3574, 'tighter': 7499, 'autograph': 897, 'kyle': 4314, 'chandler': 1572, 'ingredients': 3952, 'booze': 1233, 'flannery': 3062, 'oconnors': 5253, '87c': 382, 'kate': 4240, 'misfortune': 4889, 'bike': 1115, 'largely': 4338, 'unaffected': 7751, 'nfls': 5115, 'trivia': 7650, 'mornings': 4959, 'raccoon': 6069, 'garage': 3255, 'candle': 1459, 'nightshe': 5134, 'wither': 8190, 'capitalism': 1469, 'knifepoint': 4297, 'elmo': 2667, '2022': 145, 'playstation': 5700, 'cvs': 2134, 'receipt': 6153, 'feeders': 2976, '3000': 201, 'deepfake': 2213, 'nonfungible': 5157, 'tokens': 7548, 'bedtime': 1039, '1100': 33, 'dunder': 2558, 'mifflin': 4831, 'dwights': 2571, 'royal': 6439, 'ginger': 3324, 'herbal': 3636, 'magnesium': 4609, 'cgi': 1559, 'luke': 4577, 'skywalker': 6842, 'lowrise': 4554, 'olsen': 5286, 'television': 7383, 'readers': 6127, 'bond': 1209, 'tall': 7333, 'irishness': 4080, 'dunkin': 2560, 'avocado': 911, 'toast': 7531, 'menu': 4780, 'snobs': 6905, 'ihop': 3839, 'stone': 7119, 'eligible': 2661, 'gamestop': 3249, 'powerfully': 5808, 'washingtons': 8056, 'wooden': 8215, 'invisaligns': 4059, 'nasas': 5049, 'rover': 6436, 'dexter': 2312, 'cruz': 2085, 'senators': 6649, 'toyotas': 7593, 'rav4': 6116, 'ravioli': 6118, 'glove': 3353, 'compartment': 1828, 'projector': 5941, 'petals': 5608, 'spotlight': 7027, 'z': 8327, 'unsung': 7848, 'grohl': 3456, 'mccartney': 4713, 'kfc': 4261, 'chocolates': 1644, 'thief': 7442, 'din': 2353, 'doorstep': 2480, 'redhaired': 6183, 'wandavision': 8037, 'piglets': 5647, 'puppies': 6005, 'frolic': 3188, 'basket': 1005, 'idris': 3830, 'elba': 2648, 'brady': 1264, '80s': 374, 'mitzvah': 4903, 'prediction': 5829, 'lv': 4586, 'tampa': 7337, 'kansas': 4234, 'xxxii': 8275, 'xxvi': 8274, 'iii': 3841, 'touchdowns': 7573, 'iv': 4107, 'mmmcmlxv': 4910, 'doorbell': 2476, 'sane': 6511, 'innocent': 3963, 'nows': 5197, 'stockpile': 7116, 'improv': 3890, 'punxsutawney': 6000, 'stayathome': 7088, 'governors': 3397, 'finest': 3030, 'zach': 8328, 'harper': 3575, 'axeine': 927, 'uber': 7730, 'ironically': 4083, 'sheriff': 6724, 'nottingham': 5188, 'harriet': 3576, 'tubman': 7679, 'slippery': 6858, 'slope': 6860, 'bradys': 1265, 'mypillow': 5030, 'pipe': 5661, 'cleaner': 1690, 'birbiglia': 1137, '1997': 109, 'f': 2892, 'hank': 3541, 'aaron': 411, 'patch': 5518, 'slovenia': 6862, '68': 333, 'marianas': 4656, 'trench': 7635, 'compromise': 1845, '15hour': 80, 'xylophones': 8276, 'impeachment': 3873, 'helicopter': 3628, 'kia': 4263, 'orwellian': 5366, 'salvage': 6497, 'rudy': 6450, 'giuliani': 3333, 'ladle': 4324, 'bean': 1024, 'briefcase': 1310, 'samantha': 6499, 'qanon': 6029, 'congresswoman': 1890, 'pfizer': 5613, 'moderna': 4922, 'daves': 2171, 'vaccines': 7901, 'fred': 3159, 'armisen': 798, 'hallways': 3525, 'arnold': 802, 'uniquely': 7810, '89': 384, 'nations': 5052, 'republican': 6274, 'ron': 6418, 'reagan': 6130, 'twoweek': 7710, 'deity': 2233, 'cutouts': 2131, 'georgia': 3302, 'schitts': 6543, 'creek': 2055, 'immaculate': 3858, 'wardrobe': 8043, 'extinguisher': 2879, 'mitch': 4901, 'mcconnell': 4715, 'psychology': 5977, 'downer': 2497, 'eve': 2800, 'kaczynski': 4228, 'gaydar': 3270, 'doorknobs': 2478, 'sever': 6688, 'constrain': 1923, 'heavy': 3622, 'cruel': 2080, 'houseplants': 3759, 'antivaxxer': 718, 'gacy': 3238, 'pardon': 5486, 'yankee': 8280, 'bottomshelf': 1247, 'bourbon': 1251, 'hotboxed': 3746, 'lyft': 4587, 'blackbeards': 1154, 'pirate': 5663, 'mainly': 4614, 'aholes': 565, 'parcel': 5485, 'porches': 5765, 'strain': 7133, 'british': 1320, 'breathtakingly': 1292, 'amy': 664, 'sedaris': 6594, 'feud': 2999, 'versions': 7938, 'rudolph': 6449, 'bowels': 1254, 'inlaws': 3958, 'orgy': 5352, 'brussels': 1341, '2002': 127, 'kaley': 4232, 'cuoco': 2105, 'titanic': 7522, '430pm': 264, 'rehearsal': 6210, 'elephant': 2659, 'nevergaveusamomentspeace': 5104, 'attorney': 868, 'moscow': 4967, 'giveaway': 3336, 'semimagic': 6645, 'underserved': 7777, 'kindred': 4277, 'performer': 5581, 'chapstick': 1585, 'kristin': 4310, '112920': 39, 'prim': 5877, 'dim': 2348, 'folder': 3102, 'clock': 1713, 'curfew': 2110, 'mandalorian': 4639, 'yodas': 8305, 'bobby': 1203, 'yoda': 8304, 'clutch': 1730, 'tupperware': 7688, 'obligate': 5230, 'secretary': 6588, 'transportation': 7619, 'doja': 2455, 'bebe': 1034, 'rexha': 6355, 'amas': 639, 'fing': 3033, 'concede': 1852, 'spreader': 7030, 'pal': 5460, 'fume': 3212, 'politicalmedical': 5741, 'stool': 7121, 'politic': 5739, 'alexander': 593, 'hamilton': 3528, 'africanamerican': 544, 'rapper': 6097, 'mechanisms': 4733, 'bidens': 1108, 'certificate': 1555, 'ghana': 3311, 'buffalo': 1359, '83': 377, 'landline': 4330, 'gerrymander': 3304, 'jim': 4161, 'parsons': 5494, 'hematoma': 3634, 'blink182': 1179, 'baseball': 999, 'shitton': 6736, 'drone': 2532, 'overjoy': 5413, 'older': 5283, '4minute': 285, 'bench': 1071, '380': 233, 'seance': 6577, 'grandparents': 3415, 'culkin': 2099, 'biohacker': 1131, 'ai': 566, 'ballot': 965, 'kanye': 4235, 'rashida': 6105, 'pony': 5748, 'outrun': 5395, 'mostly': 4968, 'sunset': 7232, 'nbc': 5061, 'travelogue': 7626, 'biker': 1116, 'quibi': 6048, 'crisp': 2063, 'everpresent': 2808, 'loom': 4525, 'annihilation': 696, 'americans': 650, 'lopezs': 4528, 'covidsafe': 2025, 'mystery': 5035, 'warriors': 8050, 'presidents': 5861, 'duck': 2544, 'goose': 3388, 'oval': 5402, 'irresponsible': 4087, 'pence': 5566, 'suburban': 7200, 'mortician': 4966, 'walter': 8036, 'alcoholic': 590, 'revelation': 6341, 'fanatical': 2926, 'psas': 5971, 'paste': 5515, 'afternoon': 545, 'residents': 6293, 'earthquake': 2588, 'diapers': 2319, 'zoombombed': 8341, 'mrs': 4993, 'keith': 4251, 'urbans': 7871, 'scientists': 6552, 'ruth': 6462, 'bader': 948, 'ginsburg': 3325, 'neve': 5102, 'intelligent': 4003, 'scorpion': 6557, 'cling': 1705, 'unprecedented': 7836, 'investigate': 4052, 'tamper': 7338, 'jokefree': 4177, 'putin': 6022, 'inperson': 3969, 'mailin': 4612, 'heatwave': 3620, 'boulevard': 1249, 'tank': 7344, 'darth': 2163, 'vader': 7902, 'thong': 7459, 'explosives': 2872, 'flammable': 3061, 'kardashians': 4238, 'luckily': 4568, 'column': 1785, 'paris': 5489, '135': 60, 'muffin': 5002, 'trajectory': 7606, 'luggage': 4574, 'bravery': 1273, 'denim': 2257, 'libertarian': 4431, 'participants': 5497, 'mlb': 4908, 'cutout': 2130, 'bizarre': 1149, 'theories': 7433, 'democracy': 2247, 'playoff': 5698, 'bracket': 1262, 'historians': 3678, 'creepier': 2057, 'tandem': 7341, 'kayak': 4245, 'publicist': 5984, 'steel': 7096, 'oats': 5221, 'german': 3303, 'iron': 4082, 'psychopath': 5978, 'morpheus': 4960, 'che': 1601, 'precivil': 5826, 'patent': 5519, 'fork': 3127, 'confederate': 1870, 'mailboxes': 4611, 'sox': 6970, 'crazier': 2042, 'avengers': 908, 'oversight': 5422, 'postmaster': 5790, 'crazytalented': 2044, 'spanish': 6981, 'reforget': 6196, 'reflective': 6195, 'assholes': 838, 'sour': 6965, 'zealand': 8332, 'loudly': 4544, 'ohhh': 5275, 'moneysaving': 4941, 'vanilla': 7915, 'milkshake': 4845, 'genredefying': 3296, 'twatch': 7696, 'assemble': 834, 'jigsaw': 4159, 'medically': 4738, 'graft': 3406, 'moreor': 4957, 'fewerrides': 3001, 'hitchhike': 3682, 'hopeful': 3726, 'tenet': 7394, 'jellyfish': 4143, 'sting': 7112, 'homework': 3710, 'opener': 5313, '1918': 104, 'freshest': 3172, 'herbs': 3637, 'vegetables': 7926, 'recipe': 6160, 'maskrelated': 4677, 'maskne': 4676, 'macne': 4596, 'covimples': 2026, '2ply': 197, 'washable': 8054, 'cloth': 1721, 'n95': 5039, 'sheet': 6720, 'postmate': 5791, '3pizza': 239, 'goldblum': 3372, 'calmly': 1436, 'chernobyl': 1622, 'miniseries': 4872, 'engross': 2728, 'cher': 1620, 'bull': 1370, 'border': 1234, 'diseased': 2389, 'ingrate': 3950, 'cram': 2036, 'mattress': 4696, 'largo': 4340, 'mansions': 4647, 'zealanders': 8333, 'rub': 6444, 'nudity': 5203, 'genitals': 3291, 'caftan': 1427, 'buyer': 1410, 'seller': 6637, 'scuba': 6569, 'divers': 2426, 'pov': 5805, 'score': 6555, 'woodchuck': 8214, 'crossfit': 2074, 'wildly': 8163, 'comic': 1799, 'inventive': 4048, 'subversive': 7201, 'primarily': 5878, 'compress': 1844, 'guitar': 3486, 'bmi': 1196, 'squeaky': 7042, 'church': 1661, 'glance': 3339, 'tuna': 7685, 'revise': 6348, 'shorten': 6748, 'bunt': 1383, 'harrow': 3579, 'afghanistan': 538, 'floss': 3084, 'downfall': 2498, 'canadians': 1453, 'dayno': 2175, '100th': 10, 'negro': 5082, 'milestone': 4841, 'civil': 1673, 'shoehorn': 6741, 'bildungsroman': 1118, 'biceps': 1105, 'spouse': 7028, 'chew': 1626, 'families': 2919, 'caregivers': 1489, 'sensation': 6656, '4dayold': 280, 'mango': 4642, 'upside': 7868, 'inadvertently': 3899, 'mushroom': 5015, 'growhouse': 3465, 'fdr': 2964, 'vary': 7918, 'officials': 5268, 'blackowned': 1157, 'moral': 4956, 'typecast': 7715, 'thoughtprovoking': 7465, 'commencement': 1807, 'russell': 6458, 'broth': 1330, 'synthetic': 7308, 'saliva': 6493, 'comics': 1802, 'robbie': 6391, 'wax': 8065, 'mold': 4928, 'oversleep': 5423, 'scandal': 6530, 'christina': 1656, 'applegate': 759, 'v': 7896, 'ferrari': 2991, 'wasps': 8057, 'stfu': 7106, 'yard': 8281, 'irish': 4078, 'teens': 7377, 'unnaturally': 7831, 'administration': 503, '4hour': 282, 'beekeeping': 1042, 'lorenzo': 4531, 'langstroth': 4334, 'hotdog': 3748, 'flyball': 3094, 'fenway': 2990, 'myers': 5028, 'liverpool': 4484, 'spaghetti': 6978, 'brazen': 1275, 'lockdownjust': 4500, 'spidermen': 7004, 'wander': 8038, 'smudge': 6887, 'almond': 615, 'latestage': 4352, 'glaucoma': 3343, '890': 385, 'barrel': 994, 'oil': 5278, 'ufos': 7736, 'airspace': 579, 'seniors': 6654, 'carmen': 1493, 'sandiego': 6506, 'equipment': 2761, 'camptown': 1449, 'heroes': 3642, 'loeffler': 4501, '600000': 326, 'gigantic': 3321, 'swatter': 7280, 'retrospect': 6329, 'hunger': 3785, 'oz': 5441, 'flatten': 3067, 'sharona': 6711, 'parody': 5493, 'prison': 5892, 'inmates': 3959, 'subject': 7186, 'crucifixion': 2079, 'jar': 4126, 'woes': 8197, 'segment': 6601, 'muscular': 5013, 'gator': 3267, 'everydaywear': 2812, 'sitcom': 6821, 'rerun': 6283, 'prom': 5942, 'lilyhammer': 4456, 'toothpaste': 7561, 'stirfry': 7113, 'schlesinger': 6545, 'fountains': 3142, 'accountant': 455, 'boredom': 1236, 'memorize': 4772, 'vice': 7953, 'silliness': 6785, 'coogan': 1960, 'postmates': 5792, 'ubering': 7731, 'upbeat': 7857, 'angelenos': 685, 'lalove': 4326, '21000': 156, 'repair': 6257, 'preparations': 5847, '330': 220, 'belgian': 1056, 'mister': 4898, 'beer': 1044, 'sanitizer': 6512, 'dose': 2487, 'hindsight': 3669, 'lickable': 4435, 'hound': 3753, 'skype': 6841, 'lego': 4406, 'lincoln': 4459, 'hotel': 3749, 'lifealtering': 4438, 'democratic': 2248, '108': 19, 'unappealing': 7753, 'silly': 6786, 'lori': 4532, 'loughlin': 4545, 'princeton': 5884, 'vegan': 7924, 'minus': 4877, 'bambis': 970, '9999': 406, 'reubens': 6334, '8000': 370, 'stadiums': 7049, 'xfl': 8267, 'croix': 2070, '1993': 108, 'seltzer': 6640, 'gravy': 3429, 'undo': 7784, '254': 177, 'steyer': 7105, 'delegate': 2236, 'lipton': 4470, 'ali': 596, 'lion': 4465, 'sandler': 6507, 'judd': 4199, 'apatow': 739, 'spy': 7038, 'resistant': 6298, 'attribute': 872, 'buttigiegs': 1407, 'momentum': 4933, 'fade': 2903, 'whiten': 8135, 'halfassed': 3518, 'charleston': 1594, 'myrtle': 5031, 'masticator': 4685, 'lawn': 4362, 'mower': 4990, 'teeth': 7379, 'tongue': 7556, 'stepdad': 7099, 'succession': 7207, 'selfdriving': 6618, 'joker': 4178, 'steeper': 7097, 'stairs': 7054, 'bash': 1001, 'junk': 4218, 'decay': 2195, 'bundt': 1381, 'detect': 2297, 'gwyneth': 3495, 'paltrows': 5462, 'prefrontal': 5834, 'cortex': 1987, 'burbank': 1384, '163': 84, 'cmon': 1734, 'bundle': 1380, 'toiletries': 7545, 'outdated': 5381, 'hyperspecific': 3806, 'memoriam': 4770, 'irishman': 4079, 'parasite': 5484, 'safety': 6481, 'emcee': 2678, 'generation': 3283, 'haiti': 3515, 'globe': 3349, 'transformative': 7615, 'soccer': 6913, 'singer': 6807, '330630': 221, 'writers': 8256, 'wga': 8116, 'awardsi': 917, 'girlcartoonmouse': 3328, 'candidate': 1457, 'slinky': 6856, 'jesse': 4153, 'eisenberg': 2645, 'duchess': 2543, 'meghan': 4754, 'vancouver': 7914, 'columbia': 1784, 'middleage': 4821, 'allstar': 610, 'cnn': 1736, 'homepage': 3709, 'font': 3106, 'weirdly': 8102, 'swiss': 7299, 'sekulow': 6602, 'mouthwash': 4982, 'madonna': 4603, 'catherine': 1520, 'oharas': 5274, 'ipod': 4073, 'shuffle': 6762, 'wifes': 8154, '47500792': 274, 'rogers': 6410, 'postcredits': 5788, 'nick': 5124, 'fury': 3227, 'hilariously': 3664, 'brutally': 1344, 'iran': 4076, 'pears': 5554, 'sleptwithapornstarandtriedtobuygreenland': 6850, 'meatloaf': 4731, 'barkley': 989, 'fivepoint': 3055, 'spur': 7037, 'experimental': 2861, 'barbershop': 983, 'quartets': 6040, 'firemen': 3043, 'drag': 2508, 'offstage': 5271, 'sonic': 6949, 'creature': 2052, 'labyrinth': 4320, 'witch': 8189, 'infamous': 3929, 'fart': 2937, 'sketch': 6830, 'beatle': 1029, 'piano': 5637, 'buff': 1358, 'squabble': 7039, 'dollop': 2459, 'beth': 1088, 'pancakes': 5465, 'inventor': 4049, 'waffle': 8021, 'garden': 3258, 'daycare': 2174, 'hanukkah': 3542, 'crank': 2037, 'coal': 1740, 'needlessly': 5073, 'anagram': 666, 'mistletoe': 4899, 'toilets': 7546, 'ferry': 2993, 'seattle': 6582, 'lone': 4513, 'apostrophes': 748, 'bestselling': 1085, 'scornful': 6556, 'impeach': 3872, 'nog': 5146, 'spackle': 6976, 'kumail': 4312, 'ridiculous': 6366, 'wondrous': 8210, 'boris': 1237, 'johnson': 4172, 'voters': 8012, 'tourists': 7580, 'hamlet': 3529, 'greta': 3444, 'glare': 3340, 'scorch': 6554, 'sperm': 7001, 'whale': 8118, 'eggflavored': 2640, 'nogflavored': 5147, 'stallions': 7057, 'bloomberg': 1188, 'lunge': 4580, 'pelotons': 5564, 'jesuss': 4156, 'eb': 2597, 'archive': 783, 'ukulele': 7746, 'alltime': 612, 'halfcourt': 3519, 'obradys': 5234, 'heterosexual': 3645, 'giulianis': 3334, 'boomered': 1224, 'yams': 8278, 'poetry': 5723, 'conservative': 1910, 'conservatives': 1911, 'hesitate': 3644, 'turkey': 7689, 'kiddie': 4267, 'phish': 5623, 'concert': 1858, 'familys': 2921, 'mexican': 4802, 'del': 2234, 'turko': 7690, '24second': 172, 'metal': 4794, 'garfunkel': 3259, 'comma': 1804, 'pepper': 5570, 'monorails': 4945, 'orgasm': 5350, 'ellen': 2666, 'degeneres': 2229, '1987': 107, 'sexiest': 6691, 'roger': 6409, 'dirt': 2364, 'sincerity': 6804, 'rick': 6362, 'ludwin': 4573, 'rudds': 6447, 'pornographic': 5770, 'howto': 3763, 'marinate': 4658, 'passengers': 5507, 'rotisserie': 6430, 'doughnuts': 2495, 'ringshape': 6375, '1847': 99, 'baker': 958, 'highend': 3652, 'cooker': 1962, '2027': 146, 'ashanti': 820, 'royalty': 6441, 'dinosaur': 2355, '109c': 20, 'ti': 7491, 'hymen': 3803, 'wingspan': 8177, 'meif': 4755, 'solo': 6931, 'bernie': 1079, 'sanders': 6504, 'radioactive': 6076, 'hippie': 3673, 'pope': 5757, 'isis': 4094, 'chowder': 1653, 'dayton': 2178, 'ohio': 5276, 'comptroller': 1846, 'mel': 4756, 'hindman': 3668, 'federal': 2973, 'offense': 5260, 'west': 8113, 'speedy': 6998, 'galifianakis': 3243, 'unscrupulent': 7844, 'quinoa': 6059, 'cluster': 1729, 'topsecret': 7565, 'offices': 5265, 'tokyo': 7549, 'republicans': 6275, 'jest': 4154, 'rudd': 6446, 'improbable': 3889, 'comedic': 1794, 'memorable': 4768, 'jenga': 4144, 'toblerone': 7533, 'thomas': 7458, 'jefferson': 4142, 'owls': 5436, 'abs': 422, 'tina': 7511, 'fey': 3002, 'judi': 4205, 'dench': 2255, 'millenials': 4849, 'district': 2421, '3way': 243, 'tyrell': 7718, 'theorist': 7434, 'nobel': 5142, 'chemistry': 1619, 'scientist': 6551, 'dan': 2148, 'harmon': 3571, 'pickle': 5641, 'sharpie': 6714, 'blacken': 1155, 'crocs': 2069, 'hotcakes': 3747, 'flapjacks': 3063, 'letterman': 4420, 'specific': 6991, 'dozen': 2505, 'donut': 2471, 'whistle': 8132, 'blower': 1191, 'testify': 7409, 'referee': 6189, 'uniform': 7803, 'spice': 7002, 'incessantly': 3904, 'siri': 6814, 'photoshop': 5631, 'crackle': 2033, 'walmart': 8035, 'ecigarettes': 2601, 'diabetes': 2314, 'threesomes': 7474, 'phlegmridden': 5624, 'frontier': 3192, 'tween': 7698, 'stroke': 7161, 'airpod': 576, 'butler': 1400, 'thousand': 7467, 'fifteen': 3012, 'avatar': 906, 'tape': 7346, 'sherbet': 6723, 'freezer': 3166, 'scrooges': 6568, 'ebeneezer': 2599, 'jumprope': 4213, 'improvise': 3893, 'synopsis': 7307, 'imdb': 3855, 'vaping': 7917, 'conclusive': 1861, 'singersongwritercomplete': 6809, 'actor': 479, 'matthew': 4695, 'mcconaughey': 4714, 'semester': 6643, 'flunk': 3092, 'oceans': 5250, 'casinos': 1510, 'dorian': 2484, 'redcross': 6178, '90999': 393, 'automatic': 898, 'mat': 4687, 'bitterly': 1147, 'mugabe': 5004, 'obituary': 5227, 'visine': 7984, 'eyeballchapstick': 2889, 'stupendous': 7176, 'construct': 1925, 'japan': 4124, 'dolphin': 2461, 'greenland': 3439, '12yearold': 57, 'popeyes': 5758, 'reheat': 6212, 'brew': 1300, 'sony': 6951, 'howard': 3761, 'denmark': 2258, 'papa': 5474, 'golf': 3375, 'maga': 4605, 'realtor': 6140, 'negotiations': 5081, 'norwegian': 5174, 'headline': 3602, 'presidency': 5858, 'eerie': 2627, 'aerosmith': 525, 'scarf': 6535, 'baptist': 980, 'transition': 7617, 'methodist': 4799, 'realism': 6134, 'hobbs': 3695, 'shaw': 6717, 'vet': 7942, 'physics': 5635, 'professors': 5929, 'cornellius': 1975, 'deborah': 2190, 'ginsburgfurious': 3326, 'preseason': 5853, 'football': 3113, 'petco': 5609, 'punt': 5999, 'endanger': 2713, 'species': 6990, 'bald': 962, 'eagle': 2580, 'soufflé': 6960, 'extraterrestrial': 2882, 'hobbes': 3693, 'eleanor': 2650, 'mort': 4962, 'seafoodbased': 6574, 'beverages': 1094, 'clamato': 1677, 'lifehack': 4441, 'wherever': 8126, 'carefully': 1488, 'renata': 6252, 'salad': 6487, '6part': 339, 'intervene': 4032, 'aap': 410, 'rocky': 6407, 'swedish': 7288, 'lifeguard': 4440, 'infinity': 3935, 'jewelryobsessed': 4157, 'italian': 4101, 'aperol': 740, 'eyelids': 2890, 'mueller': 5000, 'fireflies': 3042, 'flop': 3082, 'testimony': 7410, 'sleeveless': 6848, 'pantera': 5472, 'cupboard': 2107, 'sheeran': 6719, 'scurry': 6570, 'nemesis': 5086, 'pumbaa': 5990, 'innocence': 3962, 'downtown': 2503, 'diego': 2330, 'boardshorts': 1198, 'comiccon': 1801, 'gary': 3261, 'wick': 8148, 'wicks': 8149, 'bampb': 971, 'middleaged': 4822, 'lastminute': 4347, 'cancellation': 1455, 'hurricanes': 3792, 'eric': 2766, 'swalwell': 7278, 'scramble': 6559, 'tricky': 7642, 'fruit': 3194, 'computers': 1849, 'filthy': 3021, 'carol': 1495, 'channing': 1577, 'meryl': 4789, 'streep': 7146, 'emmy': 2684, 'rereleasing': 6282, 'executives': 2845, 'bullet': 1371, 'treasury': 7629, 'mnuchin': 4911, 'coward': 2027, 'delay': 2235, 'marianne': 4657, 'williamson': 8166, 'mila': 4837, 'kunis': 4313, 'illegal': 3846, 'teenager': 7375, 'kangol': 4233, 'instance': 3991, 'cliches': 1699, 'spank': 6982, 'julius': 4209, 'ikea': 3843, 'smelt': 6878, 'extract': 2881, 'ore': 5340, 'pharmacy': 5616, 'malt': 4631, '1948': 105, 'string': 7157, 'ghanaian': 3312, 'superstar': 7242, 'ghanas': 3313, 'jasper': 4129, 'beatles': 1030, 'african': 543, 'africa': 542, 'osu': 5370, 'asantehemaa': 817, 'tourism': 7579, 'kente': 4254, 'brinkley': 1318, 'ghanian': 3314, 'gastroenterologist': 3264, '8am': 386, 'osee': 5369, 'ye': 8283, 'papayes': 5475, 'etiquette': 2794, 'makola': 4625, 'joloff': 4180, 'rice': 6358, 'lounge': 4547, 'happily': 3549, 'recordif': 6171, 'russian': 6460, 'fbi': 2958, 'dvrd': 2567, 'thailand': 7420, 'spoilers': 7019, 'grim': 3449, 'reaper': 6142, 'highstakes': 3658, 'nitrofueled': 5140, 'robocall': 6398, 'twelve': 7700, 'mount': 4977, 'everest': 2806, 'swirl': 7298, 'clippers': 1710, 'bleach': 1171, 'grater': 3425, 'dell': 2245, 'garlic': 3260, 'macbook': 4593, 'ipad': 4070, 'jeopardy': 4149, 'cathartic': 1519, 'toronto': 7567, 'raptors': 6100, 'groundbreaking': 3462, 'nanette': 5046, 'pitfalls': 5668, 'selfdeprecation': 6611, 'shark': 6710, 'microwave': 4818, 'selfdestruct': 6612, 'weapon': 8075, 'lyin': 4588, 'crookednuts': 2071, 'incoherently': 3908, 'gryffindor': 3468, 'grindylow': 3451, 'pronounce': 5946, 'edmund': 2619, 'morris': 4961, 'historian': 3677, 'theodore': 7431, 'roosevelt': 6424, 'ronald': 6419, 'troop': 7651, 'udeid': 7732, 'afb': 529, 'qatar': 6030, 'lester': 4416, 'holt': 3706, 'chainsaw': 1563, 'massacre': 4679, 'psstcars': 5972, 'uso': 7889, 'monica': 4942, 'whoa': 8138, 'intake': 3999, 'condescend': 1863, 'burnett': 1389, 'tim': 7507, 'conway': 1957, 'flash': 3065, 'robinsons': 6397, 'damnit': 2147, 'delightfully': 2242, 'hader': 3506, 'multitalented': 5008, 'gentleman': 3298, 'hungover': 3787, 'cinco': 1665, 'mayo': 4709, 'fullseries': 3209, 'lentils': 4412, 'kentucky': 4255, 'derby': 2275, 'luigi': 4575, 'subsidies': 7194, '102': 16, 'cashier': 1508, '450': 271, 'beto': 1089, 'orourke': 5364, 'pete': 5610, 'buttigieg': 1405, 'yorker': 8309, 'cartoon': 1503, 'alldog': 603, 'rare': 6102, 'caro': 1494, 'russia': 6459, 'lizzo': 4486, 'leastfavorite': 4387, 'comeback': 1791, 'measles': 4727, 'voter': 8011, 'momoa': 4935, 'portraits': 5774, 'arya': 815, 'stark': 7071, 'frequently': 3170, 'margins': 4655, 'muellers': 5001, 'van': 7913, 'halen': 3516, 'coneedgeedge': 1869, 'overshadow': 5420, 'joan': 4164, 'harts': 3582, 'beyonce': 1097, 'australian': 890, 'crew': 2060, '10pm': 27, 'bumper': 1377, 'stickers': 7108, 'buttigieghickenlooper': 1406, 'shingle': 6730, 'mingle': 4866, 'apologies': 745, 'mortgage': 4965, 'websters': 8084, 'cliche': 1698, 'thirty': 7456, 'weirdest': 8101, 'prisoner': 5893, '1890': 101, 'batman': 1014, 'stereo': 7101, 'historic': 3679, 'peril': 5583, 'delightful': 2241, 'stiller': 7110, 'cohen': 1759, 'goldblums': 3373, 'wheat': 8122, 'ipa': 4069, 'bingewatching': 1129, 'nest': 5094, 'wiffle': 8155, 'noth': 5179, 'britain': 1319, 'defunded': 2227, 'olympics': 5288, 'cardi': 1481, 'catchphrase': 1517, 'okurr': 5281, 'hap': 3544, 'paps': 5478, 'kellyanne': 4253, 'makeup': 4623, 'romano': 6417, 'tremain': 7633, '1974': 106}\n"
     ]
    }
   ],
   "source": [
    "print(cv.vocabulary_)"
   ]
  },
  {
   "cell_type": "code",
   "execution_count": 75,
   "metadata": {},
   "outputs": [],
   "source": [
    "bagofwords = cv.transform(combined_data['tweet'])"
   ]
  },
  {
   "cell_type": "code",
   "execution_count": 76,
   "metadata": {},
   "outputs": [
    {
     "data": {
      "text/plain": [
       "(7745, 8386)"
      ]
     },
     "execution_count": 76,
     "metadata": {},
     "output_type": "execute_result"
    }
   ],
   "source": [
    "bagofwords.shape"
   ]
  },
  {
   "cell_type": "code",
   "execution_count": 77,
   "metadata": {},
   "outputs": [],
   "source": [
    "from sklearn.feature_extraction.text import TfidfTransformer"
   ]
  },
  {
   "cell_type": "code",
   "execution_count": 78,
   "metadata": {},
   "outputs": [],
   "source": [
    "tfidf = TfidfTransformer().fit(bagofwords)"
   ]
  },
  {
   "cell_type": "code",
   "execution_count": 79,
   "metadata": {},
   "outputs": [],
   "source": [
    "tfidff = tfidf.transform(bagofwords)"
   ]
  },
  {
   "cell_type": "code",
   "execution_count": 80,
   "metadata": {},
   "outputs": [
    {
     "data": {
      "text/plain": [
       "<7745x8386 sparse matrix of type '<class 'numpy.float64'>'\n",
       "\twith 59480 stored elements in Compressed Sparse Row format>"
      ]
     },
     "execution_count": 80,
     "metadata": {},
     "output_type": "execute_result"
    }
   ],
   "source": [
    "tfidff"
   ]
  },
  {
   "cell_type": "code",
   "execution_count": 81,
   "metadata": {},
   "outputs": [
    {
     "name": "stdout",
     "output_type": "stream",
     "text": [
      "sparsity: 0\n"
     ]
    }
   ],
   "source": [
    "sparsity = (100.0 * tfidff.nnz / (tfidff.shape[0] * tfidff.shape[1]))\n",
    "print('sparsity: {}'.format(round(sparsity)))"
   ]
  },
  {
   "cell_type": "code",
   "execution_count": 82,
   "metadata": {},
   "outputs": [],
   "source": [
    "from sklearn.model_selection import train_test_split"
   ]
  },
  {
   "cell_type": "code",
   "execution_count": 83,
   "metadata": {},
   "outputs": [],
   "source": [
    "X_train, X_test, y_train, y_test = train_test_split(tfidff, combined_data['Label'], test_size=0.25, random_state=100)"
   ]
  },
  {
   "cell_type": "code",
   "execution_count": 84,
   "metadata": {},
   "outputs": [],
   "source": [
    "from sklearn.naive_bayes import MultinomialNB"
   ]
  },
  {
   "cell_type": "code",
   "execution_count": 85,
   "metadata": {},
   "outputs": [],
   "source": [
    "model = MultinomialNB().fit(X_train, y_train)"
   ]
  },
  {
   "cell_type": "code",
   "execution_count": 111,
   "metadata": {},
   "outputs": [
    {
     "data": {
      "text/plain": [
       "{'alpha': 1.0, 'class_prior': None, 'fit_prior': True}"
      ]
     },
     "execution_count": 111,
     "metadata": {},
     "output_type": "execute_result"
    }
   ],
   "source": [
    "model.get_params()"
   ]
  },
  {
   "cell_type": "code",
   "execution_count": 86,
   "metadata": {},
   "outputs": [
    {
     "data": {
      "text/plain": [
       "array([[-9.37160809, -9.80953958, -7.41293662, ..., -9.80953958,\n",
       "        -9.80953958, -9.80953958]])"
      ]
     },
     "execution_count": 86,
     "metadata": {},
     "output_type": "execute_result"
    }
   ],
   "source": [
    "model.coef_"
   ]
  },
  {
   "cell_type": "code",
   "execution_count": 87,
   "metadata": {},
   "outputs": [],
   "source": [
    "prediction = model.predict(X_test)"
   ]
  },
  {
   "cell_type": "code",
   "execution_count": 88,
   "metadata": {},
   "outputs": [
    {
     "data": {
      "text/plain": [
       "array(['Not_Depressed', 'Not_Depressed', 'Not_Depressed', ...,\n",
       "       'Not_Depressed', 'Not_Depressed', 'Depressed'], dtype='<U13')"
      ]
     },
     "execution_count": 88,
     "metadata": {},
     "output_type": "execute_result"
    }
   ],
   "source": [
    "prediction"
   ]
  },
  {
   "cell_type": "code",
   "execution_count": 89,
   "metadata": {},
   "outputs": [],
   "source": [
    "from sklearn.metrics import classification_report"
   ]
  },
  {
   "cell_type": "code",
   "execution_count": 90,
   "metadata": {},
   "outputs": [
    {
     "name": "stdout",
     "output_type": "stream",
     "text": [
      "               precision    recall  f1-score   support\n",
      "\n",
      "    Depressed       0.80      0.84      0.82       711\n",
      "Not_Depressed       0.90      0.87      0.89      1226\n",
      "\n",
      "     accuracy                           0.86      1937\n",
      "    macro avg       0.85      0.86      0.85      1937\n",
      " weighted avg       0.86      0.86      0.86      1937\n",
      "\n"
     ]
    }
   ],
   "source": [
    "print(classification_report(prediction, y_test))"
   ]
  },
  {
   "cell_type": "code",
   "execution_count": 124,
   "metadata": {},
   "outputs": [],
   "source": [
    "#import xgboost as xgb"
   ]
  },
  {
   "cell_type": "code",
   "execution_count": 123,
   "metadata": {},
   "outputs": [],
   "source": [
    "#Xx_train = xgb.DMatrix(X_train, label= y_train)\n",
    "#Xx_test = xgb.DMatrix(X_test, label= y_test)"
   ]
  },
  {
   "cell_type": "code",
   "execution_count": null,
   "metadata": {},
   "outputs": [],
   "source": []
  },
  {
   "cell_type": "code",
   "execution_count": null,
   "metadata": {},
   "outputs": [],
   "source": []
  }
 ],
 "metadata": {
  "kernelspec": {
   "display_name": "Python 3 (ipykernel)",
   "language": "python",
   "name": "python3"
  },
  "language_info": {
   "codemirror_mode": {
    "name": "ipython",
    "version": 3
   },
   "file_extension": ".py",
   "mimetype": "text/x-python",
   "name": "python",
   "nbconvert_exporter": "python",
   "pygments_lexer": "ipython3",
   "version": "3.8.3"
  }
 },
 "nbformat": 4,
 "nbformat_minor": 4
}
